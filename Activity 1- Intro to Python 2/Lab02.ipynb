{
 "cells": [
  {
   "cell_type": "markdown",
   "metadata": {
    "id": "Ntvq5NipQPv4"
   },
   "source": [
    "# CS3DM - Lab 2\n",
    "\n",
    "## Objectives\n",
    "To understand some basic data structures that are useful for data mining, including lists, dictionaries and Numpy arrays.\n",
    "\n",
    "## Suggested Reading\n",
    "Jake VandePlas, *Python Data Science Handbook*, Chapters 2 and 3.1: <https://jakevdp.github.io/PythonDataScienceHandbook/>\n",
    "\n",
    "## Instructions\n",
    "This is a follow-on tutorial. There are a few _To DO_ blocks, but most of this tutorial is for you to follow through. Please take your time at each block to understand what is being done, and feel free to tinker, explore and modify any block to check your understanding (if you break anything you can always ctrl-Z, or in the worst case download the original Notebook again).\n",
    "*****"
   ]
  },
  {
   "cell_type": "markdown",
   "metadata": {
    "id": "WsJ_KtaNQ8WL"
   },
   "source": [
    "## Python Lists\n",
    "Python has a built-in list type, aptly named \"list\", which are written within square brackets. We can also use square brackets to access data. Remember that indexing in Python starts from zero."
   ]
  },
  {
   "cell_type": "code",
   "execution_count": null,
   "metadata": {},
   "outputs": [],
   "source": []
  },
  {
   "cell_type": "code",
   "execution_count": 4,
   "metadata": {
    "colab": {
     "base_uri": "https://localhost:8080/"
    },
    "id": "v8HNJE9gQuF1",
    "outputId": "b651d186-aa1d-4216-f2a2-e2df8ae99cbb"
   },
   "outputs": [
    {
     "name": "stdout",
     "output_type": "stream",
     "text": [
      "red\n",
      "blue\n",
      "green\n"
     ]
    }
   ],
   "source": [
    "colors = ['red', 'blue', 'green']\n",
    "for i in range(0, 3):    # note: range(0,3) = [0, 1, 2]\n",
    "  print(colors[i])\n"
   ]
  },
  {
   "cell_type": "markdown",
   "metadata": {
    "id": "sJI6_KrMRF2a"
   },
   "source": [
    "Note that assignments with `=` on a list object do not make copies of the object, but instead generate new variables pointing to the same one list in memory. This is a common source of errors. "
   ]
  },
  {
   "cell_type": "code",
   "execution_count": 5,
   "metadata": {
    "colab": {
     "base_uri": "https://localhost:8080/"
    },
    "id": "2GKqAGkiRDov",
    "outputId": "215f28e3-af07-4756-907d-69db293d3f86"
   },
   "outputs": [
    {
     "name": "stdout",
     "output_type": "stream",
     "text": [
      "['yellow', 'blue', 'green']\n"
     ]
    }
   ],
   "source": [
    "other = colors\n",
    "other[0] = \"yellow\"\n",
    "print(colors) # colors was changed indirectly"
   ]
  },
  {
   "cell_type": "code",
   "execution_count": 6,
   "metadata": {
    "colab": {
     "base_uri": "https://localhost:8080/"
    },
    "id": "6bl7qmQiRLZK",
    "outputId": "20e0a8dd-23dd-46e5-d19c-817cba614e10"
   },
   "outputs": [
    {
     "name": "stdout",
     "output_type": "stream",
     "text": [
      "['red', 'blue', 'green']\n"
     ]
    }
   ],
   "source": [
    "# To generate an actual copy we use \"slicing\" on the list\n",
    "colors = ['red', 'blue', 'green']\n",
    "other = colors[:]\n",
    "other[0] = \"yellow\"\n",
    "print(colors)\n"
   ]
  },
  {
   "cell_type": "code",
   "execution_count": 7,
   "metadata": {
    "colab": {
     "base_uri": "https://localhost:8080/"
    },
    "id": "kIhEuEH_RYqk",
    "outputId": "22b12e9f-4905-4d5e-eed2-bda405750f08"
   },
   "outputs": [
    {
     "name": "stdout",
     "output_type": "stream",
     "text": [
      "['yellow', 'blue', 'green']\n"
     ]
    }
   ],
   "source": [
    "print(other)"
   ]
  },
  {
   "cell_type": "markdown",
   "metadata": {
    "id": "nK7RFTbBRoeP"
   },
   "source": [
    "Defining lists is simple, as seen above. You can put any data types in a list (and even mix a bit!)"
   ]
  },
  {
   "cell_type": "code",
   "execution_count": 8,
   "metadata": {
    "colab": {
     "base_uri": "https://localhost:8080/"
    },
    "id": "99C6DAn8RdI9",
    "outputId": "2231124f-2745-4449-acb9-217ddbe601bc"
   },
   "outputs": [
    {
     "name": "stdout",
     "output_type": "stream",
     "text": [
      "['trek', 'cannondale', 'redline', 'specialised']\n",
      "[5, 4, 3, 2, 1]\n",
      "[True, 'hi', 34, 3.141592]\n"
     ]
    }
   ],
   "source": [
    "bicycles = ['trek', 'cannondale', 'redline', 'specialised']\n",
    "numbers = [5, 4, 3, 2, 1]\n",
    "mix_list = [True, \"hi\", 34, 3.141592]\n",
    "print(bicycles)\n",
    "print(numbers)\n",
    "print(mix_list)"
   ]
  },
  {
   "cell_type": "markdown",
   "metadata": {
    "id": "lp-MyXmoSLyY"
   },
   "source": [
    "We can access elements in a list by their indices, using square brackets. Negative indices allow us to start from the end of the list (which has index `[-1]`)"
   ]
  },
  {
   "cell_type": "code",
   "execution_count": 9,
   "metadata": {
    "colab": {
     "base_uri": "https://localhost:8080/"
    },
    "id": "727Pn4mfRxn_",
    "outputId": "abb96264-f1d2-4b11-b697-82936187de18"
   },
   "outputs": [
    {
     "name": "stdout",
     "output_type": "stream",
     "text": [
      "redline\n",
      "My first bicycle was a Marin.\n"
     ]
    }
   ],
   "source": [
    "print(bicycles[-2])\n",
    "\n",
    "bicycles[0] = 'marin' # Replace the last element \n",
    "message = \"My first bicycle was a \" + bicycles[0].title() + '.'\n",
    "print(message)"
   ]
  },
  {
   "cell_type": "code",
   "execution_count": null,
   "metadata": {
    "id": "IQ1T8Q21Sh3C"
   },
   "outputs": [],
   "source": []
  },
  {
   "cell_type": "markdown",
   "metadata": {
    "id": "W0gXcDFdS456"
   },
   "source": [
    "We can grow a list using the `append()` method, which allows us to build lists dynamically. The `insert()` method allows us to insert new elements anywhere (not only at the end)"
   ]
  },
  {
   "cell_type": "code",
   "execution_count": 10,
   "metadata": {
    "colab": {
     "base_uri": "https://localhost:8080/"
    },
    "id": "FPjOUHUxS-Ln",
    "outputId": "b078499c-8eee-431f-edad-404a852842e6"
   },
   "outputs": [
    {
     "name": "stdout",
     "output_type": "stream",
     "text": [
      "[]\n",
      "['trek', 'cannondale']\n"
     ]
    }
   ],
   "source": [
    "bicycles = [] # This makes an empty list\n",
    "print(bicycles)\n",
    "bicycles.append('trek')\n",
    "bicycles.append('cannondale')\n",
    "print(bicycles)"
   ]
  },
  {
   "cell_type": "code",
   "execution_count": 11,
   "metadata": {
    "colab": {
     "base_uri": "https://localhost:8080/"
    },
    "id": "sgua2qRJTCD3",
    "outputId": "765dfecc-5922-47a8-a33e-c19729869467"
   },
   "outputs": [
    {
     "name": "stdout",
     "output_type": "stream",
     "text": [
      "['trek', 'cannondale', 'redline', 'specialised']\n",
      "['trek', 'marin', 'cannondale', 'redline', 'specialised']\n"
     ]
    }
   ],
   "source": [
    "bicycles += ['redline', 'specialised'] # Another way to append\n",
    "print(bicycles)\n",
    "bicycles.insert(1, 'marin') # Inserts this bike at index 1 (i.e., second position)\n",
    "print(bicycles)"
   ]
  },
  {
   "cell_type": "code",
   "execution_count": 12,
   "metadata": {
    "colab": {
     "base_uri": "https://localhost:8080/"
    },
    "id": "JWx-s-gATCw1",
    "outputId": "932a8c1e-11f6-44aa-ae75-d21b505b89fe"
   },
   "outputs": [
    {
     "name": "stdout",
     "output_type": "stream",
     "text": [
      "['trek', 'marin', 'redline', 'specialised']\n"
     ]
    }
   ],
   "source": [
    "del bicycles[2] # You can also remove items from a list using the `del` statement\n",
    "print(bicycles)"
   ]
  },
  {
   "cell_type": "markdown",
   "metadata": {
    "id": "Hh35VXIyTWFV"
   },
   "source": [
    "Sometimes you'll want to use the value after you've deleted it from the list. Method `pop()` is useful in these cases,"
   ]
  },
  {
   "cell_type": "code",
   "execution_count": 13,
   "metadata": {
    "colab": {
     "base_uri": "https://localhost:8080/"
    },
    "id": "NzYwgqNZTOtt",
    "outputId": "2a995493-143b-42c3-a597-5e870eece42d"
   },
   "outputs": [
    {
     "name": "stdout",
     "output_type": "stream",
     "text": [
      "['trek', 'cannondale', 'redline']\n",
      "specialised\n"
     ]
    }
   ],
   "source": [
    "bicycles = ['trek', 'cannondale', 'redline', 'specialised']\n",
    "popped_bike = bicycles.pop()\n",
    "print(bicycles)\n",
    "print(popped_bike)"
   ]
  },
  {
   "cell_type": "code",
   "execution_count": 14,
   "metadata": {
    "colab": {
     "base_uri": "https://localhost:8080/"
    },
    "id": "jkldDPcGTd-C",
    "outputId": "f5df94e1-c41a-486e-9fec-8635390002bf"
   },
   "outputs": [
    {
     "name": "stdout",
     "output_type": "stream",
     "text": [
      "['trek', 'redline']\n",
      "cannondale\n"
     ]
    }
   ],
   "source": [
    "# You can pop from any index in the list.\n",
    "popped_bike = bicycles.pop(1)\n",
    "print(bicycles)\n",
    "print(popped_bike)"
   ]
  },
  {
   "cell_type": "code",
   "execution_count": 15,
   "metadata": {
    "colab": {
     "base_uri": "https://localhost:8080/"
    },
    "id": "acU3qSzETgYn",
    "outputId": "e9b633a0-6448-408e-83bf-32b730b573a5"
   },
   "outputs": [
    {
     "name": "stdout",
     "output_type": "stream",
     "text": [
      "['trek']\n"
     ]
    }
   ],
   "source": [
    "bicycles.remove(\"redline\") # You can also remove an item by value\n",
    "print(bicycles)"
   ]
  },
  {
   "cell_type": "markdown",
   "metadata": {
    "id": "DLmgcIzTT9C7"
   },
   "source": [
    "We can sort lists with the `sort()` and `reverse()` methods. Note both these methods **permanently** sort the list, and there is no way to go back to the original order."
   ]
  },
  {
   "cell_type": "code",
   "execution_count": 16,
   "metadata": {
    "colab": {
     "base_uri": "https://localhost:8080/"
    },
    "id": "_R6knRNnTorR",
    "outputId": "00cac242-fbc3-406b-a830-0dfec15fb2c8"
   },
   "outputs": [
    {
     "name": "stdout",
     "output_type": "stream",
     "text": [
      "['cannondale', 'redline', 'specialised', 'trek']\n"
     ]
    }
   ],
   "source": [
    "bicycles = ['trek', 'cannondale', 'redline', 'specialised']\n",
    "bicycles.sort()\n",
    "print(bicycles)"
   ]
  },
  {
   "cell_type": "code",
   "execution_count": 17,
   "metadata": {
    "colab": {
     "base_uri": "https://localhost:8080/"
    },
    "id": "TTXxhCphUFYo",
    "outputId": "669d14e6-e0e3-447f-e971-e49af2a9ed90"
   },
   "outputs": [
    {
     "name": "stdout",
     "output_type": "stream",
     "text": [
      "['trek', 'specialised', 'redline', 'cannondale']\n"
     ]
    }
   ],
   "source": [
    "bicycles.reverse()\n",
    "print(bicycles)"
   ]
  },
  {
   "cell_type": "code",
   "execution_count": 18,
   "metadata": {
    "colab": {
     "base_uri": "https://localhost:8080/"
    },
    "id": "tLsvnrE0UGgK",
    "outputId": "ffcd7551-19b4-440a-b43d-ff745870f992"
   },
   "outputs": [
    {
     "name": "stdout",
     "output_type": "stream",
     "text": [
      "Sorted List\n",
      "['cannondale', 'redline', 'specialised', 'trek']\n"
     ]
    }
   ],
   "source": [
    "bicycles = ['trek', 'cannondale', 'redline', 'specialised']\n",
    "print('Sorted List')\n",
    "print(sorted(bicycles)) # function sorted() generates a sorted copy (and leaves the original one unaltered)"
   ]
  },
  {
   "cell_type": "code",
   "execution_count": 19,
   "metadata": {
    "colab": {
     "base_uri": "https://localhost:8080/"
    },
    "id": "Ce4lNIP2UUpq",
    "outputId": "31e45eff-f7da-4c14-a1ef-7b577766b59f"
   },
   "outputs": [
    {
     "name": "stdout",
     "output_type": "stream",
     "text": [
      "Unsorted List\n",
      "['trek', 'cannondale', 'redline', 'specialised']\n"
     ]
    }
   ],
   "source": [
    "print('Unsorted List')\n",
    "print(bicycles)"
   ]
  },
  {
   "cell_type": "markdown",
   "metadata": {
    "id": "9u0UJ8XzUbJk"
   },
   "source": [
    "*****\n",
    "## TO DO\n",
    "(10 minutes)\n",
    "\n",
    "> Complete the cell below with code that iterates over all the **names** of the bycicles in the list and prints a different statement depending on whether the name has `<= 7` characters or not. Your result should look something like this:\n",
    "\n",
    "![Screenshot](data:image/png;base64,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)"
   ]
  },
  {
   "cell_type": "code",
   "execution_count": 20,
   "metadata": {
    "colab": {
     "base_uri": "https://localhost:8080/"
    },
    "id": "3m4Tyy5hVmyZ",
    "outputId": "e18d64f2-7eb8-4861-f4c1-550d9171dd3f"
   },
   "outputs": [
    {
     "name": "stdout",
     "output_type": "stream",
     "text": [
      "Bikes: ['trek', 'cannondale', 'redline', 'specialised']\n",
      "This bike has a shorter name: trek\n",
      "This bike has a longer name: cannondale\n",
      "This bike has a shorter name: redline\n",
      "This bike has a longer name: specialised\n"
     ]
    }
   ],
   "source": [
    "# Please complete this cell with your code\n",
    "bicycles = ['trek', 'cannondale', 'redline', 'specialised']\n",
    "print('Bikes: ' + str(bicycles))\n",
    "\n",
    "# Tip 1: I suggest using a 'for' loop.\n",
    "# Tip 2: use len() for the number of characters in a name.\n",
    "for i in bicycles:\n",
    "    if len(i)<=7:\n",
    "        print(f\"This bike has a shorter name: {i}\")\n",
    "    else:\n",
    "        print(f\"This bike has a longer name: {i}\")\n"
   ]
  },
  {
   "cell_type": "markdown",
   "metadata": {
    "id": "5bTBCg40ZQyE"
   },
   "source": [
    "*****\n",
    "\n",
    "## Dictionaries\n",
    "Dictionaries are another way in which we can store data. The key difference between dictionaries and lists is that dictionaries are _unordered_ sets of `key:value` pairs. Instead of accessing data by an index, we do it using field names. \n",
    "\n",
    "For example, in a dictionary containing people names, `firstName` could be a key and (in my case) `\"Felipe\"` would be the value.\n",
    "\n",
    "In Python dictionaries: \n",
    "- each key is separated from its value by a `:`, \n",
    "- the `key:value` pairs are separated by commas\n",
    "- the whole thing is enclosed in curly braces. \n",
    "- An empty dictionary without any items is written with just two curly braces, `{}`.\n",
    "- Keys are unique within a dictionary, but the same value can occur multiple times (think: there can me multiple `\"Peter\"`s in a group)\n",
    "- The values of a dictionary can be of any type, but the keys must be of an [immutable data type](https://towardsdatascience.com/https-towardsdatascience-com-python-basics-mutable-vs-immutable-objects-829a0cb1530a) such as strings, numbers, or tuples.\n",
    "\n",
    "A few examples of dictionaries (adapted from [here](https://www.python-course.eu/dictionaries.php)) are:"
   ]
  },
  {
   "cell_type": "code",
   "execution_count": 21,
   "metadata": {
    "colab": {
     "base_uri": "https://localhost:8080/"
    },
    "id": "fWMdu2eyVvff",
    "outputId": "a9b24f6c-d7a4-4679-f7a6-2fdee531afaa"
   },
   "outputs": [
    {
     "data": {
      "text/plain": [
       "{}"
      ]
     },
     "execution_count": 21,
     "metadata": {},
     "output_type": "execute_result"
    }
   ],
   "source": [
    "empty = {} # an empty dictionary\n",
    "empty"
   ]
  },
  {
   "cell_type": "code",
   "execution_count": 22,
   "metadata": {
    "colab": {
     "base_uri": "https://localhost:8080/"
    },
    "id": "fWPlpM3Ja9K3",
    "outputId": "c00e3b63-1d62-4f94-e9c7-1466b1c28aac"
   },
   "outputs": [
    {
     "name": "stdout",
     "output_type": "stream",
     "text": [
      "{'ham': 'yes', 'egg': 'yes', 'spam': 'no'}\n"
     ]
    }
   ],
   "source": [
    "# from Monty Python's famous \"Spam\" number\n",
    "food = {\"ham\" : \"yes\", \"egg\" : \"yes\", \"spam\" : \"no\" }\n",
    "print(food)"
   ]
  },
  {
   "cell_type": "code",
   "execution_count": 23,
   "metadata": {
    "colab": {
     "base_uri": "https://localhost:8080/",
     "height": 36
    },
    "id": "lvtzyOPra0VB",
    "outputId": "b4cff402-9426-47a5-995b-b0a09dc2e929"
   },
   "outputs": [
    {
     "data": {
      "text/plain": [
       "'no'"
      ]
     },
     "execution_count": 23,
     "metadata": {},
     "output_type": "execute_result"
    }
   ],
   "source": [
    "food[\"spam\"] # Use key to access/modify value"
   ]
  },
  {
   "cell_type": "code",
   "execution_count": 24,
   "metadata": {
    "colab": {
     "base_uri": "https://localhost:8080/"
    },
    "id": "ge5cnikSbMFY",
    "outputId": "fa2186ec-546b-4ca7-ac5a-83fa2fc7a9c3"
   },
   "outputs": [
    {
     "data": {
      "text/plain": [
       "{'ham': 'yes', 'egg': 'yes', 'spam': 'yes'}"
      ]
     },
     "execution_count": 24,
     "metadata": {},
     "output_type": "execute_result"
    }
   ],
   "source": [
    "food[\"spam\"] = \"yes\"\n",
    "food"
   ]
  },
  {
   "cell_type": "code",
   "execution_count": 25,
   "metadata": {
    "colab": {
     "base_uri": "https://localhost:8080/"
    },
    "id": "VC-SN0j6bCAa",
    "outputId": "931845f4-36a9-4b69-fc03-d114a7ff939b"
   },
   "outputs": [
    {
     "data": {
      "text/plain": [
       "{'color': 'green', 'points': 5, 'x_position': 0, 'y_position': 25}"
      ]
     },
     "execution_count": 25,
     "metadata": {},
     "output_type": "execute_result"
    }
   ],
   "source": [
    "alien_0 = {'color': 'green', 'points': 5}\n",
    "alien_0\n",
    "\n",
    "# Add new key-value pairs to an existing dictionary like this:\n",
    "alien_0['x_position'] = 0   # add a new key:value pair\n",
    "alien_0['y_position'] = 25  # add a new key:value pair\n",
    "alien_0"
   ]
  },
  {
   "cell_type": "markdown",
   "metadata": {
    "id": "zYYspHH8bmry"
   },
   "source": [
    "`key:value` pairs can be deleted in the same way we delete list entries."
   ]
  },
  {
   "cell_type": "code",
   "execution_count": 26,
   "metadata": {
    "colab": {
     "base_uri": "https://localhost:8080/"
    },
    "id": "8ajaCy0jblbx",
    "outputId": "919b9d46-5012-4b60-88ff-69abbcf658e1"
   },
   "outputs": [
    {
     "name": "stdout",
     "output_type": "stream",
     "text": [
      "{'color': 'green', 'points': 5}\n",
      "{'color': 'green'}\n"
     ]
    }
   ],
   "source": [
    "alien_0 = {'color': 'green', 'points': 5}\n",
    "print(alien_0)\n",
    "\n",
    "del alien_0['points']\n",
    "print(alien_0)"
   ]
  },
  {
   "cell_type": "code",
   "execution_count": 27,
   "metadata": {
    "colab": {
     "base_uri": "https://localhost:8080/"
    },
    "id": "b2noM-LQbt_K",
    "outputId": "e494f21e-a804-4d2a-88d8-ae4eb9731c4e"
   },
   "outputs": [
    {
     "name": "stdout",
     "output_type": "stream",
     "text": [
      "\n",
      "Key: login\tValue: fcampelo\n",
      "\n",
      "Key: first\tValue: Felipe\n",
      "\n",
      "Key: last\tValue: Campelo\n"
     ]
    }
   ],
   "source": [
    "# We can loop over a dictionary using the `items()` method.\n",
    "\n",
    "user_0 = {\n",
    "'login': 'fcampelo',\n",
    "'first': 'Felipe',\n",
    "'last': 'Campelo'\n",
    "}\n",
    "\n",
    "# notice that we can have multiple iterating variables, and that dictionaries are *unordered*\n",
    "for key, value in user_0.items(): \n",
    "    print(\"\\nKey: \" + key + \"\\tValue: \" + value)"
   ]
  },
  {
   "cell_type": "code",
   "execution_count": 28,
   "metadata": {
    "colab": {
     "base_uri": "https://localhost:8080/"
    },
    "id": "i0bRlUfdcE7B",
    "outputId": "7d7ae13a-66eb-4e0a-d937-137d1be008ef"
   },
   "outputs": [
    {
     "name": "stdout",
     "output_type": "stream",
     "text": [
      "Login\n",
      "First\n",
      "Last\n",
      "-------------\n",
      "FCAMPELO\n",
      "FELIPE\n",
      "CAMPELO\n"
     ]
    }
   ],
   "source": [
    "# Sometimes we only need to loop through keys and not values (or vice versa)\n",
    "\n",
    "for key in user_0.keys():\n",
    "    print(key.title()) # Printing key names in in Title Case (just because we can ;-) )\n",
    "\n",
    "print(\"-------------\")\n",
    "\n",
    "for value in user_0.values():\n",
    "    print(value.upper()) # Printing values in UPPER CASE\n"
   ]
  },
  {
   "cell_type": "code",
   "execution_count": 29,
   "metadata": {
    "colab": {
     "base_uri": "https://localhost:8080/"
    },
    "id": "z3JkTGDscuHK",
    "outputId": "c61da829-1a97-499b-8de5-f971230792f8"
   },
   "outputs": [
    {
     "name": "stdout",
     "output_type": "stream",
     "text": [
      "{'house': 'Haus', 'cat': 'Katze', 'red': 'rouge', 'blau': 'bleu'}\n"
     ]
    }
   ],
   "source": [
    "# Dictionaries can be updated using the `.update()` method:\n",
    "w  = {\"house\":\"Haus\", \"cat\":\"Katze\", \"red\":\"rot\"}\n",
    "w1 = {\"red\":\"rouge\",\"blau\":\"bleu\"}\n",
    "\n",
    "w.update(w1) # update one dictionary with another\n",
    "print(w)"
   ]
  },
  {
   "cell_type": "markdown",
   "metadata": {
    "id": "G6HAbYiqb-hF"
   },
   "source": [
    "Dictionaries can be combined in lists, or even nested (useful in certain types of data representation, such as hierarchical data)"
   ]
  },
  {
   "cell_type": "code",
   "execution_count": 30,
   "metadata": {
    "colab": {
     "base_uri": "https://localhost:8080/"
    },
    "id": "PnJE0rPub5B1",
    "outputId": "15484a32-d3ac-47c6-e795-064db96e854b"
   },
   "outputs": [
    {
     "name": "stdout",
     "output_type": "stream",
     "text": [
      "{'color': 'green', 'points': 5}\n",
      "{'color': 'yellow', 'points': 10}\n",
      "{'color': 'red', 'points': 15}\n"
     ]
    }
   ],
   "source": [
    "alien_0 = {'color': 'green', 'points': 5}\n",
    "alien_1 = {'color': 'yellow', 'points': 10}\n",
    "alien_2 = {'color': 'red', 'points': 15}\n",
    "\n",
    "# Make a dictionary list\n",
    "aliens = [alien_0, alien_1, alien_2]\n",
    "\n",
    "for alien in aliens:\n",
    "    print(alien)"
   ]
  },
  {
   "cell_type": "markdown",
   "metadata": {
    "id": "xn7TrJsdwwcG"
   },
   "source": [
    "*****\n",
    "## TO DO\n",
    "(5 minutes)\n",
    "\n",
    "Try building a multi-level dictionary called _users_, with the following structure: each **key** should be a username; the **value** associate with key should itself be a dictionary containing the following keys (and examples of associated values):\n",
    "  - `first`: user's first name\n",
    "  - `last`: user's last name\n",
    "  - `Location`: user's current location (city)\n",
    "\n",
    "Complete it in the following block. Please add at least 2 'users' in your dictionary."
   ]
  },
  {
   "cell_type": "code",
   "execution_count": 31,
   "metadata": {
    "id": "K7ng_qmYdM_t"
   },
   "outputs": [],
   "source": [
    "users = {\"aeinstein\":{\n",
    "                     \"first\": \"Albert\",\n",
    "                     \"last\": \"Einstein\",\n",
    "                     \"location\": \"Princeton\"\n",
    "                    },\n",
    "         \"mcurie\":{\n",
    "                     \"first\": \"Marie\",\n",
    "                     \"last\": \"Curie\",\n",
    "                     \"location\": \"Paris\"\n",
    "                    }\n",
    "        } # <----- Replace your solution here"
   ]
  },
  {
   "cell_type": "markdown",
   "metadata": {
    "id": "3oxXVEMzyvU7"
   },
   "source": [
    "Run the cell below to test if you'r solution is right. The result should look something like this:\n",
    "\n",
    "![Screenshot 2022-01-31 at 11.03.26.png](data:image/png;base64,iVBORw0KGgoAAAANSUhEUgAACLIAAAGOCAYAAACJhrhPAAAK1mlDQ1BJQ0MgUHJvZmlsZQAASImVlwdUU2kWgP/3XjoJLYB0Qu9IJ4CU0EPvTVRCEkgoISYEFbEh4giOBRERUEd0VEDB0RGQsSAWbIOCvU6QQUFdBws21OwDljAze3b37D3n5v/Ozf1v+d/7z7kPAEoISyjMhZUByBMUiGKD/WjJKak0/FMAAQygACPgwGKLhYzo6HCAyvT6V3l/G/VG5YbtRKx///+/iiqHK2YDAKWhnMERs/NQ7kL1OVsoKgAAOYjajRcVCCf4OspqIrRAlH+f4Kwp/jjBGZOMIU/6xMf6o0wDgEBmsURZAJBtUDutkJ2FxiFP9GAv4PAFKBej7M3msTgon0DZJi8vf4KHUbZA/YUAUNDTAfSMP8XM+kv8DHl8FitLzlN9TQohgC8W5rKW/J9H878lL1cyncMMVTJPFBI7kQ89v7s5+WFyFmRERk0znzNV0wTzJCEJ08wW+6dOM4cVECbfmxsZPs2Z/CCmPE4BM36aueLAuGkW5cfKc2WK/BnTzBJN5iWhLJXkJMjtPC5THr+IF580zYX8xMhpFufEhc34+MvtIkmsvH6uINhvJm+QvPc88Z/65TPlewt48SHy3lkz9XMFjJmY4mR5bRxuQOCMT4LcX1jgJ88lzI2W+3Nzg+V2cWGcfG8B+nLO7I2Wn2E2KzR6mgEfRAAWYNOUpgmAAu7igolG/POFS0T8LF4BjYHeNi6NKWDb2dAc7R0dAZi4u1Ovw+i1yTsJaanM2NY0AeD1TSaTfZyxMesBOEpHH8vjGZv5JgAUrwBwMZEtERVO2TATP1j06SkBNaAF9IExsAC2wBG4Ak/gCwJBKIgC8SAFzEdr5YE8IAKLQDFYBcpABdgEtoJasAvsAQfAIXAEtIMT4Ay4AK6A6+AWeACkYAi8AKPgPRiHIAgPUSAqpAUZQKaQNeQI0SFvKBAKh2KhFCgdyoIEkAQqhlZDFVAlVAvthhqhn6Dj0BnoEtQH3YMGoBHoDfQZRmAyrAbrwWbwbJgOM+AwOB6eB2fBC+EiuBTeANfADfBBuA0+A1+Bb8FS+AU8hgBEAdFADBFbhI74I1FIKpKJiJDlSDlSjTQgLUgn0oPcQKTIS+QTBoehYmgYW4wnJgSTgGFjFmKWY9ZjajEHMG2Yc5gbmAHMKOYbloLVxVpjPbBMbDI2C7sIW4atxu7DHsOex97CDmHf43A4DZw5zg0XgkvBZeOW4tbjduBacV24PtwgbgyPx2vhrfFe+Cg8C1+AL8Nvxx/En8b344fwHwkKBAOCIyGIkEoQEEoI1YQmwilCP+EZYZyoTDQlehCjiBziEuJG4l5iJ/EacYg4TlIhmZO8SPGkbNIqUg2phXSe9JD0VkFBwUjBXSFGga+wUqFG4bDCRYUBhU9kVbIV2Z+cRpaQN5D3k7vI98hvKRSKGcWXkkopoGygNFLOUh5TPipSFe0UmYocxRWKdYptiv2Kr5SISqZKDKX5SkVK1UpHla4pvVQmKpsp+yuzlJcr1ykfV76jPKZCVXFQiVLJU1mv0qRySWVYFa9qphqoylEtVd2jelZ1kIpQjan+VDZ1NXUv9Tx1SA2nZq7GVMtWq1A7pNarNqququ6snqi+WL1O/aS6VAPRMNNgauRqbNQ4onFb4/MsvVmMWdxZ62a1zOqf9UFTR9NXk6tZrtmqeUvzsxZNK1ArR2uzVrvWI22MtpV2jPYi7Z3a57Vf6qjpeOqwdcp1jujc14V1rXRjdZfq7tG9qjump68XrCfU2653Vu+lvoa+r362fpX+Kf0RA6qBtwHfoMrgtMFzmjqNQcul1dDO0UYNdQ1DDCWGuw17DceNzI0SjEqMWo0eGZOM6caZxlXG3cajJgYmESbFJs0m902JpnRTnuk20x7TD2bmZklma83azYbNNc2Z5kXmzeYPLSgWPhYLLRosblriLOmWOZY7LK9bwVYuVjyrOqtr1rC1qzXfeod1nw3Wxt1GYNNgc8eWbMuwLbRtth2w07ALtyuxa7d7NdtkdurszbN7Zn+zd7HPtd9r/8BB1SHUocSh0+GNo5Uj27HO8aYTxSnIaYVTh9NrZ2tnrvNO57suVJcIl7Uu3S5fXd1cRa4triNuJm7pbvVud+hq9Gj6evpFd6y7n/sK9xPunzxcPQo8jnj84WnrmePZ5Dk8x3wOd87eOYNeRl4sr91eUm+ad7r3D95SH0Mflk+DzxNfY1+O7z7fZwxLRjbjIOOVn72fyO+Y3wd/D/9l/l0BSEBwQHlAb6BqYEJgbeDjIKOgrKDmoNFgl+ClwV0h2JCwkM0hd5h6TDazkTka6ha6LPRcGDksLqw27Em4VbgovDMCjgiN2BLxMNI0UhDZHgWimFFboh5Fm0cvjP4lBhcTHVMX8zTWIbY4tieOGrcgrinufbxf/Mb4BwkWCZKE7kSlxLTExsQPSQFJlUnS5NnJy5KvpGin8FM6UvGpian7UsfmBs7dOncozSWtLO32PPN5i+ddmq89P3f+yQVKC1gLjqZj05PSm9K/sKJYDayxDGZGfcYo25+9jf2C48up4oxwvbiV3GeZXpmVmcNZXllbskZ4Prxq3ku+P7+W/zo7JHtX9oecqJz9ObLcpNzWPEJeet5xgaogR3AuXz9/cX6f0FpYJpQu9Fi4deGoKEy0TwyJ54k7CtTQIemqxEKyRjJQ6F1YV/hxUeKio4tVFgsWX11itWTdkmdFQUU/LsUsZS/tLjYsXlU8sIyxbPdyaHnG8u4VxitKVwytDF55YBVpVc6qX0vsSypL3q1OWt1Zqle6snRwTfCa5jLFMlHZnbWea3d9h/mO/13vOqd129d9K+eUX66wr6iu+LKevf7y9w7f13wv25C5oXej68adm3CbBJtub/bZfKBSpbKocnBLxJa2KlpVedW7rQu2Xqp2rt61jbRNsk1aE17Tsd1k+6btX2p5tbfq/Opa63Xr19V/2MHZ0b/Td2fLLr1dFbs+/8D/4e7u4N1tDWYN1Xtwewr3PN2buLfnR/qPjfu091Xs+7pfsF96IPbAuUa3xsYm3aaNzXCzpHnkYNrB64cCDnW02LbsbtVorTgMDksOP/8p/afbR8KOdB+lH2352fTn+mPUY+VtUNuSttF2Xru0I6Wj73jo8e5Oz85jv9j9sv+E4Ym6k+onN54inSo9JTtddHqsS9j18kzWmcHuBd0PziafvXku5lzv+bDzFy8EXTjbw+g5fdHr4olLHpeOX6Zfbr/ieqXtqsvVY7+6/Hqs17W37ZrbtY7r7tc7++b0ner36T9zI+DGhZvMm1duRd7qu51w++6dtDvSu5y7w/dy772+X3h//MHKh9iH5Y+UH1U/1n3c8Jvlb61SV+nJgYCBq0/injwYZA+++F38+5eh0qeUp9XPDJ41DjsOnxgJGrn+fO7zoRfCF+Mvy/6h8o/6Vxavfv7D94+ro8mjQ69Fr2Vv1r/Verv/nfO77rHoscfv896Pfyj/qPXxwCf6p57PSZ+fjS/6gv9S89Xya+e3sG8PZXkymZAlYk2OAgiqcGYmAG/2o7NxCgBUdC4nzZ2arScFmvoemCTwn3hq/p4UVwBafAGIQZWB6tGJcRZdKV0ARKFrvC+AnZzk+i8RZzo5TsVSbAYAbyiTvckHgIjql2CZbDxaJvuKzjbITQBODU/N9BOCQ2f5Fp09IyH8G/3d4O8yNe//qce/r2CiAmfw9/Wf5DocHMj2dHQAAACKZVhJZk1NACoAAAAIAAQBGgAFAAAAAQAAAD4BGwAFAAAAAQAAAEYBKAADAAAAAQACAACHaQAEAAAAAQAAAE4AAAAAAAAAkAAAAAEAAACQAAAAAQADkoYABwAAABIAAAB4oAIABAAAAAEAAAiyoAMABAAAAAEAAAGOAAAAAEFTQ0lJAAAAU2NyZWVuc2hvdEwOwhAAAAAJcEhZcwAAFiUAABYlAUlSJPAAAAHXaVRYdFhNTDpjb20uYWRvYmUueG1wAAAAAAA8eDp4bXBtZXRhIHhtbG5zOng9ImFkb2JlOm5zOm1ldGEvIiB4OnhtcHRrPSJYTVAgQ29yZSA2LjAuMCI+CiAgIDxyZGY6UkRGIHhtbG5zOnJkZj0iaHR0cDovL3d3dy53My5vcmcvMTk5OS8wMi8yMi1yZGYtc3ludGF4LW5zIyI+CiAgICAgIDxyZGY6RGVzY3JpcHRpb24gcmRmOmFib3V0PSIiCiAgICAgICAgICAgIHhtbG5zOmV4aWY9Imh0dHA6Ly9ucy5hZG9iZS5jb20vZXhpZi8xLjAvIj4KICAgICAgICAgPGV4aWY6UGl4ZWxZRGltZW5zaW9uPjM5ODwvZXhpZjpQaXhlbFlEaW1lbnNpb24+CiAgICAgICAgIDxleGlmOlBpeGVsWERpbWVuc2lvbj4yMjI2PC9leGlmOlBpeGVsWERpbWVuc2lvbj4KICAgICAgICAgPGV4aWY6VXNlckNvbW1lbnQ+U2NyZWVuc2hvdDwvZXhpZjpVc2VyQ29tbWVudD4KICAgICAgPC9yZGY6RGVzY3JpcHRpb24+CiAgIDwvcmRmOlJERj4KPC94OnhtcG1ldGE+ChujBIIAAAAcaURPVAAAAAIAAAAAAAAAxwAAACgAAADHAAAAxwAAbyisFuCaAABAAElEQVR4AezdebhVc///8XelXCJFVBJ+GRIVaaBSyNSAupHL0HQnmZWxJERFGRKhEhlChpKS7kqlQog7imbKnZJEGVLuNPh5ra/PutdeZ+199j5n73P2OZ6f66q9hs+aHmvt3R/r1ftT4o8/m9EQQAABBBBAAAEEEEAAAQQQQAABBBBAAAEEEEAAAQQQQAABBBBAAAEEEChkgRIEWQr5DnB4BBBAAAEEEEAAAQQQQAABBBBAAAEEEEAAAQQQQAABBBBAAAEEEEAAAU+AIAsPAgIIIIAAAggggAACCCCAAAIIIIAAAggggAACCCCAAAIIIIAAAggggEBWCBBkyYrbwEkggAACCCCAAAIIIIAAAggggAACCCCAAAIIIIAAAggggAACCCCAAAIIEGThGUAAAQQQQAABBBBAAAEEEEAAAQQQQAABBBBAAAEEEEAAAQQQQAABBBDICgGCLFlxGzgJBBBAAAEEEEAAAQQQQAABBBBAAAEEEEAAAQQQQAABBBBAAAEEEEAAAYIsPAMIIIAAAggggAACCCCAAAIIIIAAAggggAACCCCAAAIIIIAAAggggAACWSFAkCUrbgMngQACCCCAAAIIIIAAAggggAACCCCAAAIIIIAAAggggAACCCCAAAIIIECQhWcAAQQQQAABBBBAAAEEEEAAAQQQQAABBBBAAAEEEEAAAQQQQAABBBBAICsECLJkxW3gJBBAAAEEEEAAAQQQQAABBBBAAAEEEEAAAQQQQAABBBBAAAEEEEAAAQQIsvAMIIAAAggggAACCCCAAAIIIIAAAggggAACCCCAAAIIIIAAAggggAACCGSFAEGWrLgNnAQCCCCAAAIIIIAAAggggAACCCCAAAIIIIAAAggggAACCCCAAAIIIIAAQRaeAQQQQAABBBBAAAEEEEAAAQQQQAABBBBAAAEEEEAAAQQQQAABBBBAAIGsECDIkhW3gZNAAAEEEEAAAQQQQAABBBBAAAEEEEAAAQQQQAABBBBAAAEEEEAAAQQQIMjCM4AAAggggAACCCCAAAIIIIAAAggggAACCCCAAAIIIIAAAggggAACCCCQFQIEWbLiNnASCCCAAAIIIIAAAggggAACCCCAAAIIIIAAAggggAACCCCAAAIIIIAAAgRZeAYQQAABBBBAAAEEEEAAAQQQQAABBBBAAAEEEEAAAQQQQAABBBBAAAEEskKAIEtW3AZOAgEEEEAAAQQQQAABBBBAAAEEEEAAAQQQQAABBBBAAAEEEEAAAQQQQIAgC88AAggggAACCCCAAAIIIIAAAggggAACCCCAAAIIIIAAAggggAACCCCAQFYIEGTJitvASSCAAAIIIIAAAggggAACCCCAAAIIIIAAAggggAACCCCAAAIIIIAAAggQZOEZQAABBBBAAAEEEEAAAQQQQAABBBBAAAEEEEAAAQQQQAABBBBAAAEEEMgKAYIsWXEbOAkEEEAAAQQQQAABBBBAAAEEEEAAAQQQQAABBBBAAAEEEEAAAQQQQAABgiw8AwgggAACCCCAAAIIIIAAAggggAACCCCAAAIIIIAAAggggAACCCCAAAJZIUCQJStuAyeBAAIIIIAAAggggAACCCCAAAIIIIAAAggggAACCCCAAAIIIIAAAgggQJCFZwABBBBAAAEEEEAAAQQQQAABBBBAAAEEEEAAAQQQQAABBBBAAAEEEEAgKwQIsmTFbeAkEEAAAQQQQAABBBBAAAEEEEAAAQQQQAABBBBAAAEEEEAAAQQQQAABBAiy8AwggAACCCCAAAIIIIAAAggggAACCCCAAAIIIIAAAggggAACCCCAAAIIZIUAQZasuA2cBAIIIIAAAggggAACCCCAAAIIIIAAAggggAACCCCAAAIIIIAAAggggABBFp4BBBBAAAEEEEAAAQQQQAABBBBAAAEEEEAAAQQQQAABBBBAAAEEEEAAgawQIMiSFbeBk0AAAQQQQAABBBBAAAEEEEAAAQQQQAABBBBAAAEEEEAAAQQQQAABBBAgyMIzgAACCCCAAAIIIIAAAggggAACCCCAAAIIIIAAAggggAACCCCAAAIIIJAVAgRZsuI2cBIIIIAAAggggAACCCCAAAIIIIAAAggggAACCCCAAAIIIIAAAggggAACBFl4BhBAAAEEEEAAAQQQQAABBBBAAAEEEEAAAQQQQAABBBBAAAEEEEAAAQSyQoAgS1bcBk4CAQQQQAABBBBAAAEEEEAAAQQQQAABBBBAAAEEEEAAAQQQQAABBBBAgCALzwACCCCAAAIIIIAAAggggAACCCCAAAIIIIAAAggggAACCCCAAAIIIIBAVggQZMmK28BJIIAAAggggAACCCCAAAIIIIAAAggggAACCCCAAAIIIIAAAggggAACCBBk4RlAAAEEEEAAAQQQQAABBBBAAAEEEEAAAQQQQAABBBBAAAEEEEAAAQQQyAoBgixZcRs4CQQQQAABBBBAAAEEEEAAAQQQQAABBBBAAAEEEEAAAQQQQAABBBBAAAGCLDwDCCCAAAIIIIAAAggggAACCCCAAAIIIIAAAggggAACCCCAAAIIIIAAAlkhQJAlK24DJ4EAAggggAACCCCAAAIIIIAAAggggAACCCCAAAIIIIAAAggggAACCCBAkIVnAAEEEEAAAQQQQAABBBBAAAEEEEAAAQQQQAABBBBAAAEEEEAAAQQQQCArBAiyZMVt4CQQQAABBBBAAAEEEEAAAQQQQAABBBBAAAEEEEAAAQQQQAABBBBAAAEECLLwDCCAAAIIIIAAAggggAACCCCAAAIIIIAAAggggAACCCCAAAIIIIAAAghkhQBBlqy4DZwEAgggkLpA586dbfny5d6Gbdu2td69e6e+E7ZIq8DQoUNtzJgx3j6rVq1q48ePT+v+2RkCCCCAAAIIIIAAAggggAACCCCAAAIIIIAAAggggAACxV2AIEsxvMNLliyxiy++2Hbt2uVdXa9evaxDhw5xr3Tx4sV20UUX+euvueYau/LKK/15JhBAIDsFTj75ZFuzZo13cmeffbYpREErXIHbb7/dD7Lss88+Nn/+/MI9IY6OAAIIIIAAAggggAACCCCAAAIIIIAAAggggAACCCCAQBETIMhSxG5YMqf79ttv22WXXeZ37dmzZ8Jgyqeffmrnn3++318hFm1DQwCB7Bb4uwRZGjVqZBs2bPBuRvfu3e3666/P2htDkCVrbw0nhgACCCCAAAIIIIAAAggggAACCCCAAAIIIIAAAgggUEQECLIUkRuVymkSZElFi74IFF2Bv0uQpU6dOrZlyxbvRl166aWmsEi2NoIs2XpnOC8EEEAAAQQQQAABBBBAAAEEEEAAAQQQQAABBBBAAIGiIkCQpajcqRTOkyBLClh0RaAIC8ycOdM2bdrkXUGDBg2sevXqRfhq4p96UQqyfP7557Zs2TLvYg455BA7/vjj418YaxBAAAEEEEAAAQQQQAABBBBAAAEEEEAAAQQQQAABBBBAIIcAQZYcJEV/AUGWon8PuQIEEPifQFEKsvzvrJlCAAEEEEAAAQQQQAABBBBAAAEEEEAAAQQQQAABBBBAAIG8CBBkyYtalm9TkEGW33//3dauXWtbt261/fff3/bbbz8rVapUvoR+++03W7VqlVWuXNnbX752FrHxzp077ZtvvrFffvnFqlWrZhUqVIjolXiRrnfdunWmfR122GG22267Jd4gztrt27fb+vXr7aeffrKDDz7YypcvH6dn7ov/+OMP++KLLzy38H50nsuXL/eOsddee+W+s1APba97svvuu9tBBx1kJUqUCPUoPrO7du2y77//3jZs2OA901WqVEnLxRUFwx07dvjP46GHHmply5bN87Xrer/77jvbuHGj9x2rVKmS9/zkZYeZDLLot+DXX3/N1/c4L9eU7Db6Xut5lOUBBxyQkd/EZM+FfggggAACCCCAAAIIIIAAAggggAACCCCAAAIIIIAAAggUhABBloJQLuBjZDrIoheqQ4YMsYkTJ9q2bdtyXF3FihWtRYsW1qZNm6SH1fjggw/sySefNA3LoRffrik4UatWLevRo4c1a9bMLU74qRe/rVq18vtce+21dvbZZ9v8+fPtwQcftHnz5vnrNKFjdOvWzS677DLbe++9/XVjxoyx0aNHe/N6qT9s2DBbuHCh3X333bZgwQK/nyY0hMgDDzxgGt4lUVNgRcPB/Otf/7L3338/h9+ee+5pRxxxhDVp0sS75tKlS0fubsqUKfbII49463TMqlWr2qOPPurvT+GaJ554wgudXHXVVfbOO++YQgpqWqdrU/AoUdMLfl2Trnn16tV+V4V2tI927dpZ165d/eXJTGh/s2fPjul64IEH2siRI2OWFeSMwlhz5861qVOn2owZM+zHH3+MOby73mOOOcZuuukmUyAj2ZZOw8mTJ/vPY9TxzzjjDO8ZjloXXLZo0SK7+eabvUV6vvSM69no16+f6RjBts8++3jPYadOnYKL404rhPbcc8/ZqFGjYr7HbgN910455RRr3bq1tWzZ0qKe7+7du9uKFSvcJt5neL5GjRox693MLbfcYqeddpqbjfxUCO3hhx/27rmCX+57oc76Hun8brvttqRCPCtXrrTbb7/dFH6Kagqe6FjJNP1m6bdL7a677rKGDRt63z95Bn9nZajf1gEDBkT6JXMs+iCAAAIIIIAAAggggAACCCCAAAIIIIAAAggggAACCCCQzQIEWbL57uTx3DIZZJk0aZL3YjuZUytXrpwXgkjUV1UbBg4caE8//XSibt46BU169eqVa8UXvQxW0MK1Pn36eC+l9Zmo6eVx8IX9/fffbyNGjPA20cvj8ePHW9u2bWNefIf3p6DG+eefH17szx911FExL6X9FRET1atXt+eff957uR5e/cwzz1j//v3Di2Pm9VK+Zs2apuch3LTuvffeCy/25ydMmGA9e/ZMeK3qfMIJJ9jw4cOTrmpz6aWX5giyKCyhkFFhtahzincueg70rDZu3DheF395ug3vvfdee+qpp/z9hycU1ho6dGh4cY55hcbat2/vLx87dqz3nVaFoXjtggsusPvuuy/eam+5Qh06h2DoItEG06ZN80Jb4T7NmzePCU6F1yeav+eee+ziiy+O20Uhni5dukSGbIIbKaz07LPPet+f4PLw9LvvvmudO3cOL/bnU3m2FZZzTeGYTz/9NEewyK3Xp37jFCbMT9Wc4P6YRgABBBBAAAEEEEAAAQQQQAABBBBAAAEEEEAAAQQQQCBbBAiyZMudSON5ZCrIoqFpgpVO3CkrFKHhalR9YsuWLW6xV+lk6dKl/nx4QpUQtD+9AA83vUjetGlTjiCFgiSqBpOohYMsqrAQrgIStb0qrXTs2NFfFQyyaKFCDMGX9OF510cVTMqUKePvJzgRFWTRftz1Bv3c/t54440cL/yjgixuH8EKE+7YqpKj4VOC5//mm2/a0Ucf7br4n3379vUCNP6Cvyai9qFVGnpHFV+SGV4pKjSSysv+8DmlY15BBAUSgk3XIk9VGAlXaFE/VfY577zzgpvETGfCMFNBlvBzHJ53F6bnsHbt2m425lNVbRTuCVvJUEN3aWic8Lp4QRZVlon6TYg5YJwZVSHS9lFN1Wauu+66HKsUuNP9Dp+fOs6aNcurtpRjo78WZCrIovMJfo/j3ROFza688sp4p8dyBBBAAAEEEEAAAQQQQAABBBBAAAEEEEAAAQQQQAABBIqkAEGWInnbEp90poIsd9xxh7344ov+wTWszPXXX28aDsc1vfjXC+rHH3/c1q5da4mCLKp2orCIa9rPQw895A0NUrJkSW/xhx9+aFdccYVt3rzZdbPXX3/djj32WH8+PBEOsgTXq2LEueee6wU4FDbR0CKvvfaaqSpFbkEW7UcvvVUVo169el5lGG2vIMT69ev9w6hSSrDihb/izwkXZNGwKv/85z+9YECwooKGbdKQIcEhXs466yxv2KDgfsJBFgUn3HmookUwsKKhWnSffv75ZzvppJN8yxtvvNE07FKwaWgnhYWCTcO16F67cI7uq4YrWrx4sd9NQ9VcffXV/ny8iWwOsmjooMsvv9yrMqPQjmt6pnXPgwEqhW8+/vhjc8+p66vPTBmqepECI8Gm0IarpJLXiixuf4MGDbJzzjnH9thjD9MQWDfccIPNmTPHrbYzzzzTr1DkL/xr4q233ooJVGhYHHkp5Oaazv/f//63N0SXAiAaYktVh5JpderU8UNyeoZUsSSVpuGEVD0oGBTT90rDKeleqqmPfgP0W+CaruOVV15xszk+NaRQ8LumDnf9WdnJ7SOVkFawIos7kIJ1+u5qP9u3b/fs3JBi6qPfo08++STXKlVuf3wigAACCCCAAAIIIIAAAggggAACCCCAAAIIIIAAAgggUBQECLIUhbuU4jlmKsjStGlT/6V5jRo1bOrUqQnPbPXq1XGrGajaSqNGjfyqA3ohq5fmqt4Qbup74okn+i+M9fJbL8HjtXhBlscee8xat24duZkqQCiocdBBB/nroyqyvP/++/6Lb9fx66+/NlV9cU1BklGjRrnZmE+FfPRyfN99941ZHp75xz/+YZ999pm/WEOiBAMv4SBLcH24wojCA+54eimuyhpqqoajwFGwKWCzYsUKf9G4ceO80I6/4K8JvcBX4MWFWVRBQjb77bdfuGvMfDYGWXRPNEzL4YcfHnOu4ZnBgwfHeOkenHzyyeFulmnD4AF1/DVr1niL8hNkUUAtPFyS7rGeVVepRFVB4gXTbr31Vnv11Vf9Uws+j/7CwIS+0+6ZDCyOO5nfIIvCYcHhyxJVMlGgZ+TIkf65KMR06qmn+vO5TShkM2bMGK9bfoIsCvBpKLVwU4hMz6xr06dPjxlKzS3nEwEEEEAAAQQQQAABBBBAAAEEEEAAAQQQQAABBBBAAIGiKkCQpajeuQTnnakgi6qguMooevGvF6h5bapaMHr0aH/zl19+2Y4//nh/PjyhvtrGtQ8++MAqV67sZmM+o4IseaniEA6yaAgPvQCPam3atDG9vFc78sgjbcqUKVHdkl6mYX9UScW1SZMmWa1atdysBYMsqh6i6iCuBV/Eq8qNKoS4Nnz4cHvggQe8WYWDnn/+ebfKCwd169bNn7/mmmvspptu8ufDE19++aVXpcMt137PP/98Nxv5mY1BlsgTjVioQEf9+vX9NVFhCAWsMm3on8CfE+kIsui50vMV1TSE0rBhw/xVqkBUqlQpf95NqBpPMNimEJaGG0tXy0+QJXzfVHlnwoQJcU9NlU8aNGjg/9apSk2wCkrcDf9akY4gi4JhqrQSZThv3jy7+OKL/dPQd1jfZRoCCCCAAAIIIIAAAggggAACCCCAAAIIIIAAAggggAACxUWAIEtxuZOB68hUkEUVPJYvX+4fSZU9ateu7c+nMhEMfiRTtSD8MvqJJ54wDasS1cJBFr0UVtCjfPnyUd3jLgsHWVQF4YgjjojsH6x0ksz1RO4ksFDO8nYtXP0jGGRRFZngEDCPPvqoPwxOpUqVTMMzufbcc895w6doXvfOVWfRfDi0oAorVapU0aq4rUmTJv6wSh06dPCGaonb+c8VOp72G2z7779/wsBMsG9hT7uhoXQeUeGogjAMGqQjyKIhw7p06RLcrT+tYbc0tJRrc+fOtQMOOMDN+p8DBw60J5980p+PCvn4K/MwkZ8gSzj4kUzgSpVQ3PBAhxxyiM2aNSvps05HkEUVnoIVZIIH1/Bjweo59913n11wwQXBLkwjgAACCCCAAAIIIIAAAggggAACCCCAAAIIIIAAAgggUKQFCLIU6dsXffKZCrLohbeGIAm2Fi1aeIESBRpyCz0Etwu+mA4uT3Zaw2sEX7AHtwsHWerWrWvjx48PdklqOhxkSTRcSvBFfrgKStTBFi5c6FWk0ZBG69evNw21smPHjqiu3rIRI0bEVD8JBlnCFWA0rNE999zjbRcOuWj4Fw0DoxZ+QX/55ZfbjBkzvHV5+StRZY+87K+gt9F90DAyGi5Jw/Vs2LAh4T1p37699e/fP+Y0C9owHUGWRKEwBVc6duzoX6Oej0MPPdSfdxNvvfWWqWJRsKnyybnnnuuFLhQAK1GiRHB1StPB34uoAFGinb3wwgt25513JuqS67p4lWiiNkxHkEXmd999d9TubefOnTGBOlWq6tSpU2RfFiKAAAIIIIAAAggggAACCCCAAAIIIIAAAggggAACCCBQFAUIshTFu5bLOWcqyKKqKAqsbNu2LfIMFOCoV6+eqdqKqomULVs2st/WrVvzXMnF7VAVCFSJIKqFgyxt27b1K5RE9Y+3LBhkUVWXFStWxOsaU80kUV+9EFcAR0OvpNJUZeWss87yNwkGWcJDpQRf3NeoUSNmyBdVRFH1GLWqVavae++95++zefPmtnr1an8+1QkFmcLVVlLdR2H037JlixfumTx5ckqHj3oGC9owHUGW8LBVQYRwNZNEVZg0BI9CQFFN34maNWua+uj3Id6wYFHball+giwKegSHMYt3jETLNcxPhQoVEnXx16UjyJJbRZtgmCi3vv6JMYEAAggggAACCCCAAAIIIIAAAggggAACCCCAAAIIIIBAEREgyFJEblQqp6lhMLp27epvktuLzk8//dTOP/98v78qK2ibqLZq1Sq7+uqrE4Y6tJ2G19HQGMcee2yO3SjMoUouwVa9evXgbK7Tqnxx4YUXRvYLB1l69Ohh+pNqCwZZdt99d1u6dGncXQSHlIkXZPn222+9qioKToSbvPbdd18rVaqUt0phoWCoJJUgi6rmqHqOWrhai0ILziIcZAkOm6NtU70nDRs2tEGDBmnTItNUBaddu3aRwSIFs/bbbz/TvXctGGaKCrIUtGE6giyJhsxKJcjyyy+/2M0335xrVR99P1QxKJXhcPITZNGwScGht1SJqGTJku6W5vpZrlw5UyWjMmXK5NpXHdIRZNE+VHkmXiPIEk+G5QgggAACCCCAAAIIIIAAAggggAACCCCAAAIIIIAAAsVBgCBLcbiLoWv44IMPTMOeuJZqkEUVO7p37+42z/GpoMiCBQtsypQpptCMhseJanphrRfhCmkEmyq71K9f31+k4UcGDx7sz+d3Ihxk6dOnT0ywJ9n9pzvIctlll5mq5bimoXh0b5o2bZpj2JXly5d7VW1c34IIsqjajobXUQsPO+TOo7h9qlKHKna4pmdV9+Qf//hHTIDFrQ8GVaKCLAVtmE1BFmekYZnGjRvnhUeWLFkSd3gmVQ6SVzItP0GWXr162dixY/3DfPTRR15AyV+Q5gmCLGkGZXcIIIAAAggggAACCCCAAAIIIIAAAggggAACCCCAAAJ/OwGCLMXwlmsYDFWZcO2mm26ya665xs3m+Jw/f35MdYTevXtbt27dcvSLt0DVQz788EN7+eWXTdUdgk1VBfRiN9w05I2qYajpZbZeaqerZWOQJTyckiqlaJiW0qVLR162HK+66ip/XUEEWTp06OAPDZRbBRr/xIr4hIZrcpV2dM3Tp0+3atWqRV6VKukoUOFaVJCloA2zMcjifPSp76KG0VIlIIWG3Hde6w477DDPW9O5tfwEWZ588kkbOHCgfwgNIaVAUqYaQZZMybJfBBBAAAEEEEAAAQQQQAABBBBAAAEEEEAAAQQQQACBv4sAQZZieKeXLVtmrVu39q9MIRaFWeK1999/3/QC3rV+/frFzLvlyXzOnTvXOnbs6HetW7eujR8/3p93E2eccYZfySXd1T+yMciycOFCU+UZ1zQU0Xnnnedmc3w+/vjjMVVqCiLIovv+7LPP+ueyaNEiK1u2rD+fjgk5BIfn0T733nvvHENNpeNYyewjGKhq27atDRkyJO5m4XsYFWQpCMPgCWZ7kCV4rqr2oyHFNm/e7C9WNacSJUr48/EmgkGWzp07W9++feN1zbF89uzZMcP0KNhy2mmn5eiXrgUEWdIlyX4QQAABBBBAAAEEEEAAAQQQQAABBBBAAAEEEEAAAQT+rgIEWYrhnQ9X/1DVCQUh4rUxY8bEVE157rnnrFmzZvG657pcw7KoCoNapUqVvGot4Y2uvvpqmzp1qr/49ddft2OPPdafz89ENgZZwsM9ybxRo0aRl7lz505v3caNG/31BRFkUUWd2267zT+mXsirok46m/anYEGwaTgfVQUq6BZ+TlQB55Zbbol7Ghpu68033/TXRwVZCsLQP4E/J4pSkEXnraBQ8Lfo448/tooVKwYvKXI6OGRTy5YtbdiwYZH9ohauXbvWTjrpJH9Vw4YN7ZVXXvHn0z1BkCXdouwPAQQQQAABBBBAAAEEEEAAAQQQQAABBBBAAAEEEEDg7yZAkKWY3nGFQlzlAw2ZovBA5cqVc1zt9u3brU2bNrZ8+XJ/nUIXUX2//fZbO+CAA/x+8SYU0NiwYYO3Ot7wIeHqFsccc4xNmDAh3i795QrpqOJMvXr1/GXhiXBAoU+fPta1a9dwt1zn77//fhsxYoTXL7ehdlRhxb1c32233XJUHVm3bp01bdrUP6YCE8Ghg/wVf05omKU777wzuMh7+a9AkmvPPPOM9e/f35sN27344ot2xx13eOs0hNGUKVPcZt4QLz169PDmq1atau+9956/TrYnnHCCaQgdNV3zvHnzvIopfqeIiV27dnn9GjduHLE2dlE2BVl0ZvXr17cff/zRO0ld+0svvRR7wn/NffHFFzmqxkQFWQrCMHiC2RJkUbWVKlWqBE8tclrP/Wuvveav03e5TJky/ny8iQsvvNAUelFTOE6/UclUcnH7u/jii71n1M0rcHT88ce72bifS5Ys8X7zFLZKthFkSVaKfggggAACCCCAAAIIIIAAAggggAACCCCAAAIIIIAAAghECxBkiXYp8ksfe+wxe+ihh/zr0ItYDfGjYXxc+/XXX61Tp062YMECt8hU+UBBiqimYViOOOIIr0qHwi+lS5eO6aZKIgMHDrSnn37aX3755Zfbrbfe6s8HJ66//np74403/EW1atUyDalz8MEH+8vcxJdffmlPPfWUdw01a9aM2c71cZ/ZGGTRuQWHsVHYRcGdo48+2p229zl8+HB74IEHYpZppiAqsug4ChkEq5LouRk6dKideOKJWh3TFADRs6LhiDS9atWqmPVRM9kWZAkHHPT8KjQRbO+++67pOd62bVtwsUUFWdQh04bBk8iWIIvMdP+7dOliMo0KfkybNi0mvHXUUUfZ5MmTg5cTd7pXr142duxYf71+t7Rsjz328Jclmvj666/tlFNO8bvo+6ffJZ1vOBCjcN/EiRPtiSee8IY/Szb04nZOkMVJ8IkAAggggAACCCCAAAIIIIAAAggggAACCCCAAAIIIIBA3gQIsuTNLeu3UqhEwwOpUkKwlStXzgtUfPPNNznW6eXunDlz4lZdCQcxFGo5/PDDvf7ff/+9zZgxw68C446pSjBRwRStV/hBVTB27NjhunufquKisMqee+5pCrB89dVXftUMdahdu3aRDLLcfffdpmGbgk0BETmq2s2nn37qV7IJ9tF0QQVZdCxVflm6dKkm/abqLaruok+FAlShJPxsFcUgy8yZM61bt27+dWpC16nhZ1RdRZWDVq5cGbPezcQLsmh9ug0VLgpWTXLnoIom7vuj70v16tXdKv+zdevWduWVV/rz4WGuFDDRMxjVVJFHwRTXFDzT9y/cghVTtE6BOX2PDz30UFNgTvvR9zjYVMXovPPOCy6KOx1VEUedFZjZa6+9/O00NFaLFi38+eDEoEGDbOTIkcFFpt9Dhcl0nps2bfIqKa1Zs8Y3Ved4QZbRo0fbuHHjYvanmdWrV8f8DkZ5VatWza/g5Hagc3Att2G9gn179uwZc3/dPvhEAAEEEEAAAQQQQAABBBBAAAEEEEAAAQQQQAABBBBAoKgKEGQpqncuifP+5JNPrH379jkqScTb9N5777WLLroo3uqYiiJxOwVWqLpIvJfKrptCERpiJxyccOujPotqkOX333/3qkKEAyBR16jgQrAyS0EGWRTg0NBEr7/+etSpxV1WFIMsuphwZaB4F6jgisJabiiiREGWdBs2b97cC0jEO7dEy9u2bWtDhgzxuxREkMU/WJyJDh06WL9+/eKsjV6s3ydVZUrU7rnnnpjgTbCvKjWpWpT6pNLiBVn69u1rzz//fCq78vtWrFjRHyrJLQyGUwiyOBU+EUAAAQQQQAABBBBAAAEEEEAAAQQQQAABBBBAAAEE/o4CBFmK+V3fsmWL3X///QlfuKpyi17uqkpAoqahNqZPn24KyCRqp556qjdsh6q1JNP0gnnUqFH2yCOPmM43XlOFBw1ppBfz8aq8aNvw0EIDBgywSy65JN5u4y6X24gRI7z1u+++e8KwjYZEGjx4sNdXlW1WrFgRuV9dn4avGTNmTOR6Vb3p37+/HXTQQd4wT66TXuDL1bVXXnnFevfu7c02btzYXnzxRbfKG37p5ptv9uZVXWTKlCn+Ot2/K664wptX9Q5VJInXNKSOhm9JFLxRRYxzzjnHuy/16tWLtyt/uYboURgk2FTl5b333gsuKtDpXbt2ed8PfQdcdZPgCVSpUsWreKHhbOrXr+8HWTp37mwKMyRq6TKMqvCS6LjBdaqoEgxvpBJkUUWac889199dvIoseq70TM6dOzdhcE7Pt55bDYmUl6YKTzrORx995FU9Cd8vBXb0+5CoKTyn8FJwSLVwf33fTz/9dO/ZVogoPIya+kdVeAnvJ9581DOfSpAlWB2LiizxlFmOAAIIIIAAAggggAACCCCAAAIIIIAAAggggAACCCBQVAUIshTVO5fief/222+mihkaqkdDfShsoeFE9PK0QoUKKe1t+/bttmTJElu3bp03JI7CGXoxq3CJ9qdqA3ltP/30kzeEioZM0XkeeOCB3p/87jev55Op7X744QfvOjVcjII3CoHUqVPHuy+ZOmZe96tnR8+N7omGQKpcubIXelLYJlGgKK/HK6ztVEVF16h7omFmjjnmGDvuuONihq7J67n9XQz1LOtZUVhEAaiNGzd6vwd6TjTcUDY9Lxp+7T//+Y93z/XbWL58ee+51m+OQnilSpXK6+1mOwQQQAABBBBAAAEEEEAAAQQQQAABBBBAAAEEEEAAAQQQyIcAQZZ84LEpAggggAACCCCAAAIIIIAAAggggAACCCCAAAIIIIAAAggggAACCCCAQPoECLKkz5I9IYAAAggggAACCCCAAAIIIIAAAggggAACCCCAAAIIIIAAAggggAACCORDgCBLPvDYFAEEEEAAAQQQQAABBBBAAAEEEEAAAQQQQAABBBBAAAEEEEAAAQQQQCB9AgRZ0mfJnhBAAAEEEEAAAQQQQAABBBBAAAEEEEAAAQQQQAABBBBAAAEEEEAAAQTyIUCQJR94bIoAAggggAACCCCAAAIIIIAAAggggAACCCCAAAIIIIAAAggggAACCCCQPgGCLOmzZE8IIIAAAggggAACCCCAAAIIIIAAAggggAACCCCAAAIIIIAAAggggAAC+RAgyJIPPDZFAAEEEEAAAQQQQAABBBBAAAEEEEAAAQQQQAABBBBAAAEEEEAAAQQQSJ8AQZb0WbInBBBAAAEEEEAAAQQQQAABBBBAAAEEEEAAAQQQQAABBBBAAAEEEEAAgXwIEGTJBx6bIoAAAggggAACCCCAAAIIIIAAAggggAACCCCAAAIIIIAAAggggAACCKRPgCBL+izZEwIIIIAAAggggAACCCCAAAIIIIAAAggggAACCCCAAAIIIIAAAggggEA+BAiy5AOPTRFAAAEEEEAAAQQQQAABBBBAAAEEEEAAAQQQQAABBBBAAAEEEEAAAQTSJ0CQJX2W7AkBBBBAAAEEEEAAAQQQQAABBBBAAAEEEEAAAQQQQAABBBBAAAEEEEAgHwIEWfKBx6YIIIAAAggggAACCCCAAAIIIIAAAggggAACCCCAAAIIIIAAAggggAAC6RMgyJI+S/aEAAIIIIAAAggggAACCCCAAAIIIIAAAggggAACCCCAAAIIIIAAAgggkA8Bgiz5wGPT/An88ccftmvXrrg7KVGihJUsWTLu+qgVO3fujFrsLytVqpQ/zQQCRUWA57qo3CnOEwEEEEAAAQQQQAABBBBAAAEEEEAAAQQQQAABBBBAAAEE8itAkCW/gmyfZ4G5c+dax44dE26/atWqhOuDKxWMOeyww4KLckyPGzfO6tWrl2M5CxDIZoFWrVrZ8uXL457iDTfcYNddd13c9cEV+t5ddtll/qLZs2db5cqV/XkmirfA1q1b7dRTT/Uvsl+/fnbmmWf680wUvAD3pODNOSICCCCAAAIIIIAAAggggAACCCCAAAIIIIAAAghktwBBluy+P/k6uzZt2thXX32V8j723HNP+/DDD1PeLtUNCiPIMmbMGGvUqFGqp0p/BPIssGPHDmvcuLH997//9ffRtGlTGz58uD+f20RuQZarrrrKbrnlltx2462fNWuWde3a1e+rIMvBBx/szzNROAJ6Jn7++eeUD16mTBmbP39+0ttt2bLF6tSp4/e///77rV27dv48EwUvwD0peHOOiAACCCCAAAIIIIAAAggggAACCCCAAAIIIIAAAtktQJAlu+9Pvs7u2GOPtc2bN6e8j912281WrFiR8napbrBo0SK77bbbYjZbtmyZ6cW/a6lUZNE2Xbp0sY0bN7rNbcOGDd4ft4Agi5Pgs6AE5syZ4z2X4eMtXrzY9thjj/DiyPnBgweb9hNs+v64RpDFSST3qQo2EydO9DrXrVvXxo8fn9yGGex16KGH5nnvqfxO/l1CE999950XIHOor776qjVo0MDNZtXn3+WeZBU6J4MAAggggAACCCCAAAIIIIAAAggggAACCCCAAAJZLUCQJatvT/5OLtuDLFFX9/TTT9uAAQP8Vam8oPU3CkwokNOyZUt/CUEWn4KJAhLo1auXjR07NsfRRowYka8hXY466ijbtm2bt1+CLDl4Ey64/PLLbcaMGV6fGjVq2NSpUxP2L4iVBFnSq7x69Wpr3ry5v9NnnnnGTj75ZH8+myYIsmTT3eBcEEAAAQQQQAABBBBAAAEEEEAAAQQQQAABBBBAIBsECLJkw13I0DkEgywaLuihhx5K6kilS5e2U045Jam+6e5EkCXdouyvsAWC38PguZx99tk2dOjQ4KKUpgmypMQV0znbgyxVqlSxu+++O+ac482UKlXKTj311HircyzfuXNnTAWa1q1bm/59KG6tKAVZ/i73pLg9Y1wPAggggAACCCCAAAIIIIAAAggggAACCCCAAAIIZE6AIEvmbAt9z8EX6BUrVrSPP/640M8ptxMgyJKbEOuLkoCGDzrnnHP8Uz7kkENML9jVdt99d1uyZImVKFHCX5/KBEGWVLRi+2Z7kKVWrVo2adKk2JNmLiWBohRkSenC6IwAAggggAACCCCAAAIIIIAAAggggAACCCCAAAII/A0ECLIU45tMkMWsqAwttGPHDlu/fr399NNPpiFGypYtm6cnc9euXfb999/bhg0bbP/99zdVdshPW7t2rZUsWdKqVq2aYzcrV660vfbayypXrpxjXTILvvnmG/v111/tsMMOs9122y2ZTYpcnwceeMCGDx/unbeuUcMJXXbZZf51jBs3zurVq+fPpzKRqSCL7usee+wRec9TOT/1/e2330zDg+kZ2W+//VLdPNf+qmSh5+iXX36xatWqWYUKFXLdRh0IsiTFlHSnrVu32rp160z3I7/f599//930u6N96jdMz42qzqTaMhlkyfRzneq1RvVP5z2J2j/LEEAAAQQQQAABBBBAAAEEEEAAAQQQQAABBBBAAIFMChBkyaRuIe87nUEWvaS89tprTYELNb2cP/DAAyOvcNmyZdazZ09/3aOPPmqqRJFMK84VWRYtWmQ333yzx6Dhm0aPHu159uvXzyZPnhzDs88++1iPHj2sU6dOMcvDM3rpO3fuXJs6darNmDHDfvzxx5guCk/oxfIxxxxjN910k1WqVClmvZtRGKBr167erM5N9+/GG2+0jRs3estU0UdDnWgYkocffthGjRplW7Zs8daVK1fOnnzySTv++OPd7iI/9WJV2+p8v/jiC/9ZUmcFZTSc1W233ZZSiGfatGmRw/O88MILJsPCbs2bN/crsJxwwgnePT/yyCP90/rnP/9pd955pz+fykQ6gywKDug7/e9//9u2bdvmnYYqxihko2f2uOOOS/rUPvjgA+95+Pzzz/3nRxtrf6o0oue6WbNmSe3vjz/+sFatWvl99RukIZnmz59vDz74oM2bN89fpwkdo1u3bl5YaO+99/bW6Tfl1VdfjemnkIO7Tq2oUaNGzHo3c+aZZ3rfAzefyU8F2FxLZ0WW+++/3/Ny+w5/Xn/99da4cePw4hzzY8aM8Z5frdC5Dhs2zBYuXOj9LixYsCCmv37vFeJq0KBBzPJ4M999950NGTLEJk6cGHNfXH/9/rRo0cLatGkT+TujYMm5557runufWrZmzRp/mYZPivdvln6L4/02uh2k87kuCvfEXTefCCCAAAIIIIAAAggggAACCCCAAAIIIIAAAggggEBhCBBkKQz1AjpmOoMseonXvn17/8wVIDjiiCP8+eCEXi5ffPHF/qI33njDateu7c8nmijOQZaw4dixY72X+goJxWsXXHCB3XffffFW26WXXmqzZ8+Ouz64Qi/55Rv10lrBEr0odk0BGBdaCi7r0qWLF1Jwy9yn+r/99tteVQy3LPipEI+2dcGY4LrgtF4mP/vss1azZs3g4rjTzzzzjPXv3z/HelnntVJMjp3lcYEq7DRp0sTf+vbbb/fu14UXXugP86Xr/fDDD/0+qUykK8givzvuuCPhoR955JGYIZKiOqsax8CBA71nLGp9cJmq0vTq1SvXShsKsiiI5VqfPn28oJM+E7W77rrLD4EpKKRgU16avhOuok5etk9lm0wFWRQEWr58edxTUaiiXbt2cde7FeqnikJq+i0ZP368tW3bNsfvhOuvT4VZzj///OCiHNMaQknhpmSaQnMKz4SbQnLJ/hsT3lbzc+bMsYMOOihqlVdlJt3Pdbbfk0gIFiKAAAIIIIAAAggggAACCCCAAAIIIIAAAggggAACBShAkKUAsQv6UARZsmtooXCQRS+Dg1UhwvPueUkUBOrcubO9++67rqv3qVCJAhKqSBCu0KIOqmRx3nnnxWwTDrJopV4aa6giV3kluIGqG5QpUyZm/womXHHFFcFu3rSqzVx33XU5lmv/Oteoc5w1a1ZSVXyyOcgSPjcFjg4++GB76qmn7N577/U93HJ/QZIT6QqyhA+nSjZR92To0KFeNZRwf80r9KSX8xqWKNz0LG7atClH4EEhCFXhSNTCQRZV7ZFXbk3Vgzp27Oh10/Rzzz2X2yaR6/X96tu3b+S6dC8sSkEWXXv49yo87/ooeKLfiqimgE2w4o7rowpNGrZMlaKCvz86xtKlS103/zM/QRb9BilMtu+++/r7cxOZeq4zEWTROYfvQXje9Ul0T9y184kAAggggAACCCCAAAIIIIAAAggggAACCCCAAAIIFKYAQZbC1M/wsYNBFr2sC1ZUiXdovTzUEDThFg5hUJElLJT7fNjQbTFo0CCv2sUee+xhP/30k91www1ehQC3XsObuEoIbpn7dEEWDR10+eWXm4av0TAcrinMouBEMDCgoMLHH39sJUuWdN28oX6CFVk0JI6GD9KLXAUOgi+PNdzMK6+84lXT0DOl61KrX7++qcpMsOkFs84p+DL6rLPOMg2n5Ib+UR+FDYLbNmzY0DtGcF9R0+GwiOujcyrsiiyqcvHJJ594p6Rr1XA4aqtWrbLTTz/dm9Zft9xyi1111VX+fLIT6Q6y6J6oWoyGlvr1119twIABMUPyVKlSxRsWqkSJEjlOUc+nKna4pqDTQw89ZKeddpr/nCksoKDT5s2bXTd7/fXXTb9T8Vo4yBLspyGGNJzM0Ucf7QUlFMZ67bXXvOcoGGQJbuOm9V3RUFxqGlZIQ3MVdgsGWRTyCla1SnRu+q7qOxavafgxVctxTd/F4DBgeanI4val89Tvi34TSpUq5f2O6DdJ1YhcU8WfeP/2qBLQiy++6Lp6w5tpqCM9P67pN0z/3jz++OOmIbCCv0WuT9Snho+SjWv6rTj55JPdbFKfmXqus/meJAVDJwQQQAABBBBAAAEEEEAAAQQQQAABBBBAAAEEEEAgwwIEWTIMXJi7DwZZkj2PeP/jPRzCIMiSrOj/+oUNtUYvccND/agKioIcripGvHui7XUfNPTK4Ycfrtm4bfDgwd6LYNch/FI3XJFFIRb3EljT99xzj9vUgsPMKDigIIaaXmqHh/1QGELDGbnWs2dPu/LKK91szKcCPSNHjvSX6QX5qaee6s9HTWRrkCVcIULDq2iYFdcU+nH3V4EUVa1JtaUzyKIKMRdddFGOU1CoQBWBXNOLfQWrgk3VVho1auRXXNFzoKFaKlSoEOzmTavviSee6Fciql69us2cOTNHP7cgXpDlscces9atW7tuMZ+qCqMKIPGGilHnbA+yxFxQLjPdu3c33adkm4IsderU8bvnNcii36X333/fD6S5HX799demyjmuuVCcmw9+Nm3a1NzQaskEihROOeSQQ4K7iDud3yBLJp/r8Eln0z0JnxvzCCCAAAIIIIAAAggggAACCCCAAAIIIIAAAggggEBhCBBkKQz1AjomQZbsHlqoVq1aNmnSpMinQcP/DBs2zF+noIkqHuS1KTSh8IRr4UBJOMgSrGiil9UdOnRwm3rBAwUQ1D7//HOvYoumVfVnxYoVmvRa+JiqGjNhwgS3Osfn9u3brUGDBn7FjnPOOccLzeToGFiQrUEW3dcePXr4ZxoOgKjqkaqRuKbKLVHBD7c+6jNdQRZVv1AAKVihxx0vHAaIqpRz11132ejRo90m9vLLL8dU/PBX/DWhvtrGteCz5pa5z6ggy6WXXmq3336765KnT4Is+Q+yKJCm35Go1qZNG1u0aJG36sgjj7QpU6ZEdfOq8bgKPQrkTZ8+PbJfXhaGn91weC+3fWbyuQ4fO11BlnTck/C5MY8AAggggAACCCCAAAIIIIAAAggggAACCCCAAAIIFIYAQZbCUC+gYwaDLAoZnHTSSbkeWS/TFaIIt3A1ESqyhIVynw8baliNLl26RG4YrHSiDnPnzrUDDjggsm+yC4PBh3AYIBxk0UvosmXLerv+9NNPTRVFXPvoo49sv/3282ZV/eKMM85wq7xhc9zMvHnzYoZHUUWS4H5cv+Bnr169/CGGVHlh1qxZwdU5phWkCQ5N4joo6KBhsgqraaggfUdcC3pqmV7sX3PNNW613XfffXbBBRf488lMBO+njucq4+S2rUy7du3qdws/C/6KvyZatmzpB5Q0bJWGpQq2YGghOIRSsE9wOhxweuKJJ2KeoWDfcJBFv2M6fvny5YPdUp4uCkGWJk2aJHVdGoJIw3Ul29IVmkj0b0Cwkk+iZ6JVq1a2fPly/9RV/ad27dr+fH4m8htkyeRzHb6ubLon4XNjHgEEEEAAAQQQQAABBBBAAAEEEEAAAQQQQAABBBAoDAGCLIWhXkDHDAZZol5Ap3Ia4RBGopeY4QBDKi8nNQyNhqNxbdWqVW4yT5+qEKIX8a6NGTPGGwbFzRfkZ9gw0Qt8BVc6duzon96MGTPs0EMP9efDE+vXrzcNxbN48WJbs2aNbdiwwR/qJdxX8+3bt7f+/fv7q8JBli+//NKv0KEXzXrh7FowlKFhQTQ8iGvBdS+88ILdeeedblWePvNbiSZPB83nRjt37jSFTHbs2OHtKaryTvjFdbNmzey5555L6cjpCrIouHbeeefFPfYNN9xgEydO9NeHv5MapkbXk9eWKIQTDrLUrVvXxo8fn9dD+dtle5Al6pnxTz6fE+FnL69DCwW/6+FTGjhwoD355JPeYlX8UeAsqinMFw6itWjRwgs2KchTpUqVqM2SWpbfIEsmn+vwBWTTPQmfG/MIIIAAAggggAACCCCAAAIIIIAAAggggAACCCCAQGEIEGQpDPUCOiZBluweWkjDz+iFdVRLNgykF6C33nqrTZ48OWo3cZep+oeqgLgWDrIEwwrhF8LBcMnGjRtNw824puotrlpGeGgO1yeVz7wMuZPK/jPRNxxYUnWK7t275ziUqmgsXbrUW65KIwohlS5dOke/eAvSFWRR4ChR9Y9gKEHnooooCsapbd26Nd8VNMLPorfjv/4KB1natm1rQ4YMCXbJ0zRBlvwNLRQeRix8E4JDoyXqq+o8eva2bdsW3oU3rxBMvXr1TNVRFKZzVaIiO4cWhn+3UhlaKNPPdehUvSCYgjOu5SVclMhZ+032nrhz4BMBBBBAAAEEEEAAAQQQQAABBBBAAAEEEEAAAQQQKEwBgiyFqZ/hYxNkye4gS36r2qjiR7t27eyzzz7L8STpBbCG/9l99939dapO41o4PJAoyPL111/bKaec4ja1YLWWTZs2WYMGDfx1wSCLhk2aM2eOv05DBZUsWdKfz22iXLly9uqrr1qZMmVy65pV68NVJhRYiRouZcKECTHDqowaNcqaN2+e9LWkK8iiEJT2Fa898sgjpj+uBfuHnxv1qV69uuua1KdCJRdeeGFk33CQpUePHqY/+W0EWfIXmtDvigthRd2LVEITCs1dffXV/vBVUfvTMg1RpIpd+nctmZafIEumn+vw+aejIks670n4/JhHAAEEEEAAAQQQQAABBBBAAAEEEEAAAQQQQAABBApagCBLQYsX4PEKK8gSrkjB0EL/d9PDLvkNsowePdpU9cQ1vejt2bOn/eMf/4gJsLj1weBDQQRZevXqZWPHjnWHt48++sgL1/gLiulE/fr1TZUmUm0a3kcBgGRb8H4mGp4nvL9Zs2ZZ165d/cWvvPJKTFUdf8VfEw899JA99thj/mI9x5UrV/bmdZ26XtfOPfdcGzx4sJvN92c4yNKnT5+Yc8/rAQiyZE+QRfdQ93nBggU2ZcoU0/O5cuXKyFurqiOqVqXfutxafoIsmX6uw+dOkCUswjwCCCCAAAIIIIAAAggggAACCCCAAAIIIIAAAgj83QUIshTjJyCTQRa9cDzyyCMj9RRc0XAqrhFk+T+JdAdZgkPT6H/jT58+3apVq+bYYz7DL0oLIsjy5JNPmoalcS1YycMtK26fUZUckr1GVdH5/PPPk+3uVVFxQ7LkJ8gydOhQO/vss+MeNxxIUsigRIkSfv8aNWqYqgOpaZgYDVWUrkaQJV2S/9tP+LcgL8PYZLr6h57rDz/80F5++WVT4C/YLr30Urv99tuDiyKn8xNk0Q4z+VyHT7go3JPwOTOPAAIIIIAAAggggAACCCCAAAIIIIAAAggggAACCGRSgCBLJnULed/pDLLoBXvbtm39K3rxxRetcePG/nxwYtiwYTGVJVIJsugl+J133unvbtGiRVa2bFl/PtWJ8MvMESNG2JlnnpnqbtLSP91BluCLVt2bIUOGxD3PhQsXmqpluFYQQZbZs2ebXjq7pmDLaaed5mbT8rl+/Xp79913c+xLwYw99tgjx/JMLwgPw3PCCSfYvvvuG/ewui/r1q3z10+cONHq1PlftQx/RcSE+ukFuFr79u2tf//+Eb1yLgpXZLnpppvsmmuuydnxryUXX3yxVwVDs6qEMX/+/Ji+Z5xxhl9BQ8NHaf/pagURZNFQSDNnzkzXKed5P4ceeqi/ba1atWzSpEn+fDonilpoYu7cudaxY0efoG7dujZ+/Hh/Pt5E+Lc/1aG7Mvlch8+5qN2T8PkzjwACCCCAAAIIIIAAAggggAACCCCAAAIIIIAATx0p9QAALuhJREFUAgikW4AgS7pFs2h/6QyyfP/996aX8q4l+l/8wRff6p9KkGXOnDnWpUsXdxjvf+MfccQR/nyqE9u3b4+pHKP/yR8MV6S6v/z0T2eQJfyCP7eKHN27d7c333zTP/2CCLKsXbvWTjrpJP+YDRs2NA1jk872zDPPRAY4gsPfpPN4ue0r+PJbfRcvXpwwUKNqE7p3rmnIm1tvvdXNJvxs2bKlrVixwutz8sknmyySaeEgS6Lwyc8//2zHHXecv9uogMXVV19tU6dO9fu8/vrrpt+edLTwc56uoYWCVWbKlStnChQVdiPIEv8OaLi0zz77zOtQqVIlr1pL/N7/tyY8PNC9995rF110UW6b+esz+Vz7B/lrgiBLWIR5BBBAAAEEEEAAAQQQQAABBBBAAAEEEEAAAQQQ+LsLEGQpxk9AOoMs4RfKCrW89NJLOfSihlZJJcjy9ddf2ymnnOLvt1u3bta7d29/Pi8TwcoVGg5JwyIVRktnkEXnX79+fdPLWrV490Prou5JQQRZdOxwqElDhRx//PFalbAtWbLEDjjgAK8CSKKO2RRk+eGHH2Ku7ZhjjrEJEyYkOn3bunWr1a5d2+9TtWpVe++99/z5RBNXXnmlvfXWW16X3XbbzT755BPba6+9Em3irQsHWbQwXvjkiSeesPvuu8/f59133x1THUMrwtV+krlubadrX7ZsmdWrV0+zkS38u5OuIMvjjz9ugwcP9o/5/vvvW5UqVfz5wpj4OwZZvv32W+97npt3o0aNbMOGDV63ww47zBtGLbdttD6VqlXh/WXyuQ4fiyBLWIR5BBBAAAEEEEAAAQQQQAABBBBAAAEEEEAAAQQQ+LsLEGQpxk9AOoMsYlLVhzVr1vhiDz74oJ133nn+/PLly+2SSy7xwxVuRSpBlp07d3phABfQ0D4GDRpk55xzTsLKFu5YUZ8aNiUYXtEwFddff32uIYmofeVnWbqDLOGQyMCBA+3CCy+MOUUNu6MqH9u2bYtZXlBBlnAwSYELVRxR1Z0SJUrEnJOq52hoHYUnVq5cacmEXrIpyKLhtu644w7/mnIbssd11LOtyi2uKciiQEtuTdVtgiEvBWIee+wxO/jggxNuGhVk2X333b3KScHqR/rOBIccUh9VxShdunSO/ev7pO+5a6rcorBI1Ll8+eWX9tRTT3nDw9SsWTNmO7e9+8xUkGXy5Ml23XXXucOYhqsZPny4Va5c2V9W0BPBIIuq5GiItmSb+ic7BFs2hSYUNNEzpypZbdq0yfFs6d8D/a49/fTTPkUqVYuaNGliGn7MtfC/WW55vM9MPdfh42XTPQmfG/MIIIAAAggggAACCCCAAAIIIIAAAggggAACCCCAQGEIEGQpDPUCOma6gywKFtx2220xZ6//HX/44YfbV1995Q9zEtPhz5lUgizaVlUsbrzxxvBuTCEI17ReFSmSad988401a9YsR9fg/lTR5Pnnn8/RJ50L0h1kmTlzpqliTbCp4oyG8FG1C1UUUCAkqhVUkEXHVhBp5MiRMaeh4VyOPvpo08v7TZs2ec+OQlI7duzw+xW1IEs4WPSvf/3LFNTIrT366KM2ZMgQv1uyVUd27dplelHvKlW4HQSf61KlStnSpUvdKu8zKsjiOqiaSvny5W3dunU5nh1956699lrXNeZTwTN9h4L3Tx30+yCDPffc0xRg0e9EMKSm8E0wABOz0z9nMhVkUWhKVT6C56Jj6zx1/XJTa9WqVdJDPXkb5OOvYJAl1d0o6BGsZKXtf//9d2vXrl2OXSkcEnwmNFSP/oSbhl868cQT/cUaTm7EiBHevEJNwX34nf6aUGDEBXH0PLohsML9ghVT1E+hFv17ompMGs5uxowZtnnz5pjNZs+eHRmQiun018wLL7xgd955Z8wqHWffffc1XYNrr776amSIKd3PdVG4J86ETwQQQAABBBBAAAEEEEAAAQQQQAABBBBAAAEEEECgMAUIshSmfoaPne4gi17+6sX5xo0b4565XgT37dvXevbs6fdJNciil9fa/rXXXvP3EZ7o3r27V1UlvDzefFQIJ9hXFRnGjx8fXJT26XQHWXSC4YoB8U5awRW9FHYv7gsyyKL7qRft99xzT7zTi1xelIIsv/32m6kKiWv6Hnz++eduNuGnAgFnnXWW3yfZoXm0gcJKnTp1yvGy39/ZnxOrVq0Kzlo4yKKKMJMmTYrpE55RSKd///5WsmTJ8Cp/XtV3rrrqqoQBB7/zXxOFFWTR4adPn25XXHFF+JRi5lu0aOFVaolZmKGZdAdZwsNWpXra4eolmQ6yJHN+qpqje5JsU9hLz3ei0I32NWfOHDvooIMid5vO57oo3JNIBBYigAACCCCAAAIIIIAAAggggAACCCCAAAIIIIAAAgUsQJClgMEL8nD169f3gwsaqkRDluS3/fzzz9a1a1f75JNPcuyqYsWKpv8B/9///tfOPfdcf32qQRa34bRp07wqKXoJ6QIYbp2CLslWZHHbqCrAQw895A2PEhxuQusbN25sGhomky2VIIsCCskY6kWtKskoJBKuhqFrqVKliueksEPweejcubMXOHLXG6xaE66g8N1333k+rq8qa7hAw6+//moKXri2aNGiuEOc6IWwgjcLFixw3XN8qkrC6aef7r18bt68eY6hRsIbRFVcUJ/58+cX6NBRH374oTesljs/VfLQ0DrJtjp16piGF3EtaOyWxfvUd1Ihg48++shWr14d8xyE76X2ET5XVbgYN26cV20j/Axpew0FpaFfkmkKLY0aNcoeeeSRmOsJb6tKLRpKpm3btgmra4QrsgwYMCDGObzfVOfdMEfvvPOO/fDDDzF22pe+g4MHD051t3nqH6xOkuoOXnrpJa8iTnA7BQ9VoSmvLRwaSSXIomffuUU9g+6cNIyYAkVR/564Pvo89dRTvedQ1VpSbapAIx+FtZYsWRL5XM6bN8/233//uLtO13NdFO5JXARWIIAAAggggAACCCCAAAIIIIAAAggggAACCCCAAAIFKECQpQCxi9OhFEpQxYmffvrJuyy9MG3QoEFxusQidS36n/7Lli2z5cuXe0P1KFxy3HHH2V577ZV116EXy//5z3+881W1EA3lUq1aNTvwwAO9YUXcsC5Zd+LF/IQUilq8eLF3X3SpqlKk4ECJEiXydOX6bdDzqOdSgSfdX/1R5RGF3mgIOAEFPBQy0ZBW3377rRc2Ufjy4IMPzrrnhefa3TU+EUAAAQQQQAABBBBAAAEEEEAAAQQQQAABBBBAAIHMCRBkyZwte0YAAQQQQAABBBBAAAEEEEAAAQQQQAABBBBAAAEEEEAAAQQQQAABBBBIQYAgSwpYdEUAAQQQQAABBBBAAAEEEEAAAQQQQAABBBBAAAEEEEAAAQQQQAABBBDInABBlszZsmcEEEAAAQQQQAABBBBAAAEEEEAAAQQQQAABBBBAAAEEEEAAAQQQQACBFAQIsqSARVcEEEAAAQQQQAABBBBAAAEEEEAAAQQQQAABBBBAAAEEEEAAAQQQQACBzAkQZMmcLXtGAAEEEEAAAQQQQAABBBBAAAEEEEAAAQQQQAABBBBAAAEEEEAAAQQQSEGAIEsKWHRFAAEEEEAAAQQQQAABBBBAAAEEEEAAAQQQQAABBBBAAAEEEEAAAQQQyJwAQZbM2bJnBBBAAAEEEEAAAQQQQAABBBBAAAEEEEAAAQQQQAABBBBAAAEEEEAAgRQECLKkgEVXBBBAAAEEEEAAAQQQQAABBBBAAAEEEEAAAQQQQAABBBBAAAEEEEAAgcwJEGTJnC17RgABBBBAAAEEEEAAAQQQQAABBBBAAAEEEEAAAQQQQAABBBBAAAEEEEhBgCBLClh0RQABBBBAAAEEEEAAAQQQQAABBBBAAAEEEEAAAQQQQAABBBBAAAEEEMicAEGWzNmyZwQQQAABBBBAAAEEEEAAAQQQQAABBBBAAAEEEEAAAQQQQAABBBBAAIEUBAiypIBFVwQQQAABBBBAAAEEEEAAAQQQQAABBBBAAAEEEEAAAQQQQAABBBBAAIHMCRBkyZwte0YAAQQQQAABBBBAAAEEEEAAAQQQQAABBBBAAAEEEEAAAQQQQAABBBBIQYAgSwpYdEUAAQQQQAABBBBAAAEEEEAAAQQQQAABBBBAAAEEEEAAAQQQQAABBBDInABBlszZsmcEEEAAAQQQQAABBBBAAAEEEEAAAQQQQAABBBBAAAEEEEAAAQQQQACBFAQIsqSARVcEMiUwdOhQGzNmjLf7qlWr2vjx4zN1KPZbjAQ6d+5sy5cv966obdu21rt372J0dVwKAggggAACCCCAAAIIIIAAAggggAACCCCAAAIIIIAAAgj8HQUIshTTu7527Vo766yzbNeuXd4VdurUyW655ZZierVF/7Juv/12P8iyzz772Pz584v+RRWRK2jatKn9/PPPcc+2fPnyVqNGDTvyyCOtSZMm1qxZs7h9C3rFySefbGvWrPEOe/bZZ5sCUTQEEEAAAQQQQAABBBBAAAEEEEAAAQQQQAABBBBAAAEEEECgKAsQZCnKdy/Bua9YscJatmzp97jkkktswIAB/jwTqQvccMMNNnHiRG/DunXrprVqCkGW1O9HurY49NBDU9pVrVq17N5777U6deqktF0mOhNkyZtqJr/LeTsjtkIAAQQQQAABBBBAAAEEEEAAAQQQQAABBBBAAAEEEEAAASdAkMVJFLNPgizpv6GXX365zZgxw9uxKnRMnTo1bQchyJI2ypR3lGqQxR1g0qRJplBLYTaCLHnTz+R3OW9nxFYIIIAAAggggAACCCCAAAIIIIAAAggggAACCCCAAAIIIOAECLI4iWL2SZAl/Tc0ky+/P//8c1u2bJl30occcogdf/zx6b8A9hgpEAyyVKpUyR599FG/35YtW2zlypVegGnevHn+ck1UqVLFZs+ebWXKlIlZXpAzM2fOtE2bNnmHbNCggVWvXr0gD19kj5XJ73KRReHEEUAAAQQQQAABBBBAAAEEEEAAAQQQQAABBBBAAAEEEMgSAYIsWXIj0n0aBFnSLWrGy+/0m2bDHoNBFlVYUaWVqDZ9+nS74oorYlb17dvXOnfuHLOMmewX4Luc/feIM0QAAQQQQAABBBBAAAEEEEAAAQQQQAABBBBAAAEEEPj7ChBkKab3vqCCLDt27LB169ZZyZIlrVq1amnV/Pbbb23jxo124IEH2j777JOnff/444+2fv1623333e3//b//551nnnb050ZF5eX3H3/8YWvXrjV9yq5UqVJ5veSY7X766SfTPdlzzz3toIMOshIlSsSsL6ozyQZZdH333HOPjRo1yr/Utm3b2pAhQ/z5VCZ27txp33zzjf3yyy/ed6dChQqpbJ6Rvvo+6/uiey2XsmXLpuU46fgu60RktmrVKu/7nJ9nMFPf5Uz8Hup7/P3339t3331nBxxwgO23335puSfsBAEEEEAAAQQQQAABBBBAAAEEEEAAAQQQQAABBBBAAIFsFSDIkq13Jp/nlckgi16qDhgwwObPn++FWNyp7rbbbnbYYYfZ6aefbtdff33KAQq97H7wwQfts88+s9WrV5teCrumfWu4HVXEaNasmVsc86kXvtp2ypQpNm3aNG8fMR3+nNHL76OPPtq6detm9erVC6/2559++ml79dVX/XlN6Jy2bdvmL6tRo4Y/HZw488wz7cYbbwwuipnWUDW333677dq1K2a5m9HL6ocfftjNJvUpq8GDB9usWbO8F/1BO12zrvWOO+6wfffdN+H+evXqZQsXLvT6nHvuuZ73+PHjvfuigINruh/HHXecDR061CpXruwW5/r5wAMPeMPxBDsqbDNy5MjgogKdTiXI8uWXX5rur2tHHnmk97y5+eCnnsdWrVr5i6699lo7++yzve+NnvPwUEUKW+m5vOyyy2zvvff2t3MTkydPttGjR7vZHJ9nnHGGt22OFaEFixYtsptvvtlbWrp0aW+fel769etnOkawKUDWo0cP69SpU3BxrtP5/S4HD6Cwj54bPZf6Drrmfm/atWtnXbt2dYtzfGbyu6yDpev3UM+Knhm1u+66yxo2bOhd93PPPRfzu6PnpE2bNt5vsO4fDQEEEEAAAQQQQAABBBBAAAEEEEAAAQQQQAABBBBAAIHiJkCQpbjd0b+uJ1NBlrlz53ovy4OBjihChTyeeeYZr4JA1PrwsjFjxngvb4MBjHAfN3/JJZd4L3HdvPvU8fr37+9mc/3s06dP3Bfgd955p73wwgu57iOqQ4sWLWz48OFRq7xl7777bsLhaBQeUEgo2abqKxre5quvvkq4iSqpPPXUU3bCCSfE7XfOOefY4sWLvfUnn3yytWzZ0nr37h23v16qv/7661azZs24fYIrLr300hxBllSvN7i/dEynEmTR8xkMMOn6ly5dGnkaCiUo2OWanjdVONFnoqYQQ1Rw5N577/XuX7xtFZJRsCi39sEHH1j79u39bmPHjvXCKqqsFK9dcMEFdt9998VbHbM8Hd9lt8MJEyZYz549Y0Jtbl3wU8+0vnNRVW0y+V1O5+9h8DlU0O3TTz/NESwKXrOerYkTJ6atak5w30wjgAACCCCAAAIIIIAAAggggAACCCCAAAIIIIAAAgggUJgCBFkKUz+Dx85EkGX27NmmIEK46WW+hvwIh1C0/P333891WKCrr77apk6dGt6tN3xI+fLlbcOGDTHrFLZ45JFHYpZpRpUXVCkm3CpVquQt2rRpU45zjPeC/u677zZVQshLU6ikb9++cTdNZ5Dlhx9+sCZNmuS4LlWr0JBCUYEjBXS0TVQLBlnC67VPtfB9VojgpZdeCnePnC/qQRaFPZo2bepfW7ly5fwKNv7CvybCQZZTTjklR4gnvI3m9ex17Ngxx6pMBVn0PQ0+J+F5dyJvvPGG1a5d281Gfqbru6yd6zv0/PPP5zhOxYoV7ddff405Z3WqUqWKvfPOO+aeU7dhpr7L6f49DAZZdA3B71m8e6KQz5VXXukulU8EEEAAAQQQQAABBBBAAAEEEEAAAQQQQAABBBBAAAEEioUAQZZicRtzXkQmgizNmzePGdpDQ/xoOJv99tvPOwFVplAliY0bN/onpOCCqgvEa1Evg/USXy/E3ZA1Csl88cUXXkWIOXPmWG5BFgVXLr/8clNlFA3TU7JkSe/wCha8+eabdtttt9mWLVv8U9I+NfxObk37nDFjhtdNVTmiwje57UPrNaRQMDigZXf9WYVDlTHUUqlQEq42oWtXAEdD3qhp2BMN86QqHK4lOveoIMsxxxzjVfo4+OCDvaFPZHDNNdfEvGifOXOmVa9e3R0i7mdRD7IosBOsqNK4cWN78cUXI683HGQJdlL1FA3dpGGuypQp4z3fr732mvcMxAuy6Hvw+++/B3djGk7IVVLJa0UWt8NBgwZ536099tjDfvrpJ7vhhhtM3w3XNKTSiBEj3GyOz3R+lz///HNr27ZtzDFuueUWr4KSvNRUieiqq67yKwhpmYZM0m9Hbi0d3+V0/x4Ggyzu/PVbqO+vfhO2b99uw4YNiwnxKUj1ySefpDyMm9s/nwgggAACCCCAAAIIIIAAAggggAACCCCAAAIIIIAAAghkowBBlmy8K2k4p3QHWaZPn25XXHGFf2YKsWgoHxcScSsUYjn11FNt8+bN3iJVFpg3b15kVRZVHFAQIBh8eeKJJ7yX825/4c9p06bZqlWrvBfY4XULFy70KjWceOKJ4VUx8zqfiy++2F+WW9jGdUzHy2+3r/Cnwj4akkUt2SCL3Bo2bOjvStspZKLPYFMAokOHDt59cMt17zR0ULiFgyyqwKGhg1TdJdjCgQ5Vz1AlmtxaUQ6yfPfdd6aqKsEQ0k033eSFeqKuO16Q5bHHHrPWrVtHbWIrV670gi3JBKu0A93DNWvWePvKT5BFYRx9F4NNgSs9Xz/++KO3WFVB4g2jlO7vsoa00m+Ya+PGjbN69eq5Wf9T56jAixsOS783qgLlwnV+x9BEfr/Lmfg9DAdZ9Hvbq1ev0Jmb99un30HXdC7BIazccj4RQAABBBBAAAEEEEAAAQQQQAABBBBAAAEEEEAAAQQQKKoCBFmK6p3L5bzTHWS58MIL7eOPP/aPOmnSJKtVq5Y/H5zQi/qHHnrIX9S7d2/r1q2bP+8mXn75Za86iptXBZXhw4e72Yx+amid9evXe8dIVFUjeBL5ffkd3Fd4Oi9Blscff9yriOP2lWiYEYV8VAHENV2/hhgKt3CQJSrgoG1UGaRmzZr+5rq/us+5taIWZFFAY/Xq1fb222/bAw88EFOFRtc6a9YsO+SQQyIvOyrIkmxoKnKHEQvTEWTR91jf56j24IMPelVA3DpVRgqHmrQund9lVfcJ/l6o+o8CQ/Hal19+aaoW45ru0/nnn+9mIz/z+13OxO9hMMiiQI4qrey11145zj8cxNPwS7mF93LshAUIIIAAAggggAACCCCAAAIIIIAAAggggAACCCCAAAIIZLEAQZYsvjn5ObV0B1kaNWpkGzZs8E5JL+71Aj9eC1cKueCCC7xhgcL9NUSLKnu4pqFJNHxNQTRVD3n33Xe9QyUaaid4Lvl9+R3cV3g6L0EWvdxXtRTX9OK7QoUKbjbHZzC8U6VKFa9yRbhTMMiSqAKHtlO1DldN56yzzrJHH300vLsc82+88UaO4+6///4Jgwo5dpLmBcEAQSq7jjcEkNtHOMiicILCYOXLl3dd8v2ZjiDLHXfcYV26dIk8Fw13pCF9XJs7d643XJebd5/p/C6HwzOqsKLnNVELPtuqPtSvX79E3b2hx/IzTFgmfg+Dz6Eq/zz99NOR16DKQMHqOffdd5/pN5aGAAIIIIAAAggggAACCCCAAAIIIIAAAggggAACCCCAQHERIMhSXO5k6DrSHWQJvmRNJrRQp04d27Jli3dWJ5xwQkxgxZ1qu3btvKoDmi9Xrpypakg62tatW02VRN577z1bu3atF8Bx5xK1fw3jMmfOnKhVMcuyLcgS9EtmOKIrr7zS3nrrLe+aFKoIDt3iLjQYZMktsNSqVStbvny5t6mGk3rqqafcborUZ/DZTubEZdejR4+4Qwq5fYSDLHXr1rXx48e71Wn5TEeQJdFwXgqudOzY0T9XhT+ivILPYn6/y8HvmX/gFCYSVZhxuwkeI9kgm9tWn0GDdP0eBvcpcwWlopqGCjviiCP8VXfddZd16tTJn2cCAQQQQAABBBBAAAEEEEAAAQQQQAABBBBAAAEEEEAAgaIuQJClqN/BOOefziBLuMJKMsOjNG/e3BuSRadXtWpVL1QSPtX69evbjz/+6C1O5uVzePuo+aFDh3rDE23bti1qdeSyeNVJwp3z+/I7vL/gfF4qsgSrQiTzMr5v376mYUhcW7Bgge29995u1vsMBllyG3KpTZs2tmjRIm+7eGGlmJ1n6UwwQBDvFFWdRs+xgiMKsSRTVSUcZGnbtq0NGTIk3iHytDwdQZZEw4SFh7FRRZ3atWvnONd0fpeDvx05DpTEgmS+z/n5Lmfq9zD4HCYaJkwEqfRNgowuCCCAAAIIIIAAAggggAACCCCAAAIIIIAAAggggAACCGSVAEGWrLod6TuZdAZZFi9ebAo4uJbbS1b1C1ZoiDdETfBlbDoqemiIDVWXCDcdv2LFirbXXnv5q1avXm0u7JLMi29tmJ+X3/6B40zkJcii8MqOHTu8PSYTJFHI5+GHH/bPYNq0aTGVHbQiGGRRSOKZZ57x+4cnimOQpVKlSjFhn1KlSnnD2pQtWzZ8+bnOh4MsCsDoTzpbOoIsUc+BO8dkgyzp/C4fddRR/ndT51G9enV3Okl9asirQYMGJeybn+9yQfwe6vdAgcF4LeidzO9xvP2wHAEEEEAAAQQQQAABBBBAAAEEEEAAAQQQQAABBBBAAIFsFCDIko13JQ3nlM4gy7p166xp06b+WWmIGr08TdRatmzpD12jEMnHH3+co3tw+KF69erZuHHjcvRJdsGqVavs9NNPj+l+3XXXeUNu6Pjh1rlzZ3v33Xe9xUU1yJJqFYx77rnHRo0a5VN8+OGHpuBGsP3dgyzpqgwk03CQpU+fPta1a9cgd76nsyXIks7vcpMmTWz9+vWeTW7DW+UVMD9Blkz9HgbDKQRZ8npn2Q4BBBBAAAEEEEAAAQQQQAABBBBAAAEEEEAAAQQQQKA4CBBkKQ53MeIa0hlk2blzZ0zljmSGSAmGLI455hibMGFCjrM866yzbOnSpd5yBSoUrMhrC1djUWWWM844I+7uggGAohpkCYZO4oWFggAK9kyePNlftHLlSitRooQ/r4ngPv+OFVkIssQ8DpZsRZZ0fpc7dOhg77//vnci8ao5xZ5l6nP5CbJk6veQIEvq95EtEEAAAQQQQAABBBBAAAEEEEAAAQQQQAABBBBAAAEEiqcAQZbieV+9aiiqiuLaJZdcYgMGDHCzKX8ee+yxtnnzZm+7eMEUt9Pff//datas6WZNQ9AEh7RxK66//np744033Kx99tlnMcP/+CuSmLjwwgv9qi+5hTp27drlnZ8blicvQRYNdzJz5swkziy5LnkZWujqq6+2qVOnegfYbbfdbMmSJabPeC0YUolnFOyTiSDLwoUL/Uo97jz33ntva9GihZst8M9ggIAgSyx/skGWdH6X+/XrZ88++6x/IosWLbK8DO3k7yBiIhhkyct3ORO/h8HnkIosETeNRQgggAACCCCAAAIIIIAAAggggAACCCCAAAIIIIAAAn8bAYIsxfRWp7Mii4iCFRc0/8EHH1jlypU1maO99tprdsstt/jLr732Wrvxxhv9eTcxbNgwe/DBB92s6eXyrbfe6s+nMhE8v9yCKRrCKDg0Um793Xn06tXLxo4d682WK1fOFMpIV8tLkGXQoEE2cuRI/xQUFlJoKKqFh0OJF0bKdJDl0ksvtdmzZ8ec4j777GPz58+PWVaQM8EAAUGWWPlkgyzp/C6//PLLdtttt/knkluow++YwkR+v8vB3xsdNh2/h8HnMLdrDvbVb5mGe6MhgAACCCCAAAIIIIAAAggggAACCCCAAAIIIIAAAgggUFwECLIUlzsZuo50B1k0VI+G73GtW7du1rt3bzfrf6raSevWrWOqbkyZMsWOPPJIv4+b2LhxozVu3NhcZRRVE1HIoWrVqq5Ljs9NmzbZqlWrrEGDBjHrgsPmaDiSBQsWmD7DTdVidMwff/zRX5VskOXxxx+3wYMH+9tp+BNtm46WlyDL4sWLvaGA3PGPOuooe/PNN3MMF6T1d999tz333HOuq8V7UU6QpZZNmjTJd8rPxB9//GGHHXaYv4s+ffpY165d/fl0TASHyDr77LNt6NChue5WoYv27dv7/aZNmxYzdJi/4s+JZIMs6fwub9261U444QTbsmWLdyr6Hus8VLknUdNvj/rp+51by+93ORO/h8FwSrzvp7uuYF+CLE6FTwQQQAABBBBAAAEEEEAAAQQQQAABBBBAAAEEEEAAgeIiQJCluNzJ0HWEgywauqV79+6hXvFnDzjgAKtQoYLfYdu2bVa3bl3Tp2vhl60KpKiqisIoruU2PM2TTz5pAwcOdN298Mljjz1mp512mr/MTajSi4555pln2iOPPOIWe58jRoyw+++/31+myiSq9hIcamfNmjXWoUMH02ewJRtkmTx5sikw45o8hg8fHrcyjeuXzKeua8yYMV7XVCqU6HoUqHHt9NNP986pVKlSbpGFbfbcc0/75JNPrHTp0n4fN0GQhSCLexb0mWyQRX3T9V3WvsJVnfSdUEjnxBNP1OqYplDaCy+84A1HpGkF3XJr+f0uZ+L3MBhOCf+2hq8n2JcgS1iHeQQQQAABBBBAAAEEEEAAAQQQQAABBBBAAAEEEEAAgaIuQJClqN/BOOcfDrLE6RZ38YABA+ySSy6JWR+uQqCVCoGoOsqvv/5qH3/8sV9FwW0YrxqLW79z505r1qyZrV+/3i3yPitVqmQa5qVEiRKmKixffPGFv2+FLcJBlu+++87bj6vuop3o5beCHaro8Nlnn9mSJUv86i/BgyUbZNm+fbs1atQoppqL9qNgSPny5c2FR1q1ahV3iKTRo0ebhjYKt9WrV9vmzZv9xbVr1/an3US1atVMQ7gE26JFi3IMJ6TzadiwoXdeGrInbJvoJTlBluwMsmioruXLlwdvvTe9bNky/5nWfa9evXqOPqqQFBx6JhMVWXTQdH2X3QWEh+/RclVrUnUnfX799dfe70L4+U4myJKO73K6fw+D4ZRE31E5BPsSZJEIDQEEEEAAAQQQQAABBBBAAAEEEEAAAQQQQAABBBBAoDgJEGQpTnczcC2ZCLLoRbWqpzz99NOBI0VPqhLKww8/7A0zFN3jf0tVRUEv6t9+++3/LUwwFRVkUfdwFYd4uzjkkEO8oVRmzJjhdUk2yKLO06dPtyuuuCLerr3lqn6jSi1RrW/fvvb8889Hrcp1WcWKFb2wULijhsK56aab/EBDeH1wXucu65IlSwYX+9MEWbIzyNK8eXNT2CkvrW3btjZkyBB/00wFWXSAdH2XtS8NMXTHHXfY66+/rtmkWzJBFu0sv9/ldP8eBsMpBFmSvt10RAABBBBAAAEEEEAAAQQQQAABBBBAAAEEEEAAAQQQKIYCBFmK4U3VJa1cudLOOOOMPF+dhuU577zzIrfX0EE9evSIqSAS7KiKCSNHjrSDDjoouDjXaQ33ceedd+aoeOI2VGWViy66yLp16+ZVZHDLg58aZufGG2+0DRs2BBd70+XKlTMFNXSMm2++2d58801vuapYzJw5M0f/eAu+/PJLe+qpp+ydd975/+zdMUoDURAG4Fd7AbGRgCCSMhaewyrkJDmBYJNzpLDzCskFLLyBYJPUlsosbCbgkiAqg/ItyI6+zY77ZTdNft5rm83mU4Dk9va2LRaLwZff3993NoODR/4Ys1Cs1+vBoyLkECGVCDANbTE7TQSLYvabQ9tXgizT6XQXrLm5uWnL5fLQqbuxWHqqDxD1Bx+6rv6Y39xfXl7u3sPr6+v28PDwI+3e39/bxcXF7lxDsxztBo8UQ7OTHHnJbng2m7W7u7vd718Jsjw9PbW4n/vt8fGxDc0W1I/3+594lvtzrVarNp/PP80s1I/HPu7vuHdjSbHJZLI/dLD+zrPcn/inPg+/EmTZv2fNyNK/E/YECBAgQIAAAQIECBAgQIAAAQIECBAgQIAAAQL/RUCQ5b+8kwXXEUv+PD8/t5eXl657BFiurq7aycnJt/6bmIkhllGJZVO2220XiBmNRt25I8xybIuZEiLQET+x/Eh8QRzLH52enh576Z8fD7twiyWH4n04Oztr4/G4+6L/z1+cC/hzAt99lvcv+O3trUXwJO7v19fX7nmO5bYiMHd+fr5/aEn9W5+HJRejKQECBAgQIECAAAECBAgQIECAAAECBAgQIECAAIFCAUGWQnytCRAgQIAAAQIECBAgQIAAAQIECBAgQIAAAQIECBAgQIAAAQIEUkCQJS1UBAgQIECAAAECBAgQIECAAAECBAgQIECAAAECBAgQIECAAAEChQKCLIX4WhMgQIAAAQIECBAgQIAAAQIECBAgQIAAAQIECBAgQIAAAQIECKSAIEtaqAgQIECAAAECBAgQIECAAAECBAgQIECAAAECBAgQIECAAAECBAoFBFkK8bUmQIAAAQIECBAgQIAAAQIECBAgQIAAAQIECBAgQIAAAQIECBBIAUGWtFARIECAAAECBAgQIECAAAECBAgQIECAAAECBAgQIECAAAECBAgUCgiyFOJrTYAAAQIECBAgQIAAAQIECBAgQIAAAQIECBAgQIAAAQIECBAgkAKCLGmhIkCAAAECBAgQIECAAAECBAgQIECAAAECBAgQIECAAAECBAgQKBQQZCnE15oAAQIECBAgQIAAAQIECBAgQIAAAQIECBAgQIAAAQIECBAgQCAFBFnSQkWAAAECBAgQIECAAAECBAgQIECAAAECBAgQIECAAAECBAgQIFAoIMhSiK81AQIECBAgQIAAAQIECBAgQIAAAQIECBAgQIAAAQIECBAgQIBACgiypIWKAAECBAgQIECAAAECBAgQIECAAAECBAgQIECAAAECBAgQIECgUECQpRBfawIECBAgQIAAAQIECBAgQIAAAQIECBAgQIAAAQIECBAgQIAAgRQQZEkLFQECBAgQIECAAAECBAgQIECAAAECBAgQIECAAAECBAgQIECAQKGAIEshvtYECBAgQIAAAQIECBAgQIAAAQIECBAgQIAAAQIECBAgQIAAAQIpIMiSFioCBAgQIECAAAECBAgQIECAAAECBAgQIECAAAECBAgQIECAAIFCAUGWQnytCRAgQIAAAQIECBAgQIAAAQIECBAgQIAAAQIECBAgQIAAAQIEUkCQJS1UBAgQIECAAAECBAgQIECAAAECBAgQIECAAAECBAgQIECAAAEChQKCLIX4WhMgQIAAAQIECBAgQIAAAQIECBAgQIAAAQIECBAgQIAAAQIECKSAIEtaqAgQIECAAAECBAgQIECAAAECBAgQIECAAAECBAgQIECAAAECBAoFBFkK8bUmQIAAAQIECBAgQIAAAQIECBAgQIAAAQIECBAgQIAAAQIECBBIAUGWtFARIECAAAECBAgQIECAAAECBAgQIECAAAECBAgQIECAAAECBAgUCgiyFOJrTYAAAQIECBAgQIAAAQIECBAgQIAAAQIECBAgQIAAAQIECBAgkAKCLGmhIkCAAAECBAgQIECAAAECBAgQIECAAAECBAgQIECAAAECBAgQKBQQZCnE15oAAQIECBAgQIAAAQIECBAgQIAAAQIECBAgQIAAAQIECBAgQCAFBFnSQkWAAAECBAgQIECAAAECBAgQIECAAAECBAgQIECAAAECBAgQIFAoIMhSiK81AQIECBAgQIAAAQIECBAgQIAAAQIECBAgQIAAAQIECBAgQIBACgiypIWKAAECBAgQIECAAAECBAgQIECAAAECBAgQIECAAAECBAgQIECgUECQpRBfawIECBAgQIAAAQIECBAgQIAAAQIECBAgQIAAAQIECBAgQIAAgRQQZEkLFQECBAgQIECAAAECBAgQIECAAAECBAgQIECAAAECBAgQIECAQKGAIEshvtYECBAgQIAAAQIECBAgQIAAAQIECBAgQIAAAQIECBAgQIAAAQIpIMiSFioCBAgQIECAAAECBAgQIECAAAECBAgQIECAAAECBAgQIECAAIFCAUGWQnytCRAgQIAAAQIECBAgQIAAAQIECBAgQIAAAQIECBAgQIAAAQIEUkCQJS1UBAgQIECAAAECBAgQIECAAAECBAgQIECAAAECBAgQIECAAAEChQKCLIX4WhMgQIAAAQIECBAgQIAAAQIECBAgQIAAAQIECBAgQIAAAQIECKSAIEtaqAgQIECAAAECBAgQIECAAAECBAgQIECAAAECBAgQIECAAAECBAoFBFkK8bUmQIAAAQIECBAgQIAAAQIECBAgQIAAAQIECBAgQIAAAQIECBBIAUGWtFARIECAAAECBAgQIECAAAECBAgQIECAAAECBAgQIECAAAECBAgUCgiyFOJrTYAAAQIECBAgQIAAAQIECBAgQIAAAQIECBAgQIAAAQIECBAgkAKCLGmhIkCAAAECBAgQIECAAAECBAgQIECAAAECBAgQIECAAAECBAgQKBQQZCnE15oAAQIECBAgQIAAAQIECBAgQIAAAQIECBAgQIAAAQIECBAgQCAFBFnSQkWAAAECBAgQIECAAAECBAgQIECAAAECBAgQIECAAAECBAgQIFAoIMhSiK81AQIECBAgQIAAAQIECBAgQIAAAQIECBAgQIAAAQIECBAgQIBACgiypIWKAAECBAgQIECAAAECBAgQIECAAAECBAgQIECAAAECBAgQIECgUECQpRBfawIECBAgQIAAAQIECBAgQIAAAQIECBAgQIAAAQIECBAgQIAAgRT4AAAA//8CAILeAABAAElEQVTs3XncVfPe//FPJR53NJFKIkkDkRQaFBlLoTIcU3IbmuSIBpWxCFGJRFJyynCMccRdqZCIOKEUknKnJFE5kn7R8PNe9/mus/baw7X3de29r33tXt/HI3ut7/qu6bnWvvyx34/Pt9SuP5vREEAAAQQQQAABBBBAAAEEEEAAAQQQQAABBBBAAAEEEEAAAQQQQAABBBAoZoFSBFmK+QlwegQQQAABBBBAAAEEEEAAAQQQQAABBBBAAAEEEEAAAQQQQAABBBBAAAFPgCALLwICCCCAAAIIIIAAAggggAACCCCAAAIIIIAAAggggAACCCCAAAIIIIBATggQZMmJx8BFIIAAAggggAACCCCAAAIIIIAAAggggAACCCCAAAIIIIAAAggggAACCBBk4R1AAAEEEEAAAQQQQAABBBBAAAEEEEAAAQQQQAABBBBAAAEEEEAAAQQQyAkBgiw58Ri4CAQQQAABBBBAAAEEEEAAAQQQQAABBBBAAAEEEEAAAQQQQAABBBBAAAGCLLwDCCCAAAIIIIAAAggggAACCCCAAAIIIIAAAggggAACCCCAAAIIIIAAAjkhQJAlJx4DF4EAAggggAACCCCAAAIIIIAAAggggAACCCCAAAIIIIAAAggggAACCCBAkIV3AAEEEEAAAQQQQAABBBBAAAEEEEAAAQQQQAABBBBAAAEEEEAAAQQQQCAnBAiy5MRj4CIQQAABBBBAAAEEEEAAAQQQQAABBBBAAAEEEEAAAQQQQAABBBBAAAEECLLwDiCAAAIIIIAAAggggAACCCCAAAIIIIAAAggggAACCCCAAAIIIIAAAgjkhABBlpx4DFwEAgggkH8C8+fPt759+/o39tprr1mVKlX8dRYQQAABBBBAAAEEEEAAAQQQQAABBBBAAAEEEEAAAQQQQACBsABBlrBIHqx//vnndvHFF9vOnTu9uxk4cKB16dIl7p0tXbrULrroIn977969rWfPnv46CwgggEBhBGbOnGm9evXyd1WwpXr16v46CwgggAACCCCAAAIIIIAAAggggAACCCCAAAIIIIAAAggggEBYgCBLWCQP1t988027+uqr/Tu58cYbEwZTPvnkEzvvvPP88QqxaB8aAgggUBQBgixF0WNfBBBAAAEEEEAAAQQQQAABBBBAAAEEEEAAAQQQQAABBHZPAYIsefjcCbLk4UPllhAogQIEWUrgQ+OSEUAAAQQQQAABBBBAAAEEEEAAAQQQQAABBBBAAAEEEChmAYIsxfwAMnF6giyZUOWYCCCQqsC6dets3rx53m7lypWzDh06pHoIxiOAAAIIIIAAAggggAACCCCAAAIIIIAAAggggAACCCCAwG4mQJAlDx84QZY8fKjcEgIIIIAAAggggAACCCCAAAIIIIAAAggggAACCCCAAAIIIIAAAruBAEGWPHzI2Qyy/P7777ZmzRr77bffbP/997cqVapYmTJliqS6detWW7lypVWrVs07XpEOFmPnHTt22HfffWe//PKL1axZ0ypVqhRjVOIu3e/atWtNx6pTp47tscceiXeIs/WPP/4wVa34+eef7eCDD7aKFSvGGVlw965du2z58uWeW/g4us5ly5Z559hnn30KPlhohPbXM9lrr73soIMOslKlSoVG5MdqJg2dkJ716tWrrWrVqt6/XLbUteq7Ur58eTvwwAOL/N12BoX93F3ew8L6sB8CCCCAAAIIIIAAAggggAACCCCAAAIIIIAAAggggAAC+SBAkCUfnmLoHjIdZPnhhx9s9OjR9o9//MO2bdsWOrvZfvvtZ23btrVzzjnHjj/++KjtsTref/99mzBhgn322We2YcMGf4iCEw0bNrQ+ffpY69at/f5ECwojnHnmmf6Qa6+91s466yxbuHChjRw50hYsWOBv04LO0a1bN7v66qutQoUK/rZnnnnGpkyZ4q0feuih9sgjj9iiRYts6NCh9umnn/rjtFCrVi0bMWKEHXvssRH94RUFA+bMmWP/8z//Y/Pnz4/y23vvva1u3brWsmVL757Lli0bPoS3Pn36dHvwwQe9ZZ2zRo0a9tBDD/nHU7hm/PjxXuikV69e9s4779j27du98dqme1PwKFFTgEH3pHtetWqVP1ShHR3j/PPPt6uuusrvT2ZBx3v77bcjhiog8dhjj0X0ZWMlG4a6D31H9KzeffddL2gU/s7IUu9fp06dbM8994y6db0v7llXrlzZJk+eHDXGdbz44ov+O6vwydNPP+02xfx86qmnTP/UFH567rnnvFDaxIkTve/jli1bIvZr0qSJ9e/f35o3bx7RrxV976688kpv/6iN/+549NFHTfeQSsvEe5jK+RmLAAIIIIAAAggggAACCCCAAAIIIIAAAggggAACCCCAAALZFSDIkl3vrJwtk0GWadOmeQGLZG5EP6QrBJGoqcLCPffcY5MmTUo0zNumoMnAgQMLrAqhH9QVDnDt5ptvtnLlypk+E7UhQ4ZY165d/SH33Xef6Yd3NYVdpk6dah07dvQDIf7AwIKCGuedd16gJ3Lx8MMP98MmkVui12rXrm1PPvmkF1IJb33iiSfszjvvDHdHrCvc0qBBA9P7EG7apmBFvPbKK6/YjTfemPBetW+zZs1s3LhxSVe1UdAhHGRRsEEho2y3TBvqfv75z3+agkTBcFa8+1Slm7lz50ZtDr+HX3zxRdQY16GglgJXagocffXVV25TzE999xQgU9M7rnDVueeeGxFcCu+osJUCZ+G2c+dOO+yww8LdEes6fvXq1SP6Eq1k6j1MdE62IYAAAggggAACCCCAAAIIIIAAAggggAACCCCAAAIIIIBA8QoQZCle/4ycPVNBFk1NE6x04i5eoQhNV6PKCcEKDvphPNGP7qoQouOtWLHCHcr/1LQrGzdujApSKEiiajCJWjjI0qZNm6jwRKz9VWnlsssu8zcFAwTq1P0Eq2mE190YhXdiVdbQ9lhBFh3H3W/Qzx3v1Vdf9aq0aN21WCEMdwxXecWN1aeq5Pz6668R1//aa6/ZEUccERzmLd9+++1egCa8IdYxNEbBBFV8SWZ6pVwPsqTLUC6qhnLrrbdqMarJ7Keffop4v+MFeoLvYUHfqaIGWerXr2+LFy+Out5gR7aCLJl8D4P3wzICCCCAAAIIIIAAAggggAACCCCAAAIIIIAAAggggAACCOSWAEGW3HoeabmaTAVZ9KN8cKoSTStz/fXXm37Ydm3r1q02c+ZMe/jhh23NmjUJgyyqdqIf6V3Tce6//3479dRTrXTp0l73Bx98YD169LDNmze7Yfbyyy/b0Ucf7a+HF8JBluB2TTHUuXNnL8ChsMny5cvtpZdeshdeeMGbMihRkEXHUZUZTbuiKVbKlCnj7X/55ZfbunXr/NOoUsqll17qrwcXXJClXbt29t///d925JFHetVi3BhN2zRs2DB7/fXXXZd16NDBmzbI7/hzIRxk0Y/+7jpOPvnkiMDKdddd5z2nf/3rX3biiSf6ln379jVNuxRsqrShsFCwDRgwwJtCyIVz9FxVZWTp0qX+ME03c8011/jr8RZyOciSLkPduyqwtGjRIiKo0rhxY7v33nu9akHu/Vb4S1V3NLVScQdZgs9M38VBgwZ53zNNq7V27VqvupIqDilsFasii/bX9z/YZs+eHVHBKdmKLJl+D4PXyDICCCCAAAIIIIAAAggggAACCCCAAAIIIIAAAggggAACCOSWAEGW3HoeabmaTAVZWrVq5f2grYusV6+ezZgxI+H1rlq1ymrVqhVzjKqtNG/e3P+hXwERTatSqVKlqPEae8IJJ/jhDE25M2fOnKhxriNekGXs2LHWvn17NyziU1VhFNTQ9C6uBSthqE/VMPRDvAIHwfbtt9+aqr64piDJ448/7lYjPhXyOe6442zfffeN6A+vdOrUKaIyxpIlSyICL+EgS3C7Ai3z5s3zD6npbdz5FDxShRc1VcNR4CjYFLAJTkfz4osveqGd4BgtaxoZBV5cmEXVWGRTpUqV8NCI9VwOsqTLUDf817/+NSKMpNCSgmClSpWK8HArMtcUPwqKhFvwPcxkRRZ33qZNm3rXEuu7qKnA9Jxbt27thif81Puu0JNryQZZMv0euuvhEwEEEEAAAQQQQAABBBBAAAEEEEAAAQQQQAABBBBAAAEEck+AIEvuPZMiX1GmgiyqguIqo9SpU8dmzZpV6GsdMmSITZkyxd//2WefteOPP95fDy9orPZx7f3337dq1aq51YjPWEEWBShuueWWiHEFrQQDBBrbs2dPu/HGG2Puds4555iCEGqanmX69OkxxyXbqWl/VEnFtWnTplnDhg3dakRFFk3589FHH/nbhg8f7lX4UEd4Gphx48b5YQmFg1QNxDWFg7p16+ZWrXfv3tavXz9/Pbzw9ddf2xlnnOF3K4Rx3nnn+euxFnI1yJIuQ91zONik4NOHH37oVfCJZVJQX/A9zHSQRYGkBQsWRIW1CrrGeNsLE2TJxnsY73rpRwABBBBAAAEEEEAAAQQQQAABBBBAAAEEEEAAAQQQQACB4hcgyFL8zyDtV5CpIIsqeCxbtsy/XlX20NQ4hWnB4Ee8KVWCx920aZOpUoRr48ePt9NPP92tRnyGgyz6cV5Bj4oVK0aMK2glGCDQWP0oX7du3Zi7BSudJHM/MQ8S6JSzvF1TBZaTTjrJrUYEWVRFRtVsXHvooYds9OjR3mrVqlVN0zO5NnnyZG8KJa3r2bnqLFofOXKkPfLII1r0WjLVM1q2bOlPq9SlSxe744473O4xP3U+HTfY9t9//4SBmeDYdC4Hq9qky1DXFw5v3H333XbRRRcV+tKD72GmgywKMg0ePLjQ1xreMWyRzDuVjfcwfJ2sI4AAAggggAACCCCAAAIIIIAAAggggAACCCCAAAIIIIBA7ggQZMmdZ5G2K8lUkEVTozz99NMR19m2bVsvUKJAQ/Xq1SO2JVo56qijbMuWLYmGJNym6UoGDBgQc0w4yNK4cWObOnVqzLGJOoMBAo0LTj0T3u+ee+7xpmNRf7gKSnis1hctWuRVpNGURuvWrTNNn7R9+/ZYQ72+Rx99NKL6STCEEa4Ao2mN7rrrLm+/cEDj+eeft0GDBnnbNO3TW2+95Z+ze/fuNnv2bH891QVVjFHlmJLSMmGoew8GibSuaZ4OPPBALRaqBd/DTAdZ4k0lVagL/3OnwgRZdrf3sLC27IcAAggggAACCCCAAAIIIIAAAggggAACCCCAAAIIIIBAvgoQZMnDJ5upIIuqoiiwsm3btphqCnA0adLEVG1F1UTKlSsXc9xvv/1W6Eou7oAXXHCB3XvvvW414jMcZOnYsaNfoSRiYAErwQCBqrp89dVXcfcIVpFINHb58uVeAGfx4sVxjxVrg8IRHTp08DcFQxiNGjWyV155xd/21FNP2W233eat16tXz2bMmOFvU0UUVY9Rq1Gjhr377rv+tpNPPtlWrVrlr6e6oCBTuNpKqsfI5vhMGOr6NSWUpoZyTc+8TJkybjXlz+B7mOkgi6YVUoWcdLXCBFl2t/cwXdYcBwEEEEAAAQQQQAABBBBAAAEEEEAAAQQQQAABBBBAAIF8ESDIki9PMnAfqrJx1VVX+T033nij9ezZ018PL3zyySd23nnn+d0aq31itZUrV9o111yTMNSh/TS9zqRJk+zoo4+OOox+2Fcll2CrXbt2cLXAZVVtuPDCC2OOCwdZ+vTpY/qXakt3gOD777/3qqrEqkQjr3333dcPPCgsFAyVpBJkUdUcVc9RC1drUcUUZxEOshx++OERIaVUn8lxxx1nw4cPT5W52MYnCrIU1lA306lTJ3NBpWSq8xQEkO73MHi+YCUh9ev7nc5WmCDL7vYeptObYyGAAAIIIIAAAggggAACCCCAAAIIIIAAAggggAACCCCQDwIEWfLhKYbu4f3337dLL73U7001yKKKHaoqEa8pKPLpp5/a9OnTvalpND1OrKbKJKrwoJBGsKmyS9OmTf2uzp0726hRo/z1oi6Egyw333xzRLAn2eOnO0Bw9dVXm6rluKapePRsWrVqZaVKlXLd3ueyZcu8qjauMxtBFlXb0TRHauFph9x15NNnpoIs4edc1HBIKu9hcGyiykDuOQaDLAVVe3H7pPJZmCDL7vYepuLJWAQQQAABBBBAAAEEEEAAAQQQQAABBBBAAAEEEEAAAQR2BwGCLHn4lD/++GM7//zz/Tvr16+f9e7d218PLyxcuNA0VY9rgwcPtm7durnVAj9VPeSDDz6wZ5991vTDdbBdeeWVdssttwS7vGVNebN9+3ZvWT9cazqcdLVcDLKEp1NSpRRN81O2bNmYtx0OAGQjyNKlSxd/aqBMhBpi3mgxdmYqyKIpr8aPH+/f2YcffmhVqlTx11NdCIZTCnou/fv3t6lTp3qnKKlBlt3tPUz1fWA8AggggAACCCCAAAIIIIAAAggggAACCCCAAAIIIIAAAvkuQJAlD5/wl19+ae3bt/fvTCEWhVnitfnz55t+PHbtjjvuiFh3/cl8vvfee3bZZZf5Qxs3buz/sO53/rlw+umnm6vkku7qH7kYZFm0aJGp8oxrI0eOtHPPPdetRn0+/PDDEVVqshFk0XP/29/+5l/LkiVLrFy5cv56Ohbk8NVXX0UcqkKFClFTTUUMyNBKpoIsL730kg0YMMC/ak2x1aZNG3891YVHHnnE9L64pqm5ypQp41YjPjXd1kcffeT1ldQgSzbewwg0VhBAAAEEEEAAAQQQQAABBBBAAAEEEEAAAQQQQAABBBBAIKcECLLk1ONIz8WEq3906NDBFISI15555pmIqimTJ0+21q1bxxteYH+nTp1s8eLF3riqVat61VrCO11zzTU2Y8YMv/vll1+2o48+2l8vykIuBlnC0z3JvHnz5jFvc8eOHd62DRs2+NuzEWRRRZ2bbrrJP6cq6aiiTjqbjvf2229HHFJTT6kqULZbpoIsn332mXXs2NG/ncMPP9xef/11fz3VhVdeecX69u3r76bgWfXq1f11t6DKSAqO6VOtpAZZsvEeOjM+EUAAAQQQQAABBBBAAAEEEEAAAQQQQAABBBBAAAEEEEAg9wQIsuTeM0nLFSkUsnnzZu9Ymo5E4YFq1apFHfuPP/6wc845x5YtW+ZvU+gi1tjvv//eDjjgAH9cvAUFNNavX+9trlOnjs2aNStqaLhCSaNGjUw/2BfUFNJRxZkmTZrEHZqLQZa1a9daq1at/GtWxY5evXr568EFTbN02223Bbu8IJICSa5lIoQh22bNmtmWLVu80+i9WbBggaliSqK2c+dOb1yLFi0SDfO27Q5BFt1ou3btIirPqMLOmWeeGddH02y98847dsopp0SN0TO4+OKL/f4bb7zRevbs6a+7heA7ob6SGmTJxnvozPhEAAEEEEAAAQQQQAABBBBAAAEEEEAAAQQQQAABBBBAAIHcEyDIknvPJC1XNHbsWLv//vv9Y6nqxdSpU03T+Lj266+/WteuXe3TTz91XdayZUtTkCJWq1evntWtW9er0qHwS9myZSOGqZLIPffcY5pKxbXu3bvboEGD3GrE5/XXX2+vvvqq39ewYUPTD/4HH3yw3+cWvv76a5s4caJ3Dw0aNIjYz41xn7kYZNG1yU+BBTWFDBTcOeKII7x1959x48bZiBEj3Kr/mY2KLDpZeFocvTdjxoyxE044wb8Wt7Bp0ybvXdF0RFpeuXKl2xT3c3cJsmhaJn1Hgu26666zPn36WKlSpYLdplCXpv/aunVrzMo0sm3atKm/jwJGL774oun74tq0adO8Y7t1fZbUIIuuPdPvoc5BQwABBBBAAAEEEEAAAQQQQAABBBBAAAEEEEAAAQQQQACB3BQgyJKbz6XIV6VQiaYHWrduXcSxypcv7wUqvvvuu6ht+uF77ty5cauuhIMYCrUcdthh3vgff/zRZs+e7VeBcSdVJZhYwRRt1w/0qgDiwh1uH1VxUVhl7733NgVYvvnmG2+s237kkUeWyCDL0KFDTdM2BZsCInJUtZtPPvnEr2QTHKPlbAVZdC5Vfvniiy+06LcaNWpY/fr1TZ/ffvutLV++POr9Icjic3kL/fv394JXwV690wovKSCkyjeqLuSmkEo0xVJ4Ki4dU9MIValSxT7//HNTxZ9wy2aQ5eOPP7YhQ4aEL8E2btwYcW36G7LnnntGjZsyZYpVqlQpoj+T72HEiVhBAAEEEEAAAQQQQAABBBBAAAEEEEAAAQQQQAABBBBAAIGcEiDIklOPI70Xox+XL730Utu2bVtSB7777rvtoosuijs2GGSJOyiwQdVF2rZtG+iJXlQoQlPshIMT0SP/01NSgyy///67tWnTJioA8p87+8+Sph4KVmbJZpBFU7vceuut9vLLL//ngpJYIsgSiaQw2YMPPmiqjpRMSxRk0dRfZ599dlToK3hcfS8UDHv88ce97mwGWTR9WI8ePYKXk9LyBx98YFWrVo3YJ5PvYcSJWEEAAQQQQAABBBBAAAEEEEAAAQQQQAABBBBAAAEEEEAAgZwSIMiSU48j/Rejqg/33XefPfnkk3EPrsotd911l9WsWTPuGG0YP3686QdrBWQStVNOOcWbTkjVWpJpmgpIP77rR39db7ymSi2arqVjx45xq7xo3/DUQsOGDbNLLrkk3mHj9svt0Ucf9bZrOpdEYRtNiTRq1ChvbKIAge5P0y8988wzMc+rsNCdd95pBx10kDfNkxukaZXk6tpzzz1ngwcP9lZbtGhhTz/9tNvkVQFRNRA1VVGZPn26vy0YOKhdu7bNmTPH3xZemDdvng0cODBh8EbhCwUs9FyaNGkSPkTUuqaaUuWeYFOVl3fffTfYlZXlbBjqRlR1RdNoffXVV3Hv67TTTvMCXcccc0zcMQqz6D1WJaNwk72q/Wiap2TeQ7e/3sUJEyZ4q6rWpGmOCtPmz59vXbp0Kcyu3j76mxKuyOIOlon30B2bTwQQQAABBBBAAAEEEEAAAQQQQAABBBBAAAEEEEAAAQQQyD0Bgiy590wyckVbt241VczQVD2//vqrKWyhKW0OPfTQuD8gx7uQP/74w5/ORFPiKJyhMIKmENLx9ttvv3i7Ftj/888/m36w14//us4DDzzQ+1fU4xZ44iwP+Omnn7z71L0qeKMgwlFHHeU9lyxfSoGn07uj90bPRM+7WrVqXuhJYZt400YVeNDdcICm0FqxYoXnuGrVKs/xkEMO8cJG8UIcYSZVeVEg5rPPPvOqsyhgpSmGFPLK98Z7mO9PmPtDAAEEEEAAAQQQQAABBBBAAAEEEEAAAQQQQAABBBBA4P8ECLLwJiCAAAIIIIAAAggggAACCCCAAAIIIIAAAggggAACCCCAAAIIIIAAAgjkhABBlpx4DFwEAggggAACCCCAAAIIIIAAAggggAACCCCAAAIIIIAAAggggAACCCCAAEEW3gEEEEAAAQQQQAABBBBAAAEEEEAAAQQQQAABBBBAAAEEEEAAAQQQQACBnBAgyJITj4GLQAABBBBAAAEEEEAAAQQQQAABBBBAAAEEEEAAAQQQQAABBBBAAAEEECDIwjuAAAIIIIAAAggggAACCCCAAAIIIIAAAggggAACCCCAAAIIIIAAAgggkBMCBFly4jFwEQgggAACCCCAAAIIIIAAAggggAACCCCAAAIIIIAAAggggAACCCCAAAIEWXgHEEAAAQQQQAABBBBAAAEEEEAAAQQQQAABBBBAAAEEEEAAAQQQQAABBHJCgCBLTjwGLgIBBBBAAAEEEEAAAQQQQAABBBBAAAEEEEAAAQQQQAABBBBAAAEEEECAIAvvAAIIIIAAAggggAACCCCAAAIIIIAAAggggAACCCCAAAIIIIAAAggggEBOCBBkyYnHwEUggAACCCCAAAIIIIAAAggggAACCCCAAAIIIIAAAggggAACCCCAAAIIEGThHUAAAQQQQAABBBBAAAEEEEAAAQQQQAABBBBAAAEEEEAAAQQQQAABBBDICQGCLDnxGLgIBBBAAAEEEEAAAQQQQAABBBBAAAEEEEAAAQQQQAABBBBAAAEEEEAAAYIsvAMIIIAAAggggAACCCCAAAIIIIAAAggggAACCCCAAAIIIIAAAggggAACOSFAkCUnHgMXgQACCCCAAAIIIIAAAggggAACCCCAAAIIIIAAAggggAACCCCAAAIIIECQhXeg2AR27dplO3fujHv+UqVKWenSpeNuj7Vhx44dsbr9vjJlyvjLLCCAAAIIIIAAAggggAACCCCAAAIIIIAAAggggAACCCCAAAIIIIBAbgkQZMmt57FbXc17771nl112WcJ7XrlyZcLtwY0KxtSpUyfYFbX84osvWpMmTaL66UAAgfQLzJ8/3/r27esf+LXXXrMqVar46/m48NNPP9nq1att/fr1VrZsWatZs6b3r1y5cvl4u949XX755bZs2TJvuWPHjjZ48OC8vVduDAEEEEAAAQQQQAABBBBAAAEEEEAAAQQQQAABBBBAIPMCBFkyb1xsZzjnnHPsm2++Sfn8e++9t33wwQcp75fqDsURZHnmmWesefPmqV4q4xFIKPD+++/boEGDIsbo+9evX7+IvuDK2LFj7YUXXgh2Wf/+/e3ss8+O6CvJKzNnzrRevXr5t6BgS/Xq1f31fFlQJajJkyfb008/Hfdvbu3ate2KK66wc8891/It1HLSSSd54R09z7POOsvGjBmTL4+W+0AAAQQQQAABBBBAAAEEEEAAAQQQQAABBBBAAAEEECgGAYIsxYCerVMeffTRtnnz5pRPt8cee9hXX32V8n6p7rBkyRK76aabInb78ssvbfv27X5fKhVZtJN+KN6wYYO/v6oi6J9rBFmcBJ/pFHjppZdswIABEYfca6+9bOnSpXGnx4r1/bz11lu9dzjiQCV4ZXcIsuhvVNeuXW3t2rVJPalLL73U7rzzzqTGlpRBBFlKypPiOhFAAAEEEEAAAQQQQAABBBBAAAEEEEAAAQQQQACBkiFAkKVkPKdCXWWsH8qTOVC2giyxrmXSpEk2bNgwf1OqQRZ/x38vKJDTrl07v5sgi0/BQhoFYgVZdHhV6GjRokXUmT7++GM7//zzo/oJskSR5HTHqlWrvAokW7ZsibpOBZn0tzS8jSBLFBUdCCCAAAIIIIAAAggggAACCCCAAAIIIIAAAggggAACCEQIEGSJ4MivlWCQRdMF3X///UndYNmyZa1NmzZJjU33IIIs6RbleNkQiBdk6dy5s40aNSrqElSJ6Nlnn43qz7cgy7p162zevHnefWo6nQ4dOkTdc0nuOPXUUyOmElJwRdVWWrdubTVq1PBuTRWiPvzwQ69fHvkYZJkzZ45t3LjRu99jjz3WNI0SDQEEEEAAAQQQQAABBBBAAAEEEEAAAQQQQAABBBBAAIHCChBkKaxcCdgvGGTZb7/97KOPPsr5qybIkvOPiAuMIRAvyKKqHJpCq0yZMv5eO3fuNH03w5U6NCDfgiz+Tefhwty5cyOmgdKzfuGFF+zII4+Mebc7duywv/3tb/bHH39Yz549Y46hEwEEEEAAAQQQQAABBBBAAAEEEEAAAQQQQAABBBBAAAEEzAiy5PFbQJDFrKRMLbR9+3ZTtYaff/7ZDj30UFP1isI0hSR+/PFHW79+ve2///5WvXr1whzG32fNmjVWunRpv7qEv+HPhRUrVtg+++xj1apVC3Ynvfzdd9/Zr7/+anXq1PGmYEl6xxwcGA6ytGzZ0ubPn+9dqcJZwQpH77//vleVQxs17ZDWXUs2yPLbb7/Z999/b7///rv3vihEkYmm91HPqXz58nbggQdGBHIycb6CjqkwiKYb0/0edNBBVqpUqYJ2ydj2M88805YtW+YfXyGWpk2b+uslZUGmesa//PKL1axZ0ypVqlTsl75p0ybvmoryt7DYb4ILQAABBBBAAAEEEEAAAQQQQAABBBBAAAEEEEAAAQQQKLQAQZZC0+X+jukMsqxdu9auvfZaU+BCbdy4cd4P27EUvvzyS7vxxhv9TQ899JDVqlXLX0+0kM8VWVSZo3///t7ta/qmKVOmeJ533HGHvf766xEslStXtj59+ljXrl0j+sMrCjK89957NmPGDJs9e7bpB+Bg01QnCoo0atTI+vXrZ1WrVg1u9pf1Q/ZVV13lreva9Pz69u1rmhZFTRV9hg4dau3bt7cHHnjAHn/8cb+iiEIOEyZMsOOPP94bG+8/Cl9oX13v8uXL/XdJ4zUNi8IemnInlRDPzJkzbcyYMVGnfOqpp0yG2WrhIIum8ZKfmqbT0XfANT2Hl19+2VsdOXKk/06oI16QZfXq1d4z1nvy+eefR9hpPz2fBg0aWMeOHe38889XV1JNTvqnVrFiRXvuuedMz2nixIneMw1XjWnSpIl3vc2bN486/q5du+zKK6/09o/a+O+ORx99NOXnondzxIgRtmjRIlu1apV/aPdu637du+tvzPBCMIykU+n9fffdd4t0Vtn99NNP3jF69+5tbdu2jXu8Tp06mUJrat27d7ezzjor7lg9F4VuXNPfcY1fuHCh6f1bsGCB2+R9KiTUrVs3u/rqq61ChQoR27Sid1B/u+K1008/3ds33vZ4/XoPp02b5r3fwfdO3+PGjRvb7bffbgcffHC83elHAAEEEEAAAQQQQAABBBBAAAEEEEAAAQQQQAABBBDIIwGCLHn0MMO3ks4gS/iHWwUI6tatGz6lt64fRi+++GJ/26uvvhp3ug1/0L8X8jnIEjZUBQeFVRQSitcuuOACu/fee+Nt9oIDb7/9dtztwQ36gVq+qgISbgqWBH84V0jAhZbcWPVdccUVXsDB9blPbXvzzTe9ig6uL/ipEI/2dcGY4LbgsoI2mn5FoYxk2hNPPGF33nln1FBZF7ZSTNTBkugIB1l0fgVztm3b5lWbUfhERqp+oalnXL++K8EqHrGCLOFnU9DlKDijgEIyVVruuece/3lqvKrInHvuuRGBkfD59t57b/vss8/C3V6w4rDDDovqD3bo+KlUCXrllVe8UFX4XQweU8vNmjXzwnXZqiYyaNAge/755/3LGDx4sBf+8DsKsaDqI67dcsst3nfbrYc/g2MVOks0VZGCLAqzuXbzzTd7YTF9JmpDhgyJGaS7++67vaBTvH0VkokVLos3Xn8TrrnmmgKnvtP3RwGxRKGdeOegHwEEEEAAAQQQQAABBBBAAAEEEEAAAQQQQAABBBBAoGQJEGQpWc8rpaslyJJbUwuFgywKDijQ4Fp43fUnCgJdfvnlNm/ePDfU+9QPvgqEbN26NapCiwYo5KCwQrDFCkuo0oqqPgSrI7h9FGbYc889I44/cOBA69Gjhxvif6qCw1//+ld/3S3o+LrWcBUZbX/rrbeSquKTq0GWDz/80KsiorCS2vjx402VKhQ6UuUNNVXJUKURBVtcixVkCU+P5cbKT/8UBAi+R9quaXdUoUfVdRK1cJClfv36tnjx4kS7WLaCLKrA8eSTT0Zdi6rPaEqq8D0rIPPOO+9kZZoqBfWClUzSEZwKhlMyGWRRwErvYUFNFZguu+yyqGHpDLKowk67du2inqX+FqpCkKZICzd9Z84777xwN+sIIIAAAggggAACCCCAAAIIIIAAAggggAACCCCAAAJ5JECQJY8eZvhWgkEWBQYuvfTS8JCo9X322cebgia8IRzCoCJLWKjg9bCh22P48OF29tln23/913/Zzz//bDfccIPNnTvXbbYzzjjDNCVLrOaCLJo6SFOMqDKFfuh3TWEWTRMzevRo1+VN7fLRRx9Z6dKl/b5wkOXkk0/2pg9SJQxNV/PFF1/4YzW9jKagKVOmjPdO6b7UVFnEBTfcYE1To2sKhmFUMUTTKbmpfzRGP5oH9z3uuOO8c7jjxPvM5SDLypUr7aKLLvIuXdVuNB2XAj1uGilNzySbZIMs+nFf3+G//OUvVrt27YiQiqbdUZBIoRfX9F5pbKIWDLIExymsoqoj+huigIWqBukcChHoWcaqyKL99b4Fm8I0qjrkWrIVWXR8vXfBNmDAAG8KIQWo1NasWWO9evWypUuX+sM0dZeqe2S6tWrVKqKS0ooVK6xUqVJFOm22gizBi1R1k86dO9sRRxzhBdP0d0DVhfRdjBdkUVUhTWkWbAppucpSqVRkCQeCVDnm4Ycftnr16nmH17meeeYZb1ohdz69mwoRpTIFmduXTwQQQAABBBBAAAEEEEAAAQQQQAABBBBAAAEEEEAAgZIhQJClZDynQl1lMMiS7AH0Y3kwtOD2C4cwCLI4meQ/w4ba8+mnn46a6kdVUBTkcJVK4j0T7a/noB9/C5rSZdSoUd4PxNpHTQGQk0466f9W/vxvOMiikIXCLGpavuuuu7xl/efBBx/0gjdaDk6po+ogCjsE27Bhw7zpjFxfomlQFLx47LHH3FAvgHPKKaf467EWcjnIokCRAkYKfihI9vHHH5tCQAoHaV3fM1UVKSjIotCAnrMqVySqsKL3pWXLln51C4UBZsyYEYvN74sVZFEgacKECRZrmh4FCxRGad26tX+MRAu6boVNXEs2yKJ7DYZyXnzxRc/OHcd96ruiwIsLs8hV56hSpYobkpFP2brpjuJVqEn1xNkOsowdO9bat28f8zIVzFFgSJV9kmn6W7J69WpvaLJBFoX1NN2Ya3p3p0yZEhGwc9v0TLt06eJWTQE+VeyhIYAAAggggAACCCCAAAIIIIAAAggggAACCCCAAAII5KcAQZb8fK7eXRFkye2phRo2bGjTpk2L+QZq+p9HHnnE36agiSqgFLYp5KCAgmvhQEk4yKLQTbVq1bzh4R+R58yZ41UE0cZg5QyFCILhg/A5Fep45ZVX3CVEff7xxx927LHH2ubNm71tqlKj0EyilstBFoUpNEWMKkqoqRKNq8bi7k3VaAoKsiS6//A2VWVxlW3CzyM8VuvhIIv2UbULVy0n1j6p9BUmyKL3q1u3bv5pevfuHbNKlBvw9ddfe1WL3Hqmp57RtEZ6l11T2CNYQcn1p/qZzSCLprfSu5muVpggi4JymlpITWE9/Z1J9N5dffXV9uabb3rjNW7hwoXeMv9BAAEEEEAAAQQQQAABBBBAAAEEEEAAAQQQQAABBBDIPwGCLPn3TP07CgZZ9AP1iSee6G+Lt6AqDApRhFu4moh+oK5bt254mLeuH8I1ZYRrr776asSP9a4/1uekSZNMVTxc0/QsRWkKVqi6g2sKFTRv3tytZvUzbHjrrbdGVCQIXkyw0on633vvPTvggAOCQ1JePvzww/1qHeEfssNBliVLlvhTd3zyySd23nnn+ef78MMP/YoXqtygaUVcCz6v8HuQTMAgGMSoVauWvfXWW+7QMT8VpFFVm3DTj/SaJitbLfy8nJGqsJx//vlRlzF58mSvqkm6gyzh6jkFBaDCQRYFSAYPHhx1vYXtKEyQJRziUsChevXqCS9B1TzWrVvnjVHlDk1dlakWDs4oiKS/cUVt2Qqy6P8FmlqsYsWKRb1kf/9Ugyyq7BP8/4cLdvkHjLGgEJim5nJN331Vw6EhgAACCCCAAAIIIIAAAggggAACCCCAAAIIIIAAAgjknwBBlvx7pv4dBYMsmuZEP14WtoVDGARZUpcMG44fPz4iBBI8ooIrl112md81e/ZsC/7Q7W/494J+xJ84caI3xYqm+Fi/fr0/9Ul4rNYvvfRSu/POO/1N4SCLfqwvXbq0t33ZsmV25pln+mODIZe1a9daq1atYm576qmn7LbbbvO3FWahoCBGYY6ZiX3iBVl0ruD3UOuqPiFDVdhJJciya9cumz59ulfV5rvvvvOCG276KR03Vgs+q1jbw0GWeFP4xNo3mb7CBFm6d+9uet8L2xJVOirsMYP7hSsNJRO4Cu4fbzn4/VYQS2GzeC04NlxdKbyP3htNP+Za48aNberUqW41LZ+pBllUicVNXVbYCyjOUGJhr5n9EEAAAQQQQAABBBBAAAEEEEAAAQQQQAABBBBAAAEEkhMgyJKcU4kcFfwBnSDL/z3C4vzxMxxk0bRC+tE9VgtXM4lX1WbLli02aNAgf8qaWMeK1XfBBRfYvffe628KB1mClVXCPzoHwyUbNmyw4447zj+Oqre4Sg9DhgyxKVOm+NsKs6CKJqoSlOstUZBl6NChpgosrp177rl+1aNkgyxvvPGGFwpSQCmVVpBfOMii927//fdP5RQJxxYmyBKccibhweNsVPUWVXHJZAsGScqXL2+LFi0q8umCx8xkkKVjx442evToIl9v8ACpBlnC00cFj5Xs8pgxY+yss85KdjjjEEAAAQQQQAABBBBAAAEEEEAAAQQQQAABBBBAAAEESpAAQZYS9LBSvVSCLGa5PLVQUavabN++3Zu2ZvHixVGvhqbcqFKlilf9w22UhWupBFm+/fZba9OmjdvVgtVaNm7caMcee6y/LRhkueKKK2zu3Ln+NlWucFVe/M4ECwoIPP/887bnnnsmGJUbmxIFWTQFisIDrmkqpBYtWniryQRZ3n777ZjVOTRFzL777hsR9FGwSP9cSzXIEgwwuWMU5bMwQZbgFFg6d+3atVO6BAWrhg8fntI+qQ7W9GTBUFE63LIVZOnTp4/pXzpbqkGW8BRyqlJUo0aNlC5p7NixpneFhgACCCCAAAIIIIAAAggggAACCCCAAAIIIIAAAgggkH8CBFny75n6d1RcQZZw5ZF41UT8Cw0shH/gLOoPxPkcZFG1E1U9ca1y5cqmaUY6deoUEWBx24MBgWwEWQYOHGgvvPCCO719+OGHXrjG78ijhURBFt3mW2+9ZTt37vTuWBVHXKCnoCCLpoVp1KiRqfKOa+ecc4717t3b6tat67r8z/D3J5Ugi8IEX3zxhX+sdCwUJsjSsmVLb9oknT9d0/ak416Cxzj//PNNtq4tXLjQ9P0rSstWkOXmm2+2q666qiiXGrVvqkEWVaMKhmlUISYY9oo6AR0IIIAAAggggAACCCCAAAIIIIAAAggggAACCCCAAAK7lQBBljx+3JkMskyfPt3q168fU0/Bleuvv97fRpDl/yjCAZ+iVmTp0KGDHzxQCGHWrFlWs2ZN3z24oCDEUUcd5XdlI8gyYcIE09Q1rr3++ut5W0GhoCCLMwh/FhRkCb8zXbt2jQgvhY+nKWk0fZZrJTHI0qVLF39qoEyEa5xNUT5vuOEG+8c//uEfQu/5hRde6K8XZiEYZEkUNglP56XwWs+ePeOeUmGoOnXq+NsTHdsflOJCqkEWBab098u1wYMHW7du3dwqnwgggAACCCCAAAIIIIAAAggggAACCCCAAAIIIIAAAru5AEGWPH4B0hlkSTQ9SpjwkUcesZEjR/rdqQRZnnrqKbvtttv8fZcsWWLlypXz11NdWLVqlakChmuPPvqonXHGGW41q5/hUEJRgyz16tUzTS+kpmoGqmoQry1atMg6d+7sb85GkCU8JY6CLaeeeqp/DelYWLdunc2bNy/qUGeddZb913/9V1R/pjoyFWR5+OGHbdSoUf5lf/DBB1a1alV/PbygMMVHH33kd5fEIMsdd9xhf/vb3/x7KOrfAP9AaVwIh/UU6lO4rygt+H3u0aOHqaJRrBb+W1wSgyxbt261hg0b+rdXUEDLH8gCAggggAACCCCAAAIIIIAAAggggAACCCCAAAIIIIDAbiFAkCWPH3M6gyw//vijNWvWzNe67777TNNrxGoXX3yxLViwwN+USpBl7ty5dsUVV/j7Jgp7+IMSLPzxxx8RlWNUseLKK69MsEfmNqUzyBKustCrVy8bMGBA3Iu/7rrr7LXXXvO3ZyPIsmbNGjvxxBP9cx533HH23HPP+evpWHjiiSfszjvvjDqUrKtVqxbVn6mOTAVZhg8fbo899ph/2V9//bU/LZHf+e+Fb7/91tq0aRPRXRKDLM8++6zddNNN/n0U53fWv4jQgqaJ0t9DVUdxbfbs2RasquL6k/3U98MdT0GsMWPGxNx13LhxNmLECH9bSQyy6OKD/39S5R1Nz1SU0KIPwgICCCCAAAIIIIAAAggggAACCCCAAAIIIIAAAggggECJFyDIUuIfYfwbCP5QuN9++0VUaoi/V+wt4eCEfsT9+9//HjV4+fLl1rZt24j+VIIs4R/jNd2Epp0oStOUOppaRy0dlRMKey3pDLLoGpo2bWqbNm3yLife89DGWM8kG0EWnTscalJI4fjjj9emhO3zzz+3Aw44wCpXrpxwXL4HWZ5//nkbNGiQb6DpbIJTRPkb/lzo3r27KUwRbCUxyKLplvQ+u++sQg4KxlWoUCF4a1HLCpdoXIsWLaK2ZaIj/GxUKeeVV16x6tWrxz2dgnq6r/bt20eNOeecc0zVZ9R0z6qitOeee0aMUwWmY445xrfRxpIaZAkHcnr37m39+vWLuN9YKz/88IP98ssvVrdu3Vib6UMAAQQQQAABBBBAAAEEEEAAAQQQQAABBBBAAAEEEMgDAYIsefAQ491COoMsOsdJJ51kq1ev9k+n6YPOPfdcf33ZsmV2ySWX+OEKtyGVIMuOHTu8oIMLaOgYqkpx9tlnF3qqGP1AGpz247LLLrPrr7++wJCEu/50faY7yBIOidxzzz2mqWWCTdPuKOCwbdu2YLdlK8gSDibtscceXjBDVXdKlSoVcU2qnqOgxvjx423FihWWTOgl34MsCjYo4OBarVq1bOrUqRHvroIfffv2tTfeeMMN8z9LYpBFFx+ucKNAkyqUnHDCCf69uQX9rdCUZJqOSMsrV650mzL6GetvVfny5W3SpEnWuHFjK1OmjH9+VdIZMmSIzZ8/3y699NKYVYRuvfVWe/rpp/199B29++67/eP861//8qpVffrpp/4YLZTUIIv89DzXr1/v3895551nQ4cOjVmZRXb626C/acmGXvwDs4AAAggggAACCCCAAAIIIIAAAggggAACCCCAAAIIIFCiBAiylKjHldrFpjvIEp7yQ1dTp04dO+yww+ybb76xr776KuYFphJk0QFU1UA/zIebQhCuaXvPnj3dasLP7777zlq3bh01Jng8VYB48skno8aksyPdQZY5c+aYKtYEmyrOaIoShRtU0UGBkFgtW0EWnTs8PY769IP/EUcc4U3FsnHjRu/dUUhKFSdcI8hipiojqnAUfI56b9W3//77e26akiUcVHKG2Qqy6DwKaoSbnu3atWv97nr16kVVGdHGKVOmWKVKlfxxWujQoYN98cUXEX01atTwqirpUyEpVRtat25dxJhsBVl00vB32l2InlGVKlWsYsWK3rMLvtfxgizh0JeOpUpa+jsuR4Wagsdx58pmkEXTlymwGG5ffvmlf21777231a5dOzzEq0IT/putUMrll18eMVZ2DRo0sMMPP9x+//13UwhI/4LvOEGWCDJWEEAAAQQQQAABBBBAAAEEEEAAAQQQQAABBBBAAIG8EyDIkneP9D83lO4giypmtGzZ0jZs2PCfk4SW9CPm7bff7lUJcJtSDbJoGiP9OKuqDPHadddd51VVibc93B8rhBMcowoKqnSRyRb+0XvmzJlxp8fQFCmquOJaPENVltG2gpqCK5p2xlW6yWaQRc9TVSruuuuugi4zYjtBlv/jUDDjtNNOi7CJtaLpaLp27WoTJkzwN2cryDJr1izr0aOHf95UFz744APT1DzBpjCWqpS8/PLLwe4Cl7MZZNHFxKt6FO9C4wVZND5cPSrWMSZOnGhXX321vymbQZaTTz7ZVq1a5Z87lYWOHTva6NGjo3aR37XXXmubN2+O2havgyBLPBn6EUAAAQQQQAABBBBAAAEEEEAAAQQQQAABBBBAAIH8ECDIkh/PMeZdNG3a1A8uqILBu+++G3NcKp2a3uKqq64y/UAebqoeoCk+/t//+3/WuXNnf3O8EIY/IM6Cgh6qkqKqDC6A4YYW9OOtGxf8VMWY+++/3xYvXhxVxaFFixYR03oE90vXcipBFlVTScZQFTtkpJBIrGoN1atX9yrXKOAQfB9UBUGBI9eCVWtUESFYXeeHH34w+bim6gilS5f2Vn/99Vdr1KiR2+RVjShXrpy/HlxQxQkFb8JTowTHKIyh0IamktKP5mXLlg1ujlrW+3bbbbdF9atKiaajyVbTO657c033WKFCBbca91NVJlR5wjVNJXPRRRe5Vf9Tdv369TPdV7jpeami0IgRI7zvuL4brqmKR7znoTGajsoFX1QlR+9dYZqmfenSpUthdvX2SRS4UdBh4MCBUd/Z4Mn0rPXOaBqmJk2aBDdlZVl/n1R5SKGbWN9DXYTe7b/85S/e38+DDz445nXp+6x3QMGvcNP+el6dOnUyVbZx5ynob6GCZKqc5dqwYcO8KeDceiqfsarkJLu/gnnxwmwutDRt2jT/vmIdV9WmdP9nnnlmVAWfWOPpQwABBBBAAAEEEEAAAQQQQAABBBBAAAEEEEAAAQQQKJkCBFlK5nMr9qvWD+ufffaZ/fzzz961aEqbY489ttiva3e9AP0QrOk9NO2HpiFRuOSYY46xffbZJ+dIduzYYf/7v//rXa+qZ2j6lZo1a9qBBx7oTVNVpkyZnLvmXLkgVcNQyEhhIoU39J1TSKFUqVK5cokZu46tW7d69633/Pvvv7dq1ap5781BBx1k8YIhGbuYOAfWu/3Pf/7TNE2WAmAKGen69E9TaSX7bqvqlf6+6hhbtmyxQw45xFq1ahVzWqY4l1JiuzVVlJ6x/slLfxfkp/c8USirxN4wF44AAggggAACCCCAAAIIIIAAAggggAACCCCAAAIIIBAlQJAlioQOBBBAAAEEEEAAAQQQQAABBBBAAAEEEEAAAQQQQAABBBBAAAEEEEAAgeIQIMhSHOqcEwEEEEAAAQQQQAABBBBAAAEEEEAAAQQQQAABBBBAAAEEEEAAAQQQQCBKgCBLFAkdCCCAAAIIIIAAAggggAACCCCAAAIIIIAAAggggAACCCCAAAIIIIAAAsUhQJClONQ5JwIIIIAAAggggAACCCCAAAIIIIAAAggggAACCCCAAAIIIIAAAggggECUAEGWKBI6EEAAAQQQQAABBBBAAAEEEEAAAQQQQAABBBBAAAEEEEAAAQQQQAABBIpDgCBLcahzTgQQQAABBBBAAAEEEEAAAQQQQAABBBBAAAEEEEAAAQQQQAABBBBAAIEoAYIsUSR0IIAAAggggAACCCCAAAIIIIAAAggggAACCCCAAAIIIIAAAggggAACCBSHAEGW4lDnnAgggAACCCCAAAIIIIAAAggggAACCCCAAAIIIIAAAggggAACCCCAAAJRAgRZokjoQAABBBBAAAEEEEAAAQQQQAABBBBAAAEEEEAAAQQQQAABBBBAAAEEECgOAYIsxaHOORFAAAEEEEAAAQQQQAABBBBAAAEEEEAAAQQQQAABBBBAAAEEEEAAAQSiBAiyRJHQgQACCCCAAAIIIIAAAggggAACCCCAAAIIIIAAAggggAACCCCAAAIIIFAcAgRZikOdcyKAAAIIIIAAAggggAACCCCAAAIIIIAAAggggAACCCCAAAIIIIAAAghECRBkiSKhAwEEEEAAAQQQQAABBBBAAAEEEEAAAQQQQAABBBBAAAEEEEAAAQQQQKA4BAiyFIc650QAAQQQQAABBBBAAAEEEEAAAQQQQAABBBBAAAEEEEAAAQQQQAABBBCIEiDIEkVCBwLZFxgzZow988wz3olr1KhhU6dOzf5FcMbdXoD3cLd/BQBAAAEEEEAAAQQQQAABBBBAAAEEEEAAAQQQQAABBBBAoNgFCLIU+yPIzAWsWbPGOnToYDt37vRO0LVrVxswYEBmTsZRiyxwyy23+EGWypUr28KFC4t8TA6QnECrVq3sX//6V9zBFStWfngXTQAAJu9JREFUtHr16ln9+vWtZcuW1rp167hjS/oG3sOS/gS5fgQQQAABBBBAAAEEEEAAAQQQQAABBBBAAAEEEEAAAQRKvgBBlpL/DGPewVdffWXt2rXzt11yySU2bNgwf52F1AVuuOEG+8c//uHt2Lhx47RWTSFAkPrzSNcehx56aEqHatiwod1999121FFHpbRfSRjMe1gSnhLXiAACCCCAAAIIIIAAAggggAACCCCAAAIIIIAAAggggEB+CxBkydPnS5Al/Q+2e/fuNnv2bO/AqtAxY8aMtJ2EAEHaKFM+UKpBFneCadOmmUIt+dR4D/PpaXIvCCCAAAIIIIAAAggggAACCCCAAAIIIIAAAggggAACCJRMAYIsJfO5FXjVBFkKJEp5QCaDLJ999pl9+eWX3jXVqlXLjj/++JSvjx0KJxAMslStWtUeeugh/0BbtmyxFStWeAGmBQsW+P1aqF69ur399tu25557RvSX5BXew5L89Lh2BBBAAAEEEEAAAQQQQAABBBBAAAEEEEAAAQQQQAABBPJDgCBLfjzHqLsgyBJFUuSOTAZZinxxHKDQAsEgiyqsqNJKrDZr1izr0aNHxKbbb7/dLr/88og+VhBAAAEEEEAAAQQQQAABBBBAAAEEEEAAAQQQQAABBBBAAAEECi9AkKXwdjm9Z7aCLNu3b7e1a9da6dKlrWbNmmk1+f77723Dhg124IEHWuXKlQt17E2bNtm6detsr732skMOOcS7zkId6M+dSkqQZdeuXbZmzRrTp+zKlClT2FuO2O/nn382PZO9997bDjroICtVqlTE9pK6kmyQRfd311132eOPP+7faseOHW306NH+eryFdL6H8c6h571+/XrvnyrL6F9xPqMdO3bYDz/84H2HK1Wq5F2Pvoc0BBBAAAEEEEAAAQQQQAABBBBAAAEEEEAAAQQQQAABBBBAIJEAQZZEOiV4WyaDLD/++KMNGzbMFi5c6IVYHNMee+xhderUsdNOO82uv/76lAMUCkmMHDnSFi9ebKtWrTKFZFzTsTXdjipitG7d2nVHfOqHfO07ffp0mzlzpneMiAF/riiAccQRR1i3bt2sSZMm4c3++qRJk+z555/317Wga9q2bZvfV69ePX85uHDGGWdY3759g10Ry5qq5pZbbrGdO3dG9LuVAw44wB544AG3mtSnrEaNGmVvvfWWrVy5MsJO96x7vfXWW23fffdNeLyBAwfaokWLvDGdO3f2vKdOneo9FwWCXNPzOOaYY2zMmDFWrVo1113g54gRI7zpeIIDFbZ57LHHgl1ZXU4lyPL111+bnq9r9evX9943t67PdL6HweNqecCAAabpf9T0Pbj55pvtu+++857Dyy+/HPHcNUZBmxtuuMEOPvhgrUa0TLyHW7dutcmTJ3thH4XQwk1BljZt2lj79u2tXbt2VrZs2fAQ1hFAAAEEEEAAAQQQQAABBBBAAAEEEEAAAQQQQAABBBBAYDcXIMiSpy9ApoIs7733nl199dURgY5YhAp5PPHEE6ZQRjLtmWeesSFDhkT9EB9r30suucQL0oS36Xx33nlnuDvuukIAV111Vcztt912mz311FMxtxXU2bZtWxs3blzcYfPmzUs4HY2qzygklGxT9RVNb/PNN98k3EWVVCZOnGjNmjWLO+7ss8+2pUuXettPOukkL2wwePDguOMVTFCAokGDBnHHBDdceeWVUUGWVO83eLx0LKcSZFFgKBhg0v1/8cUXEZeRzvcw4sB/rpx55pm2bNkyr1tBlv79+9tf/vKXhN/HU045xXvu4WOl+z1UMOass85KeC3Ba1DYrG7dusEulhFAAAEEEEAAAQQQQAABBBBAAAEEEEAAAQQQQAABBBBAAAEjyJKnL0Emgixvv/22KYgQbvoxX9OIBCuoaIz658+fX+C0QNdcc43NmDEjfFhv/4oVK3pTpQQ3Kmzx4IMPBru8ZVVRUaWYcNMUK2obN26MusYLLrjA7r333vAuNnToUK+yRNSGJDoUKrn99tvjjkxngOCnn36yli1bRt2XKqZoSqFgBRl3QQroaJ9YLRhkCW/XMdXCz1nBmL///e/h4THXS3qQRdNotWrVyr+38uXL+xVsXGc630N3TPcZDLIceeSRtnz58pjP2I3XZzaCLL///ru1aNHCNIVSsOm7p2mFVMUpvI0gS1CKZQQQQAABBBBAAAEEEEAAAQQQQAABBBBAAAEEEEAAAQQQcAIEWZxEnn1mIshy8sknR0zXo4oQms6mSpUqnp4qU3Tt2tWCU4oouKBpdOK1WOGYyy67zBRucVPWKCSjH+wVOJk7d64VFGTRj+fdu3c3VUZRRZjSpUt7p9eUL6+99prddNNNtmXLFv+SdExNv1NQ0zFnz57tDVNVjljhm4KOoe2aUigcMFE1mhdeeMHbPZUKJeHKMbp3Te2iKW/UFCDQNE/vv/++t67/JLr2WEGWRo0aeVPXaHoaGcqgd+/eEYGWOXPmWO3atf1zxFso6UEWBXZUycc1hTeefvppt+p9uiBLJt7DYJAleFI9bz0TTZul742ml3rnnXe8wNeJJ54YsyJLOt/DN954w3r27Olf0nHHHWejR4+2GjVq+H36Hv/zn/+0Rx55xBTmSvad8Q/AAgIIIIAAAggggAACCCCAAAIIIIAAAggggAACCCCAAAII7BYCBFny9DGnO8gya9Ys69Gjh6+lEIumUHEhEbdBIRZVgNi8ebPXpSoeCxYsiFmVRZU9FAQIBl/Gjx9vp59+ujtc1KeqOOhH+l69ekVtW7Rokf366692wgknRG0Lduh6Lr74Yr+roLCNG5iuIIs7XvBTYR9Nr6SWbJBFbgoMuKb9FDLRZ7ApQNClSxfvObh+PTtNHRRu4SCLqn5o6iBVdwm2cKBDFWhUiaagVpKDLD/88IO1adMmIoTUr18/L0ASvO9MvoexgiyaHmvQoEFRz0jX9PPPP3vflyZNmgQvMe5yYd5DHUznf/755/3jLlmyxMqVK+evhxdUHWnfffcNd7OOAAIIIIAAAggggAACCCCAAAIIIIAAAggggAACCCCAAAIIMLVQvr4D6Q6yXHjhhfbRRx/5XNOmTbOGDRv668GFsWPH2v333+93DR482Lp16+avu4Vnn33Wq47i1lVBZdy4cW41o5+aWmfdunXeOWJV1Yh18lwLsjz88MNeRRx3rTfeeGNEVQzXr0+FKzp37ux36f41xVC4hYMsqjYin3DTVDINGjTwu/V89ZwLaiUtyKKw1apVq+zNN9+0ESNGRFSh0b2+9dZbVqtWrYJuO+72VN/DcJAlUXWduCdNsKGwQZbw9GCLFy+2ffbZJ8GZ2IQAAggggAACCCCAAAIIIIAAAggggAACCCCAAAIIIIAAAgjEFqAiS2yXEt+b7iBL8+bNbf369Z6LfrjXD/jxWrhSyAUXXOBNCxQerylaVNnDNU0zpOlrstFUPUTTm6glGwbItSCLqoGoWoprH3/8sVWqVMmtRn0GQxPVq1e3+fPnR40JBln22msv03RR8ZqqwbhqOh06dLCHHnoo3lC//9VXX4067/7772+6l+Jqhx56aKFOPXToUNM0WEVpqb6H4SDLk08+WWAFolSur7BBlnvuuccmTJjgnypRqMofxAICCCCAAAIIIIAAAggggAACCCCAAAIIIIAAAggggAACCCAQQ4AgSwyUfOhKd5Al+GN/MqGFo446yrZs2eJRNmvWLCKw4nzPP/98U/hCrXz58l7VELetKJ+//fabqZLIu+++a2vWrPECOO5aYh33oIMOsrlz58baFNGXa0GWoF8y0xH17NnT3njjDe+eNOWT3pFwCwZZCgosBUMVmk5q4sSJ4cOViPXgu53MBcuuT58+UVMKhffNxHsYNNf5NM1WOlthgyx6r/R+BVujRo28KkCq6FO3bl0rVapUcDPLCCCAAAIIIIAAAggggAACCCCAAAIIIIAAAggggAACCCCAQEwBgiwxWUp+ZzqDLOEKK5oeRj94J2onn3yyNyWLxtSoUcMLlYTHN23a1DZt2uR1a5oiTVdU1DZmzBhveqJt27Ylfah41UnCB8i1IEuwSk4yVWVuv/12UwUP1z799FOrUKGCW/U+g0GWgqZcOuecc2zJkiXefvHCShEHz9GVZIIsqk6j9/ikk07yQiwVK1ZMeDeZeg+DQZb99tsvYrqvhBeU5MbCBll0+OC7Ez6dwj+aikpj9N5Uq1YtPIR1BBBAAAEEEEAAAQQQQAABBBBAAAEEEEAAAQQQQAABBBBAwBMgyJKnL0I6gyxLly71foB2VMlMGxKsFhJvippggCAdFT3uvfdeGz9+vLtM/1Pn14/+++yzj9+3atUqc2GXkhpkUXhl+/bt3j0lEyRRuOKBBx7wDWbOnOlVyvA7/lwIhhEU2njiiSeCmyOW8zHIUrVq1YiwT5kyZUzvR7ly5SLuPdFKJt/DYJClcePGNnXq1ESXkvK2ogRZfvnlF+vfv7/Nnj074XkVarnrrrtMU47REEAAAQQQQAABBBBAAAEEEEAAAQQQQAABBBBAAAEEEEAAgbAAQZawSJ6spzPIsnbtWmvVqpUvoylEFGZJ1Nq1a+dPXROvckRw+qEmTZrYiy++mOiQCbdpipXTTjstYsxf//pX69q1qxdiidjw58rll19u8+bN87pLapAl1Yo2Cg88/vjjPsUHH3xgCm4E2+4eZClqZaBMv4fBIEvr1q1t8uTJwcdX5OWiBFncyVevXu19lzVd1+eff+6Hrdx29/nUU09Zy5Yt3SqfCCCAAAIIIIAAAggggAACCCCAAAIIIIAAAggggAACCCCAgCdAkCVPX4R0Bll27NgRUbmjY8eONnr06IRywZBFo0aN7JVXXoka36FDB/viiy+8fgUqFKwobAtXwVBlltNPPz3u4VRtRD+4q5XUIEswdBIvLBQEULDn9ddf97tWrFhhpUqV8te1EDzm7liRpahBlky/hyUhyBJ8oXbt2mWLFy/2pg2bMmVKRKilTp06NmvWrOBwlhFAAAEEEEAAAQQQQAABBBBAAAEEEEAAAQQQQAABBBBAAAEjyJKnL0E6gywiOvroo23z5s2eVrxgiqP8/fffrUGDBm7VNAVNcEobt+H666+3V1991a16P3gHp//xNySxcOGFF9pHH33kjSwo1LFz507v+ty0PIUJstSuXdvmzJmTxJUlN6QwlTCuueYamzFjhncCTdei6hf6jNeCIZV4RsExmQiyLFq0yK/U466zQoUK1rZtW7ea9c/gFFdFDbJk+j0saUGW4MNct26d95zd3xFtixWmCu7DMgIIIIAAAggggAACCCCAAAIIIIAAAggggAACCCCAAAII7H4CBFny9JmnO8gSrJ4isvfff9+qVasWU++ll16yAQMG+NuuvfZa69u3r7/uFh555BEbOXKkW7Xu3bvboEGD/PVUFoLXV1AwRVMYBadGKmi8u46BAwfaCy+84K2WL1/eFMpIVytMkGX48OH22GOP+ZegsJBCQ7FaeHqoeGGkTAdZrrzySnv77bcjLrFy5cq2cOHCiL5srqQzyJLp97AkB1n0TFXJ6aGHHvIfr8JnClXREEAAAQQQQAABBBBAAAEEEEAAAQQQQAABBBBAAAEEEEAAASdAkMVJ5NlnuoMsmqpH06a41q1bNxs8eLBb9T9V7aR9+/YRVTemT59u9evX98e4hQ0bNliLFi386UZUTUQhhxo1arghUZ8bN260lStX2rHHHhuxLThtzl577WWffvqp6TPcVC1G59y0aZO/Kdkgy8MPP2yjRo3y95s/f743LZHfUYSFwgRZli5d6k0F5E57+OGH22uvvRY1XZC2Dx061CZPnuyGms6nUEm4EWRp6E2DE3ZJdj3T72GuBllUbUXfo4KaAm4Kurn25Zdf2p577ulW+UQAAQQQQAABBBBAAAEEEEAAAQQQQAABBBBAAAEEEEAAAQSYWihf34FwkEVTt1x33XVJ3+4BBxxglSpV8sdv27bNGjdubPp0LRyG0FQ9qqqiMIprBU1PM2HCBLvnnnvccC98MnbsWDv11FP9PregH8B1zjPOOMMefPBB1+19Pvroo3bffff5fapMomovwal2Vq9ebV26dDF9BluyQZbXX3/dFFRwTR7jxo2LW5nGjUvmszBBFh1X96NAjWunnXaad01lypRxXRa22Xvvve3jjz+2smXL+mPcAkGWogVZwtbpfg9zNciiKZUUMLviiivs4osvNlXZCbeZM2dar169/G4Fr/SdoiGAAAIIIIAAAggggAACCCCAAAIIIIAAAggggAACCCCAAAJBASqyBDXyaDkcZEn11oYNG2aXXHJJxG7hqizaqBCIqqP8+uuvpmlCtmzZErFPvGosbtCOHTusdevWpooOwVa1alVr2LChV11EVViWL1/uH1thi3CQ5YcffvCOozCNa/oxXcEOVWZZvHixff755371FzdGn8kGWf744w9r3rx5RDUX7a9gSMWKFc2FRxQ2iDdF0pQpU0xTG4XbqlWrbPPmzX73kUce6S+7hZo1a5qmYwq2JUuWRE0npOs57rjjvOvSlD1h23AAKXg8gixFC7Jk+j1MV5Al3e+hgiz6/rtWq1Ytq1OnjmnaJv1tWLBggX3zzTdus/epoNm5554b0ccKAggggAACCCCAAAIIIIAAAggggAACCCCAAAIIIIAAAgggQJAlT9+BTARZFDpR9ZRJkyYVqKZKKA888IA3zVBBgzXNj6YcefPNNwsa6m2PFWTRBlVs0XEKavqRvW7dujZ79mxvaLJBFg2eNWuW9ejRI+EpVP1GlVpitdtvv92efPLJWJsK7Ntvv/0iwgJuh2nTplm/fv1ihnTcGPepa5dR6dKlXVfEJ0GWogVZhJnJ9zBdQZZ0v4fhIEvESxVjRZWE7rjjjhhb6EIAAQQQQAABBBBAAAEEEEAAAQQQQAABBBBAAAEEEEAAgd1dgCBLnr4BK1assNNPP73Qd5eoWoKmDurTp09EBZHgierXr2+PPfaYHXTQQcHuApc1zchtt90WVfHE7ajKKhdddJF169bNatSo4bojPjXNTt++fW39+vUR/VopX768Kaihc/Tv399ee+01b0zt2rVtzpw5UePjdXz99dc2ceJEe+edd+ynn36KCpB07tzZRo0aFXP34cOHezYxNxbQqXt+9913Y45SRReFVBRgitVUnUbBIlW/SdRSCbIEwwvNmjWzv//974kO7W3T1FMuQOQGJ7ovNyaTn/Xq1fOfYdOmTe2FF14o8uky9R4GgyyJAlMF3UC630MFvJ577jl77733IqYfC1+HrAcPHmyacoyGAAIIIIAAAggggAACCCCAAAIIIIAAAggggAACCCCAAAIIxBIgyBJLhb6kBDTlz9KlS23NmjXeeAVYGjRoYOXKlUtq/3iDfvvtN1u2bJl9+eWXtmHDBi8Qc8ghh3jHVpiloKbKMQp06N+3337rTW+i6Y+qVatW0K4lfrvs5KYph/QcDjjgADviiCNMQRZadgV2x/dw165dpqCXvnea0krfX1USOvjgg02VkPRJQwABBBBAAAEEEEAAAQQQQAABBBBAAAEEEEAAAQQQQAABBBIJEGRJpMM2BBBAAAEEEEAAAQQQQAABBBBAAAEEEEAAAQQQQAABBBBAAAEEEEAAgawJEGTJGjUnQgABBBBAAAEEEEAAAQQQQAABBBBAAAEEEEAAAQQQQAABBBBAAAEEEEgkQJAlkQ7bEEAAAQQQQAABBBBAAAEEEEAAAQQQQAABBBBAAAEEEEAAAQQQQAABBLImQJAla9ScCAEEEEAAAQQQQAABBBBAAAEEEEAAAQQQQAABBBBAAAEEEEAAAQQQQCCRAEGWRDpsQwABBBBAAAEEEEAAAQQQQAABBBBAAAEEEEAAAQQQQAABBBBAAAEEEMiaAEGWrFFzIgQQQAABBBBAAAEEEEAAAQQQQAABBBBAAAEEEEAAAQQQQAABBBBAAIFEAgRZEumwDQEEEEAAAQQQQAABBBBAAAEEEEAAAQQQQAABBBBAAAEEEEAAAQQQQCBrAgRZskbNiRBAAAEEEEAAAQQQQAABBBBAAAEEEEAAAQQQQAABBBBAAAEEEEAAAQQSCRBkSaTDNgQQQAABBBBAAAEEEEAAAQQQQAABBBBAAAEEEEAAAQQQQAABBBBAAIGsCRBkyRo1J0IAAQQQQAABBBBAAAEEEEAAAQQQQAABBBBAAAEEEEAAAQQQQAABBBBIJECQJZEO2xBAAAEEEEAAAQQQQAABBBBAAAEEEEAAAQQQQAABBBBAAAEEEEAAAQSyJkCQJWvUnAgBBBBAAAEEEEAAAQQQQAABBBBAAAEEEEAAAQQQQAABBBBAAAEEEEAgkQBBlkQ6bEMAAQQQQAABBBBAAAEEEEAAAQQQQAABBBBAAAEEEEAAAQQQQAABBBDImgBBlqxRcyIEEEAAAQQQQAABBBBAAAEEEEAAAQQQQAABBBBAAAEEEEAAAQQQQACBRAIEWRLpsA0BBBBAAAEEEEAAAQQQQAABBBBAAAEEEEAAAQQQQAABBBBAAAEEEEAgawIEWbJGzYkQQAABBBBAAAEEEEAAAQQQQAABBBBAAAEEEEAAAQQQQAABBBBAAAEEEgkQZEmkwzYEEEAAAQQQQAABBBBAAAEEEEAAAQQQQAABBBBAAAEEEEAAAQQQQACBrAkQZMkaNSdCAAEEEEAAAQQQQAABBBBAAAEEEEAAAQQQQAABBBBAAAEEEEAAAQQQSCRAkCWRDtsQQAABBBBAAAEEEEAAAQQQQAABBBBAAAEEEEAAAQQQQAABBBBAAAEEsiZAkCVr1JwIAQQQQAABBBBAAAEEEEAAAQQQQAABBBBAAAEEEEAAAQQQQAABBBBAIJEAQZZEOmxDAAEEEEAAAQQQQAABBBBAAAEEEEAAAQQQQAABBBBAAAEEEEAAAQQQyJoAQZasUXMiBBBAAAEEEEAAAQQQQAABBBBAAAEEEEAAAQQQQAABBBBAAAEEEEAAgUQCBFkS6bANAQQQQAABBBBAAAEEEEAAAQQQQAABBBBAAAEEEEAAAQQQQAABBBBAIGsCBFmyRs2JEEAAAQQQQAABBBBAAAEEEEAAAQQQQAABBBBAAAEEEEAAAQQQQAABBBIJEGRJpMM2BBBAAAEEEEAAAQQQQAABBBBAAAEEEEAAAQQQQAABBBBAAAEEEEAAgawJEGTJGjUnQgABBBBAAAEEEEAAAQQQQAABBBBAAAEEEEAAAQQQQAABBBBAAAEEEEgkQJAlkQ7bEEAAAQQQQAABBBBAAAEEEEAAAQQQQAABBBBAAAEEEEAAAQQQQAABBLImQJAla9ScCAEEEEAAAQQQQAABBBBAAAEEEEAAAQQQQAABBBBAAAEEEEAAAQQQQCCRAEGWRDpsQwABBBBAAAEEEEAAAQQQQAABBBBAAAEEEEAAAQQQQAABBBBAAAEEEMiaAEGWrFFzIgQQQAABBBBAAAEEEEAAAQQQQAABBBBAAAEEEEAAAQQQQAABBBBAAIFEAgRZEumwDQEEEEAAAQQQQAABBBBAAAEEEEAAAQQQQAABBBBAAAEEEEAAAQQQQCBrAgRZskbNiRBAAAEEEEAAAQQQQAABBBBAAAEEEEAAAQQQQAABBBBAAAEEEEAAAQQSCRBkSaTDNgQQQAABBBBAAAEEEEAAAQQQQAABBBBAAAEEEEAAAQQQQAABBBBAAIGsCRBkyRo1J0IAAQQQQAABBBBAAAEEEEAAAQQQQAABBBBAAAEEEEAAAQQQQAABBBBIJECQJZEO2xBAAAEEEEAAAQQQQAABBBBAAAEEEEAAAQQQQAABBBBAAAEEEEAAAQSyJkCQJWvUnAgBBBBAAAEEEEAAAQQQQAABBBBAAAEEEEAAAQQQQAABBBBAAAEEEEAgkQBBlkQ6bEMAAQQQQAABBBBAAAEEEEAAAQQQQAABBBBAAAEEEEAAAQQQQAABBBDImkCxBFl27dqVtRvkRAgggAACCCCAAAIIIIAAAggggAACCCCAAAIIIIAAAggggAACCCCAAAIlQyCtQRYCKiXjoXOVCCCAAAIIIIAAAggggAACCCCAAAIIIIAAAggggAACCCCAAAIIIIBALgqkHGQhrJKLj5FrQgABBBBAAAEEEEAAAQQQQAABBBBAAAEEEEAAAQQQQAABBBBAAAEESr5A0kEWAiwl/2FzBwgggAACCCCAAAIIIIAAAggggAACCCCAAAIIIIAAAggggAACCCCAQC4LFBhkIcCSy4+Pa0MAAQQQQAABBBBAAAEEEEAAAQQQQAABBBBAAAEEEEAAAQQQQAABBPJHIG6QhQBL/jxk7gQBBBBAAAEEEEAAAQQQQAABBBBAAAEEEEAAAQQQQAABBBBAAAEEECgJAhFBlkyFVzJ13JIAzDUigAACCCCAAAIIIIAAAggggAACCCCAAAIIIIAAAggggAACCCCAAAIIJCfgB1mKEjYpyr7JXSajEEAAAQQQQAABBBBAAAEEEEAAAQQQQAABBBBAAAEEEEAAAQQQQAABBPJdoNTOnTt3pXqTBFdSFWM8AggggAACCCCAAAIIIIAAAggggAACCCCAAAIIIIAAAggggAACCCCAQEECSQVZihpcKer+Bd0E2xFAAAEEEEAAAQQQQAABBBBAAAEEEEAAAQQQQAABBBBAAAEEEEAAAQRKvkCBQZZkQyjJjiv5ZNwBAggggAACCCCAAAIIIIAAAggggAACCCCAAAIIIIAAAggggAACCCCAQCYE4gZZkgmmJDMm0UUXdf9Ex2YbAggggAACCCCAAAIIIIAAAggggAACCCCAAAIIIIAAAggggAACCCCAQMkSiAqyJAqXJNoWvO1kxwX3YRkBBBBAAAEEEEAAAQQQQAABBBBAAAEEEEAAAQQQQAABBBBAAAEEEEBg9xbwgyyJwieF3VYQbaLjFrQv2xFAAAEEEEAAAQQQQAABBBBAAAEEEEAAAQQQQAABBBBAAAEEEEAAAQTyS8ALssQLlKTa72ji7ee284kAAggggAACCCCAAAIIIIAAAggggAACCCCAAAIIIIAAAggggAACCCCAQFig1I4dO3aFO7UeK4wSqy/e2PAx4+0bHsc6AggggAACCCCAAAIIIIAAAggggAACCCCAAAIIIIAAAggggAACCCCAwO4pEBVkiRU4SbZPhLHGJkNb2P2SOTZjEEAAAQQQQAABBBBAAAEEEEAAAQQQQAABBBBAAAEEEEAAAQQQQAABBHJfICLIEg6ThNd1O+G+8Lq75Xj9bjufCCCAAAIIIIAAAggggAACCCCAAAIIIIAAAggggAACCCCAAAIIIIAAAggEBfwgSzh4El7fuXOnv194mzbE6kvU7x+MBQQQQAABBBBAAAEEEEAAAQQQQAABBBBAAAEEEEAAAQQQQAABBBBAAAEE/hTwgizBEEpwWUKJAiwaGx4fXg8qJ9oWHMcyAggggAACCCCAAAIIIIAAAggggAACCCCAAAIIIIAAAggggAACCCCAwO4nUGr79u273G0HgyZaDq4XFGhxx9BncL9gv1suaLsbxycCCCCAAAIIIIAAAggggAACCCCAAAIIIIAAAggggAACCCCAAAIIIIDA7iPgB1mC4ZJgaMUta7sbE1wWVXjd9RXE6I5X0Di2I4AAAggggAACCCCAAAIIIIAAAggggAAC/7+9u2lNJAjCAOzc9SCBHATBS8CDICIG//8/Molxxg/MVkOH3rAbdo+1+whN9zgiVc/5pZoAAQIECBAgQIAAAQIECPz7AiXI0gZKvgZXakil3YOlPleir8/1N/X9n+7xPz4ECBAgQIAAAQIECBAgQIAAAQIECBAgQIAAAQIECBAgQIAAAQL/n8BPQZY2xFLPsddwST23oZX6rv2uZazv2+++O//t77/7L+8IECBAgAABAgQIECBAgAABAgQIECBAgAABAgQIECBAgAABAgTyCHSXy6WMQKlBlDasEufxeJynG5USIECAAAECBAgQIECAAAECBAgQIECAAAECBAgQIECAAAECBAikFShBlt+FWOL7yWSStjmFEyBAgAABAgQIECBAgAABAgQIECBAgAABAgQIECBAgAABAgQI5BHozufzvZ3CEuGVeI51u91G0+k0TzcqJUCAAAECBAgQIECAAAECBAgQIECAAAECBAgQIECAAAECBAgQSCvQDcNQgizRQQ20XK/XUQRaIsjy8PCQtjmFEyBAgAABAgQIECBAgAABAgQIECBAgAABAgQIECBAgAABAgQI5BHo+r7/kVm5l+BKncJS9wiyPD4+5ulGpQQIECBAgAABAgQIECBAgAABAgQIECBAgAABAgQIECBAgAABAmkFutPp9BlkieBKhFhiIkucY5/NZmmbUzgBAgQIECBAgAABAgQIECBAgAABAgQIECBAgAABAgQIECBAgEAegRJkifBKncJSgyyXy6WEWebzeZ5uVEqAAAECBAgQIECAAAECBAgQIECAAAECBAgQIECAAAECBAgQIJBWoHt/f7+3QZY6ieV8Ppcgy2KxSNucwgkQIECAAAECBAgQIECAAAECBAgQIECAAAECBAgQIECAAAECBPIIdMfj8TPIElcJtWsYhtHT01OeblRKgAABAgQIECBAgAABAgQIECBAgAABAgQIECBAgAABAgQIECCQVqAEWWIKS53EEntcKxQrgizL5TJtcwonQIAAAQIECBAgQIAAAQIECBAgQIAAAQIECBAgQIAAAQIECBDII9C9vb3dI7wS1wvVAEvscbVQBFlWq1WeblRKgAABAgQIECBAgAABAgQIECBAgAABAgQIECBAgAABAgQIECCQVqAEWdrrhGqYJUIssdbrddrmFE6AAAECBAgQIECAAAECBAgQIECAAAECBAgQIECAAAECBAgQIJBHoHt9fS0TWSLMUkMsMY0lVt/3o81mk6cblRIgQIAAAQIECBAgQIAAAQIECBAgQIAAAQIECBAgQIAAAQIECKQV6F5eXkqQJa4Xaq8UqkGW7XabtjmFEyBAgAABAgQIECBAgAABAgQIECBAgAABAgQIECBAgAABAgQI5BEoQZaYxtIGWSLEcjqdytVCu90uTzcqJUCAAAECBAgQIECAAAECBAgQIECAAAECBAgQIECAAAECBAgQSCvQHQ6HMpElprFEoGUYhs9rheL8/PyctjmFEyBAgAABAgQIECBAgAABAgQIECBAgAABAgQIECBAgAABAgQI5BH4ZZAlAix935e13+/zdKNSAgQIECBAgAABAgQIECBAgAABAgQIECBAgAABAgQIECBAgACBtAIfhmdXJjdhT1gAAAAASUVORK5CYII=)"
   ]
  },
  {
   "cell_type": "code",
   "execution_count": 32,
   "metadata": {
    "colab": {
     "base_uri": "https://localhost:8080/"
    },
    "id": "4m_cPsXPy9aZ",
    "outputId": "673e7a74-c73d-4e0e-c32b-afcc7d464138"
   },
   "outputs": [
    {
     "name": "stdout",
     "output_type": "stream",
     "text": [
      "\n",
      "Username: aeinstein\n",
      "Full name: Albert Einstein\n",
      "Location: Princeton\n",
      "\n",
      "Username: mcurie\n",
      "Full name: Marie Curie\n",
      "Location: Paris\n"
     ]
    }
   ],
   "source": [
    "# Use this to check your results\n",
    "for username, user_info in users.items():\n",
    "    print(\"\\nUsername: \" + username)\n",
    "    full_name = user_info['first'] + \" \" + user_info['last']\n",
    "    location = user_info['location']\n",
    "    print(\"Full name: \" + full_name.title())\n",
    "    print(\"Location: \" + location.title())"
   ]
  },
  {
   "cell_type": "markdown",
   "metadata": {
    "id": "pGLGig62gjJK"
   },
   "source": [
    "*****\n",
    "## Numpy arrays\n",
    "\n",
    "**NumPy** is the fundamental package for scientific computing in Python. It provides a particularly versatile data type called a _multidimensional array_ (also called an N-dimensional array, `ndarray`), as well as various derived objects (such as masked arrays and matrices). Numpy also provides an assortment of routines for fast operations on arrays, including mathematical and logical operations, shape manipulation, sorting, selecting, I/O, mathematical transforms (such as, e.g., Fourier transforms), basic linear algebra, basic statistical operations, random simulation, and much more.\n",
    "\n",
    "At the core of the NumPy package is the `ndarray` object, which encapsulates n-dimensional arrays of homogeneous data types. Many operations on `ndarray` objects are performed in compiled code, which usually gives them very good computational performance. `ndarray` obsjects facilitate advanced mathematical and other types of operations on large numbers of data, typically more efficiently and with less code than is possible using Python's built-in sequences.\n",
    "\n",
    "NumPy arrays have a fixed size at creation, unlike Python lists (which can grow dynamically). Changing the size of an `ndarray` creates a new array and deletes the original. **Keep this in mind**: it means it can be very innefective to try and grow arrays dynamically (for instance, in a `for` loop - much better to pre-allocate and populate. Also, elements in a NumPy can only be of a single, homogeneous data type.\n",
    "\n",
    "Finally, NumPy fully supports (although it does not require) an object-oriented approach. `ndarray` is itself a class, possessing numerous methods and attributes, many of which mirror functions in the outermost NumPy namespace.\n",
    "\n",
    "### Vectorisation and Broadcasting\n",
    "Two of NumPy's features which are the basis of much of its power are vectorization and broadcasting. \n",
    "\n",
    "**Vectorization** describes the absence of any explicit looping, indexing, etc., in the code - these things are still taking place, of course, just \"behind the scenes\" in optimised, pre-compiled C code. Vectorised code has many advantages, including:\n",
    "- vectorised code is more concise and easier to read.\n",
    "- fewer lines of code generally means fewer bugs.\n",
    "- the code becomes more similar to standard mathematical notation, making it usually easier to correctly code mathematical constructs.\n",
    "\n",
    "**Broadcasting** is the term used to describe the implicit element-by-element behavior of operations. Generally speaking, all operations in NumPy arrays - not just arithmetic, but also logical, bit-wise, functional, etc. - behave in an element-by-element fashion. Detailed rules of broadcasting can be checked [here](https://docs.scipy.org/doc/numpy/user/basics.broadcasting.html).\n",
    "\n",
    "*****\n",
    "\n",
    "### Using Numpy\n",
    "\n",
    "Numpy is a Python library, and needs to be imported before it is used:\n"
   ]
  },
  {
   "cell_type": "code",
   "execution_count": 33,
   "metadata": {
    "id": "fkPaptVFkam6"
   },
   "outputs": [],
   "source": [
    "import numpy as np # np is a standard alias for numpy. It makes the code cleaner."
   ]
  },
  {
   "cell_type": "code",
   "execution_count": 34,
   "metadata": {
    "colab": {
     "base_uri": "https://localhost:8080/"
    },
    "id": "AaUwtDs0gdsE",
    "outputId": "522cf270-c5b3-4d5f-d907-531b65480940"
   },
   "outputs": [
    {
     "data": {
      "text/plain": [
       "array([1, 2, 2, 3, 3, 3])"
      ]
     },
     "execution_count": 34,
     "metadata": {},
     "output_type": "execute_result"
    }
   ],
   "source": [
    "# We can create a NumPy object from a list\n",
    "some_numbers = [1, 2, 2, 3, 3, 3] # a list\n",
    "my_array = np.array(some_numbers) # note that, to invoke a function from a package you need to preface it. 'np.array' means 'function array() from package numpy'\n",
    "my_array"
   ]
  },
  {
   "cell_type": "markdown",
   "metadata": {
    "id": "6OOpXgYsluB0"
   },
   "source": [
    "To explore the useful array attributes provided by the `ndarray` class, let's start by defining three random arrays with one, two, and three dimensions.  We'll also use NumPy's random number generator.\n",
    "\n",
    "Each array has attributes `ndim` (number of dimensions), `shape` (size of each dimension), and `size` (the total number of elements in the array, i.e., the product of all elements in `shape`). Another useful attribute is the `dtype`, which informs the data type of the elements in the array"
   ]
  },
  {
   "cell_type": "code",
   "execution_count": 35,
   "metadata": {
    "colab": {
     "base_uri": "https://localhost:8080/"
    },
    "id": "Upsnzuv-dPpS",
    "outputId": "b23da526-3e73-47b7-d4eb-b58193663fe0"
   },
   "outputs": [
    {
     "data": {
      "text/plain": [
       "array([[2, 6, 7, 4],\n",
       "       [3, 7, 7, 2],\n",
       "       [5, 4, 1, 7]])"
      ]
     },
     "execution_count": 35,
     "metadata": {},
     "output_type": "execute_result"
    }
   ],
   "source": [
    "np.random.seed(42)  # set seed of the PRNG\n",
    "\n",
    "x1 = np.random.randint(10, size=6)         # 1D array\n",
    "x2 = np.random.randint(10, size=(3, 4))    # 2D array - 3 rows x 4 cols\n",
    "x3 = np.random.randint(10, size=(3, 4, 5)) # 3D array - 3 rows x 4 cols x 5 layers\n",
    "\n",
    "x2 # print x2"
   ]
  },
  {
   "cell_type": "code",
   "execution_count": 36,
   "metadata": {
    "colab": {
     "base_uri": "https://localhost:8080/"
    },
    "id": "u28hZs7rlzBw",
    "outputId": "755e8a06-8831-4af5-fe77-9cbefd2477f8"
   },
   "outputs": [
    {
     "name": "stdout",
     "output_type": "stream",
     "text": [
      "3\n",
      "(3, 4, 5)\n",
      "60\n",
      "int32\n"
     ]
    }
   ],
   "source": [
    "print(x3.ndim)\n",
    "print(x3.shape)\n",
    "print(x3.size)\n",
    "print(x3.dtype)"
   ]
  },
  {
   "cell_type": "code",
   "execution_count": 37,
   "metadata": {
    "colab": {
     "base_uri": "https://localhost:8080/"
    },
    "id": "CfLpx0rdmKGK",
    "outputId": "a06eb204-9391-43ef-9c19-277c00f72f29"
   },
   "outputs": [
    {
     "name": "stdout",
     "output_type": "stream",
     "text": [
      "6\n",
      "-----\n",
      "5\n",
      "-----\n",
      "[[2 6 7 4]\n",
      " [3 9 7 2]\n",
      " [5 4 1 7]]\n"
     ]
    }
   ],
   "source": [
    "# Indexing is very similar to that of Python lists.\n",
    "print(x1[-2]) # second-to-last item\n",
    "print(\"-----\")\n",
    "\n",
    "# In multidimensional arrays, items can be accessed using comma-separated indices\n",
    "print(x2[2, 0]) # third row, first column\n",
    "print(\"-----\")\n",
    "\n",
    "x2[1, 1] = 9    # modify a single element: second row, second column\n",
    "print(x2)"
   ]
  },
  {
   "cell_type": "markdown",
   "metadata": {
    "id": "MoHBeJyMnIa7"
   },
   "source": [
    "### Array slicing\n",
    "\n",
    "Square brackets can also be used to access sub-arrays with the _slice_ notation, marked by the colon (:) character. The NumPy slicing syntax follows that of the standard Python list."
   ]
  },
  {
   "cell_type": "code",
   "execution_count": 38,
   "metadata": {
    "colab": {
     "base_uri": "https://localhost:8080/"
    },
    "id": "8Z3lQ1VgnUJs",
    "outputId": "ac6ec36d-eb4b-4699-acd2-274cba3bf149"
   },
   "outputs": [
    {
     "name": "stdout",
     "output_type": "stream",
     "text": [
      "[0 1 2 3 4]\n",
      "[10 11]\n",
      "[4 5 6]\n",
      "[0 3 6 9]\n",
      "[ 1  3  5  7  9 11]\n",
      "-----\n",
      "[11 10  9  8  7  6  5  4  3  2  1  0]\n",
      "[5 3 1]\n"
     ]
    }
   ],
   "source": [
    "# 1D array with integers from 0 to 11\n",
    "x = np.arange(12)\n",
    "\n",
    "print(x[:5])    # first five elements\n",
    "print(x[10:])   # all elements after index 10\n",
    "print(x[4:7])   # a range of values\n",
    "print(x[::3])   # every third element\n",
    "print(x[1::2])  # every other element, starting at index 1\n",
    "print(\"-----\")\n",
    "\n",
    "# If the step value is negative, the defaults for start and stop are swapped. This is a convenient way to reverse an array.\n",
    "print(x[::-1])  # all elements, reversed\n",
    "print(x[5::-2]) # reversed every other from index 5"
   ]
  },
  {
   "cell_type": "code",
   "execution_count": 39,
   "metadata": {
    "colab": {
     "base_uri": "https://localhost:8080/"
    },
    "id": "H13hm974oK7x",
    "outputId": "c9d7fb5f-ba65-4a47-d8a8-1491744a2992"
   },
   "outputs": [
    {
     "name": "stdout",
     "output_type": "stream",
     "text": [
      "[[2 6 7 4]\n",
      " [3 9 7 2]\n",
      " [5 4 1 7]]\n",
      "-----\n",
      "[[2 6 7]\n",
      " [3 9 7]]\n"
     ]
    }
   ],
   "source": [
    "# Multi-dimensional slices work in the same way, and we can have multiple slices.\n",
    "print(x2)\n",
    "print(\"-----\")\n",
    "print(x2[:2, :3]) # first 2 rows of the first 3 columns"
   ]
  },
  {
   "cell_type": "code",
   "execution_count": 40,
   "metadata": {
    "colab": {
     "base_uri": "https://localhost:8080/"
    },
    "id": "Wk_ZbXhAoTR8",
    "outputId": "18f82216-69f6-4e3d-de85-576b8566f9ff"
   },
   "outputs": [
    {
     "name": "stdout",
     "output_type": "stream",
     "text": [
      "[[2 6 7 4]\n",
      " [3 9 7 2]\n",
      " [5 4 1 7]]\n",
      "-----\n",
      "[3 7]\n",
      "[6 9 4]\n",
      "[2 6 7 4]\n"
     ]
    }
   ],
   "source": [
    "print(x2)\n",
    "print(\"-----\")\n",
    "print(x2[1, ::2]) # second row, every other column\n",
    "print(x2[:, 1])   # all rows, second column\n",
    "print(x2[0, :])   # first row, all columns"
   ]
  },
  {
   "cell_type": "markdown",
   "metadata": {
    "id": "RkBAzyIQouoS"
   },
   "source": [
    "A very important thing about `ndarray` slices is that they return views rather than copies of the array data. This can be useful when working with large datasets - we can access and process pieces of these datasets without the need to copy the underlying data buffer (which is time-consuming)."
   ]
  },
  {
   "cell_type": "code",
   "execution_count": 41,
   "metadata": {
    "colab": {
     "base_uri": "https://localhost:8080/"
    },
    "id": "s2FZhG-MoYgV",
    "outputId": "f8104179-aa31-4ce3-f45c-3cf7a8df278f"
   },
   "outputs": [
    {
     "name": "stdout",
     "output_type": "stream",
     "text": [
      "[[2 6 7 4]\n",
      " [3 9 7 2]\n",
      " [5 4 1 7]]\n",
      "-----\n",
      "[[ 2  6 -1  4]\n",
      " [ 3  9  7  2]\n",
      " [ 5  4  1  7]]\n"
     ]
    }
   ],
   "source": [
    "print(x2)\n",
    "print(\"-----\")\n",
    "x2_sub = x2[:, 2] # third column\n",
    "x2_sub[0] = -1    # modifying x2_sub changes x2 (first element of third column)\n",
    "print(x2)         "
   ]
  },
  {
   "cell_type": "markdown",
   "metadata": {
    "id": "-DXxgWBQpO2U"
   },
   "source": [
    "### Reshaping arrays\n",
    "Reshaping an array is essentialy reformatting it with a different dimension sizes. This can be most easily performed using the `reshape` method. Note that the `size` of the initial array must match that of the reshaped array.\n",
    "\n",
    "Another common reshaping pattern is the conversion of a one-dimensional array into a two-dimensional row (or column) matrix. In addition to the `reshape` method, this can also be easily done using the `newaxis` keyword within a slice operation."
   ]
  },
  {
   "cell_type": "code",
   "execution_count": 42,
   "metadata": {
    "colab": {
     "base_uri": "https://localhost:8080/"
    },
    "id": "Ev5p7NEzpAGh",
    "outputId": "82f64ac5-545c-48b1-e78d-758d5bb3f79d"
   },
   "outputs": [
    {
     "data": {
      "text/plain": [
       "array([[1, 2, 3],\n",
       "       [4, 5, 6],\n",
       "       [7, 8, 9]])"
      ]
     },
     "execution_count": 42,
     "metadata": {},
     "output_type": "execute_result"
    }
   ],
   "source": [
    "x = np.arange(1, 10) # 1D array, integers from 1 to 9, inclusive\n",
    "x.reshape((3, 3))    # make it 2D. Notice the double brackets - the argument is a 'tuple'"
   ]
  },
  {
   "cell_type": "code",
   "execution_count": 43,
   "metadata": {
    "colab": {
     "base_uri": "https://localhost:8080/"
    },
    "id": "NkHD3h8HprKr",
    "outputId": "a1c723a8-310a-4697-9a2f-65dc2a1dbdb0"
   },
   "outputs": [
    {
     "name": "stdout",
     "output_type": "stream",
     "text": [
      "[[1 2 3]]\n",
      "-----\n",
      "[[1]\n",
      " [2]\n",
      " [3]]\n"
     ]
    }
   ],
   "source": [
    "x = np.array([1, 2, 3])\n",
    "print(x[np.newaxis, :])\n",
    "print(\"-----\")\n",
    "print(x[:, np.newaxis])"
   ]
  },
  {
   "cell_type": "markdown",
   "metadata": {
    "id": "hdLCt6orth-g"
   },
   "source": [
    "### Concatenation and splitting\n",
    "\n",
    "Concatenation of two arrays in NumPy can be done using `np.concatenate`, `np.vstack`, and `np.hstack`. Particularly for arrays of mixed dimensions, it can be (much) clearer to use `np.vstack` (vertical stacking), `np.hstack` (horizontal stacking). `np.dstack` (depth stacking, for 3D arrays) is also available."
   ]
  },
  {
   "cell_type": "code",
   "execution_count": 44,
   "metadata": {
    "colab": {
     "base_uri": "https://localhost:8080/"
    },
    "id": "MtuoLiwhp0g5",
    "outputId": "5907df67-8825-4ab7-d0c7-d43579ea3ff3"
   },
   "outputs": [
    {
     "data": {
      "text/plain": [
       "array([1, 2, 3, 3, 2, 1, 2, 1, 3])"
      ]
     },
     "execution_count": 44,
     "metadata": {},
     "output_type": "execute_result"
    }
   ],
   "source": [
    "x = np.array([1, 2, 3])\n",
    "y = np.array([3, 2, 1])\n",
    "z = np.array([2, 1, 3])\n",
    "np.concatenate([x, y, z]) # takes a list or a tuple of arrays as argument"
   ]
  },
  {
   "cell_type": "code",
   "execution_count": 45,
   "metadata": {
    "colab": {
     "base_uri": "https://localhost:8080/"
    },
    "id": "lEEEVfnNulK6",
    "outputId": "784f9878-cb0e-4e92-f017-fd768713717b"
   },
   "outputs": [
    {
     "name": "stdout",
     "output_type": "stream",
     "text": [
      "[[1 2 3]\n",
      " [4 5 6]\n",
      " [1 2 3]\n",
      " [4 5 6]]\n",
      "-----\n",
      "[[1 2 3 1 2 3]\n",
      " [4 5 6 4 5 6]]\n"
     ]
    }
   ],
   "source": [
    "grid = np.array([[1, 2, 3],\n",
    "                 [4, 5, 6]])\n",
    "print( np.concatenate([grid, grid]) )\n",
    "print(\"-----\")\n",
    "\n",
    "print( np.concatenate([grid, grid], axis = 1) ) # Do it along the second axis\n"
   ]
  },
  {
   "cell_type": "code",
   "execution_count": 46,
   "metadata": {
    "colab": {
     "base_uri": "https://localhost:8080/"
    },
    "id": "apouDwLpuwp4",
    "outputId": "a17d22e7-b5e2-4663-eaf5-75441b9237eb"
   },
   "outputs": [
    {
     "data": {
      "text/plain": [
       "array([[1, 2, 3],\n",
       "       [4, 5, 6],\n",
       "       [1, 2, 3]])"
      ]
     },
     "execution_count": 46,
     "metadata": {},
     "output_type": "execute_result"
    }
   ],
   "source": [
    "# Using vstack for arrays of different dimensions: \n",
    "x = np.array([1, 2, 3])\n",
    "\n",
    "np.vstack([grid, x]) # append 1D array 'x' as a row at the bottom of 2D array 'grid'\n"
   ]
  },
  {
   "cell_type": "code",
   "execution_count": 47,
   "metadata": {
    "colab": {
     "base_uri": "https://localhost:8080/"
    },
    "id": "qgJ0f_hIu62E",
    "outputId": "92c69cd7-dd31-4821-eb37-c96243ffc90b"
   },
   "outputs": [
    {
     "name": "stdout",
     "output_type": "stream",
     "text": [
      "[[99]\n",
      " [98]]\n",
      "-----\n"
     ]
    },
    {
     "data": {
      "text/plain": [
       "array([[ 1,  2,  3, 99],\n",
       "       [ 4,  5,  6, 98]])"
      ]
     },
     "execution_count": 47,
     "metadata": {},
     "output_type": "execute_result"
    }
   ],
   "source": [
    "y = np.array([[99], [98]])\n",
    "print(y)\n",
    "print(\"-----\")\n",
    "np.hstack([grid, y]) # append y to grid, as a column "
   ]
  },
  {
   "cell_type": "markdown",
   "metadata": {
    "id": "LKn4mbd-vg4j"
   },
   "source": [
    "The opposite of concatenation is splitting, which can be done using `np.split`, `np.hsplit`, and `np.vsplit`. For each of these, we can pass a list of indices giving the split points.\n"
   ]
  },
  {
   "cell_type": "code",
   "execution_count": 48,
   "metadata": {
    "colab": {
     "base_uri": "https://localhost:8080/"
    },
    "id": "u-lnrnBdvVBr",
    "outputId": "eb34cddb-2a63-4683-cc68-55a34af866bd"
   },
   "outputs": [
    {
     "name": "stdout",
     "output_type": "stream",
     "text": [
      "[0 1 2 3 4 5 6 7 8 9]\n",
      "-----\n",
      "[0 1] [2 3] [4 5]\n",
      "[6 7] [8 9]\n"
     ]
    }
   ],
   "source": [
    "x = np.arange(10)\n",
    "print(x)\n",
    "print(\"-----\")\n",
    "x1, x2, x3, x4, x5 = np.split(x, [2, 4, 6, 8])\n",
    "print(x1, x2, x3)\n",
    "print(x4, x5)\n"
   ]
  },
  {
   "cell_type": "code",
   "execution_count": 49,
   "metadata": {
    "colab": {
     "base_uri": "https://localhost:8080/"
    },
    "id": "FLyr1OXCvnUO",
    "outputId": "2c56fd49-d85e-4681-8296-4cc28dc1e3c8"
   },
   "outputs": [
    {
     "data": {
      "text/plain": [
       "array([[ 0,  1,  2,  3],\n",
       "       [ 4,  5,  6,  7],\n",
       "       [ 8,  9, 10, 11],\n",
       "       [12, 13, 14, 15],\n",
       "       [16, 17, 18, 19],\n",
       "       [20, 21, 22, 23]])"
      ]
     },
     "execution_count": 49,
     "metadata": {},
     "output_type": "execute_result"
    }
   ],
   "source": [
    "grid = np.arange(24).reshape((6, 4))\n",
    "grid\n"
   ]
  },
  {
   "cell_type": "code",
   "execution_count": 50,
   "metadata": {
    "colab": {
     "base_uri": "https://localhost:8080/"
    },
    "id": "JWFs5G7cv067",
    "outputId": "c16f2f64-0f42-48dd-bb89-6ebfae29d11c"
   },
   "outputs": [
    {
     "name": "stdout",
     "output_type": "stream",
     "text": [
      "[[ 0  1  2  3]\n",
      " [ 4  5  6  7]\n",
      " [ 8  9 10 11]]\n",
      "-----\n",
      "[[ 0  1]\n",
      " [ 4  5]\n",
      " [ 8  9]\n",
      " [12 13]\n",
      " [16 17]\n",
      " [20 21]]\n"
     ]
    }
   ],
   "source": [
    "g1, g2 = np.vsplit(grid, [3])\n",
    "g3, g4 = np.hsplit(grid, [2])\n",
    "print(g1)\n",
    "print(\"-----\")\n",
    "print(g3)"
   ]
  },
  {
   "cell_type": "markdown",
   "metadata": {
    "id": "TtXQKmUP0fnQ"
   },
   "source": [
    "### Computation with Numpy arrays\n",
    "One of the most interesting features of NumPy is the availability of vectorised operations, which replace slow loops by what is called _universal functions_, or **ufuncs**. To summarise, loops tend to be relatively slow in Python, mainly because Python needs to do type-checking and other tasks every time the function is called. In contrast, when working with compiled code (such as in C or Java) the type is always known beforehand, making the computations more efficient.\n",
    "\n",
    "For many types of operations, NumPy provides a convenient interface to _vectorise_ operations so that they can be performed behind-the-scenes using compiled code methods. This vectorised approach is designed to push loops into the compiled layer that underlies NumPy, leading to much faster execution. For instance, suppose you wish to compute the square value of all elements a long numeric array. You can either do an elementwise `for`-loop, or simply:"
   ]
  },
  {
   "cell_type": "code",
   "execution_count": 51,
   "metadata": {
    "colab": {
     "base_uri": "https://localhost:8080/"
    },
    "id": "2yyrqT2Uv2ea",
    "outputId": "99ba110a-ad93-4a4d-b246-c1ef1e98b596"
   },
   "outputs": [
    {
     "name": "stdout",
     "output_type": "stream",
     "text": [
      "[29 15 13  1 25]\n",
      "[841 225 169   1 625]\n"
     ]
    }
   ],
   "source": [
    "long_array = np.random.randint(1, 32, size = 100000) # 100,000 random integers between 1 and 32\n",
    "squared_vals = long_array ** 2\n",
    "print(long_array[0:5])\n",
    "print(squared_vals[0:5])"
   ]
  },
  {
   "cell_type": "markdown",
   "metadata": {
    "id": "76diubLe1-eM"
   },
   "source": [
    "All common arithmetic operations (`+`, `-`, `*`, `/`, `**`, `//`, `%`) are implemented as _ufuncs_ for NumPy. When combined, they (of course) maintain the standard order of operations. Other functions available as _ufuncs_ include trigonometric function (`np.sin`/`arcsin`, `np.cos`/`arccos`, `np.tan`/`arctan`), exponentials (`np.exp`, `np.exp2`, , `np.power`), logarithms (`np.ln`, `np.log2`, `np.log10`) etc. NumPy has many more _ufuncs_ available, including hyperbolic trigonometrics, bitwise arithmetic, comparison operators, angle conversion, rounding, etc. Submodule, `scipy.special` features a number of these more specialised functions.\n",
    "\n",
    "For binary _ufuncs_, some interesting aggregates can be computed directly from the object. For instance, if we want to _reduce_ (that is, summarise) an array with a particular operation, it is possible to use the `reduce` method of **any** _ufunc_. A _reduce_ repeatedly applies a given operation to the elements of an array until only a single result remains. For example, calling `reduce` on the add _ufunc_ returns the sum of all elements in the array:"
   ]
  },
  {
   "cell_type": "code",
   "execution_count": 52,
   "metadata": {
    "colab": {
     "base_uri": "https://localhost:8080/"
    },
    "id": "_j0PCLvS0_io",
    "outputId": "1ffcdec8-77c3-4a65-a1bd-36b493658801"
   },
   "outputs": [
    {
     "name": "stdout",
     "output_type": "stream",
     "text": [
      "55\n",
      "3628800\n"
     ]
    }
   ],
   "source": [
    "x = np.arange(1, 11)         # [1, 2, ..., 10]\n",
    "print(np.add.reduce(x))      # 1 + 2 + 3 + ... + 10\n",
    "print(np.multiply.reduce(x)) # 10! = 1 x 2 x 3 x ... x 10"
   ]
  },
  {
   "cell_type": "code",
   "execution_count": 53,
   "metadata": {
    "colab": {
     "base_uri": "https://localhost:8080/"
    },
    "id": "Swj-2_Ud2VbZ",
    "outputId": "7d1da5f2-a196-4009-d25a-5647eb89d097"
   },
   "outputs": [
    {
     "name": "stdout",
     "output_type": "stream",
     "text": [
      "[ 1  3  6 10 15 21 28 36 45 55]\n"
     ]
    }
   ],
   "source": [
    "print(np.add.accumulate(x)) # If the intermediate results are of interest, we can use `accumulate`"
   ]
  },
  {
   "cell_type": "markdown",
   "metadata": {
    "id": "jporle8S26nG"
   },
   "source": [
    "Finally, any _ufunc_ can also compute the output of all pairs of two different inputs using the `outer` method. For instance, to create a multiplication table you only need:"
   ]
  },
  {
   "cell_type": "code",
   "execution_count": 54,
   "metadata": {
    "colab": {
     "base_uri": "https://localhost:8080/"
    },
    "id": "qJVRw3bh2zSl",
    "outputId": "6239de34-c323-4ba8-f82e-8e58f9c2b21f"
   },
   "outputs": [
    {
     "data": {
      "text/plain": [
       "array([[  1,   2,   3,   4,   5,   6,   7,   8,   9,  10],\n",
       "       [  2,   4,   6,   8,  10,  12,  14,  16,  18,  20],\n",
       "       [  3,   6,   9,  12,  15,  18,  21,  24,  27,  30],\n",
       "       [  4,   8,  12,  16,  20,  24,  28,  32,  36,  40],\n",
       "       [  5,  10,  15,  20,  25,  30,  35,  40,  45,  50],\n",
       "       [  6,  12,  18,  24,  30,  36,  42,  48,  54,  60],\n",
       "       [  7,  14,  21,  28,  35,  42,  49,  56,  63,  70],\n",
       "       [  8,  16,  24,  32,  40,  48,  56,  64,  72,  80],\n",
       "       [  9,  18,  27,  36,  45,  54,  63,  72,  81,  90],\n",
       "       [ 10,  20,  30,  40,  50,  60,  70,  80,  90, 100]])"
      ]
     },
     "execution_count": 54,
     "metadata": {},
     "output_type": "execute_result"
    }
   ],
   "source": [
    "x = np.arange(1, 11)\n",
    "np.multiply.outer(x, x)"
   ]
  },
  {
   "cell_type": "markdown",
   "metadata": {
    "id": "vEcCaAy93B3r"
   },
   "source": []
  },
  {
   "cell_type": "markdown",
   "metadata": {
    "id": "rBNF3qWH3tca"
   },
   "source": [
    "*****\n",
    "## TO DO\n",
    "(10 minutes)\n",
    "\n",
    "Let's verify the claim that if we check enough random vectors we will inevitably find high correlations by chance alone. A simple test can be done as follows:\n",
    "\n",
    "- Create a 1,000x10 (1,000 rows, 10 columns) `ndarray` object populated with random numbers following a standard Normal (Gaussian) distribution (check `np.random.normal()`). This will simulate the case where we had 1000 unrelated variables observed on 10 occasions (for instance, year totals for 10 years). Store this in variable `X`.\n",
    "\n",
    "- Calculate the correlation matrix for the variables above (check `np.corrcoef()`). This matrix will be a 1,000x1,000 matrix containing the [correlation](https://www.statisticshowto.com/probability-and-statistics/correlation-coefficient-formula/#definition) between all pairs of variables. Store this in variable `M`.\n",
    "\n",
    "Correlation matrices have two characteristics that are not very useful for our purpose here: The main diagonal elements are always 1 (a variable always agrees perfectly with itself) and the matrix is symmatric - if you switch the row and column indices, the value is the same. \n",
    "\n",
    "- Change your variable `M` so that all values in the main diagonal AND below it are replaced by zero. Functions `np.tril()` and `np.fill_diagonal()` can help here.\n",
    "\n",
    "- Get the indices of any correlations that have a magnitude greater than 0.95 (that is, lower than `-0.95` or higher than `0.95`. This indicates an immensely high agreement!). Check the documentation of function `np.where()`. Store these indices in two variables, `pos` (for highly positive correlations) and `neg` (for highly negative correlations). Check the values of the correlations themselves using `M[pos]` and `M[neg]`.\n",
    "\n",
    "- Run the code at the end of this Notebook to visualise the (completely spurious) high positive correlations that you found (change it to see your negative ones too). We'll talk more about data visualisation later in these labs.\n",
    "\n",
    "\n",
    "How many high-correlation variables did random chance generate for you? Notice how impressive they would look if you didn't know how many pairs were looked at before these emerged - and think about this next time you see seemingly miraculous findings reported. It's always important (but sometimes difficult) to know how many things were tested, not only the most impressive results. ;-)"
   ]
  },
  {
   "cell_type": "code",
   "execution_count": 57,
   "metadata": {
    "id": "xKuEiBu129Dg"
   },
   "outputs": [
    {
     "name": "stdout",
     "output_type": "stream",
     "text": [
      "[0.95079178 0.96586224 0.9535564  0.97399366 0.95015397 0.96992605\n",
      " 0.95004347]\n"
     ]
    },
    {
     "data": {
      "text/plain": [
       "array([-0.95374102, -0.95846607])"
      ]
     },
     "execution_count": 57,
     "metadata": {},
     "output_type": "execute_result"
    }
   ],
   "source": [
    "# import numpy as np # np is a standard alias for numpy. It makes the code cleaner.\n",
    "\n",
    "# X =    # Create your X\n",
    "X = np.random.normal(size=(1000,10))\n",
    "# M =    # Calculate your M\n",
    "M = np.corrcoef(X)\n",
    "# M =    # Modify your M so that all values in the main diagonal and above it are replaced by 0\n",
    "np.fill_diagonal(M, 0)\n",
    "# Return a copy of an array with elements above the k-th diagonal zeroed, (k=0 the default is the main diagonal). \n",
    "M = np.tril(M)\n",
    "\n",
    "# Get the indices of high positive/negative correlations\n",
    "pos = np.where(M > 0.95)  # pos = np.asarray(M > 0.95).nonzero()\n",
    "neg = np.where(M < -0.95)  # neg = np.asarray(M < -0.95).nonzero()\n",
    "\n",
    "print(M[pos]) # Check the correlation values\n",
    "M[neg]\n"
   ]
  },
  {
   "cell_type": "code",
   "execution_count": 58,
   "metadata": {
    "id": "xodHv1l4CGvi"
   },
   "outputs": [
    {
     "data": {
      "image/png": "[encoded data removed]",
      "text/plain": [
       "<Figure size 640x480 with 1 Axes>"
      ]
     },
     "metadata": {},
     "output_type": "display_data"
    },
    {
     "data": {
      "image/png": "[encoded data removed]",
      "text/plain": [
       "<Figure size 640x480 with 1 Axes>"
      ]
     },
     "metadata": {},
     "output_type": "display_data"
    },
    {
     "data": {
      "image/png": "[encoded data removed]",
      "text/plain": [
       "<Figure size 640x480 with 1 Axes>"
      ]
     },
     "metadata": {},
     "output_type": "display_data"
    },
    {
     "data": {
      "image/png": "[encoded data removed]",
      "text/plain": [
       "<Figure size 640x480 with 1 Axes>"
      ]
     },
     "metadata": {},
     "output_type": "display_data"
    },
    {
     "data": {
      "image/png": "[encoded data removed]",
      "text/plain": [
       "<Figure size 640x480 with 1 Axes>"
      ]
     },
     "metadata": {},
     "output_type": "display_data"
    },
    {
     "data": {
      "image/png": "[encoded data removed]",
      "text/plain": [
       "<Figure size 640x480 with 1 Axes>"
      ]
     },
     "metadata": {},
     "output_type": "display_data"
    },
    {
     "data": {
      "image/png": "[encoded data removed]",
      "text/plain": [
       "<Figure size 640x480 with 1 Axes>"
      ]
     },
     "metadata": {},
     "output_type": "display_data"
    },
    {
     "data": {
      "image/png": "[encoded data removed]",
      "text/plain": [
       "<Figure size 640x480 with 1 Axes>"
      ]
     },
     "metadata": {},
     "output_type": "display_data"
    },
    {
     "data": {
      "image/png": "[encoded data removed]",
      "text/plain": [
       "<Figure size 640x480 with 1 Axes>"
      ]
     },
     "metadata": {},
     "output_type": "display_data"
    }
   ],
   "source": [
    "# Use this block to generate plots\n",
    "\n",
    "import matplotlib.pyplot as plt\n",
    "\n",
    "for i in np.arange(pos[0].size):\n",
    "  z = np.polyfit(X[pos[0][i],:], X[pos[1][i],:], 1)\n",
    "  p = np.poly1d(z)\n",
    "\n",
    "  plt.figure()\n",
    "  plt.plot(X[pos[0][i],:], X[pos[1][i],:], 'o')\n",
    "  plt.plot(X[pos[0][i],:], p(X[pos[0][i],:]), \"r-\")\n",
    "  plt.xlabel(\"X\" + str(pos[0][i]))\n",
    "  plt.ylabel(\"X\" + str(pos[1][i]))\n",
    "  plt.show()\n",
    "\n",
    "for i in np.arange(neg[0].size):\n",
    "  z = np.polyfit(X[neg[0][i],:], X[neg[1][i],:], 1)\n",
    "  p = np.poly1d(z)\n",
    "\n",
    "  plt.figure()\n",
    "  plt.plot(X[neg[0][i],:], X[neg[1][i],:], 'o')\n",
    "  plt.plot(X[neg[0][i],:], p(X[neg[0][i],:]), \"r-\")\n",
    "  plt.xlabel(\"X\" + str(neg[0][i]))\n",
    "  plt.ylabel(\"X\" + str(neg[1][i]))\n",
    "  plt.show()"
   ]
  },
  {
   "cell_type": "code",
   "execution_count": null,
   "metadata": {
    "id": "9mlyZfA3EiK8"
   },
   "outputs": [],
   "source": []
  }
 ],
 "metadata": {
  "colab": {
   "collapsed_sections": [],
   "name": "CS3440 - Lab2.ipynb",
   "provenance": []
  },
  "kernelspec": {
   "display_name": "Python 3 (ipykernel)",
   "language": "python",
   "name": "python3"
  },
  "language_info": {
   "codemirror_mode": {
    "name": "ipython",
    "version": 3
   },
   "file_extension": ".py",
   "mimetype": "text/x-python",
   "name": "python",
   "nbconvert_exporter": "python",
   "pygments_lexer": "ipython3",
   "version": "3.9.13"
  }
 },
 "nbformat": 4,
 "nbformat_minor": 4
}
