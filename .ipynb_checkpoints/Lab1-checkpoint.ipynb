{
 "cells": [
  {
   "cell_type": "markdown",
   "id": "cbeffeaf-9ac4-4c40-b321-78c19adfd60c",
   "metadata": {},
   "source": [
    "## INTRO TO PYTHON"
   ]
  },
  {
   "cell_type": "markdown",
   "id": "0f36fdc0-310a-477c-884f-756282e548d5",
   "metadata": {},
   "source": [
    "- [ ] String Manipulation"
   ]
  },
  {
   "cell_type": "code",
   "execution_count": 18,
   "id": "a4317676-b252-41f1-a60f-689f5ebbe8fc",
   "metadata": {},
   "outputs": [
    {
     "name": "stdout",
     "output_type": "stream",
     "text": [
      "Hello World\n"
     ]
    }
   ],
   "source": [
    "print(\"Hello World\")"
   ]
  },
  {
   "cell_type": "code",
   "execution_count": 19,
   "id": "a31d4f34-3ad4-45e7-9445-9c1d031ee253",
   "metadata": {},
   "outputs": [],
   "source": [
    "a=\"my string\""
   ]
  },
  {
   "cell_type": "code",
   "execution_count": 20,
   "id": "494a3677-9a9c-4e1a-b21f-239536e13691",
   "metadata": {},
   "outputs": [
    {
     "name": "stdout",
     "output_type": "stream",
     "text": [
      "my string\n"
     ]
    }
   ],
   "source": [
    "print(a)"
   ]
  },
  {
   "cell_type": "code",
   "execution_count": 21,
   "id": "8d43010f-25f0-45a8-bec5-65ba03bf512d",
   "metadata": {},
   "outputs": [],
   "source": [
    "name=\"Felipe CAMPELO\""
   ]
  },
  {
   "cell_type": "code",
   "execution_count": 22,
   "id": "148df47c-a07d-4d26-8558-1a03918fe647",
   "metadata": {},
   "outputs": [
    {
     "data": {
      "text/plain": [
       "'felipe campelo'"
      ]
     },
     "execution_count": 22,
     "metadata": {},
     "output_type": "execute_result"
    }
   ],
   "source": [
    "name.lower()"
   ]
  },
  {
   "cell_type": "code",
   "execution_count": 23,
   "id": "60cdd3d9-c0f5-45c9-aa21-ca0eddeb48fb",
   "metadata": {},
   "outputs": [
    {
     "data": {
      "text/plain": [
       "'FELIPE CAMPELO'"
      ]
     },
     "execution_count": 23,
     "metadata": {},
     "output_type": "execute_result"
    }
   ],
   "source": [
    "name.upper()"
   ]
  },
  {
   "cell_type": "code",
   "execution_count": 24,
   "id": "dea85189-391c-42c1-ba55-f5cc148eb1df",
   "metadata": {},
   "outputs": [],
   "source": [
    "first_name=\"felipe\""
   ]
  },
  {
   "cell_type": "code",
   "execution_count": 25,
   "id": "aa2ac400-0d96-4d2a-b6a5-fe172d1fa84c",
   "metadata": {},
   "outputs": [],
   "source": [
    "last_name=\"campelo\""
   ]
  },
  {
   "cell_type": "code",
   "execution_count": 26,
   "id": "3d3a7c73-52e4-4a5d-a443-57082ee76d3d",
   "metadata": {},
   "outputs": [],
   "source": [
    "name=first_name + \" \" + last_name"
   ]
  },
  {
   "cell_type": "code",
   "execution_count": 28,
   "id": "8a303377-84db-44ee-8eb8-13d44c706baa",
   "metadata": {},
   "outputs": [
    {
     "data": {
      "text/plain": [
       "'Felipe Campelo'"
      ]
     },
     "execution_count": 28,
     "metadata": {},
     "output_type": "execute_result"
    }
   ],
   "source": [
    "name.title() #title capitalisation"
   ]
  },
  {
   "cell_type": "code",
   "execution_count": 29,
   "id": "e760e754-3b9d-4a3b-bdd3-5aac162311ab",
   "metadata": {},
   "outputs": [],
   "source": [
    "age = 43"
   ]
  },
  {
   "cell_type": "code",
   "execution_count": 30,
   "id": "179ebaa9-f7f4-4d7c-af90-1c05db3efbef",
   "metadata": {},
   "outputs": [
    {
     "data": {
      "text/plain": [
       "'Happy 43th birthday!'"
      ]
     },
     "execution_count": 30,
     "metadata": {},
     "output_type": "execute_result"
    }
   ],
   "source": [
    "f\"Happy {age}th birthday!\""
   ]
  },
  {
   "cell_type": "code",
   "execution_count": 31,
   "id": "b4a61c73-42cf-4331-a77f-935917b6a725",
   "metadata": {},
   "outputs": [],
   "source": [
    "name=\"felipe campelo\""
   ]
  },
  {
   "cell_type": "code",
   "execution_count": 32,
   "id": "37048897-1444-4a78-a64c-ce6b1d83344a",
   "metadata": {},
   "outputs": [],
   "source": [
    "studentid=\"12345677\""
   ]
  },
  {
   "cell_type": "code",
   "execution_count": 33,
   "id": "72c536d0-1ad7-4449-8df1-c30a68b4e47f",
   "metadata": {},
   "outputs": [
    {
     "data": {
      "text/plain": [
       "'FELIPE CAMPELO - 12345677'"
      ]
     },
     "execution_count": 33,
     "metadata": {},
     "output_type": "execute_result"
    }
   ],
   "source": [
    "f\"{name.upper()} - {studentid}\""
   ]
  },
  {
   "cell_type": "code",
   "execution_count": 40,
   "id": "4658170c-2dd6-4c26-b54f-f66f8a7c324b",
   "metadata": {},
   "outputs": [
    {
     "name": "stdout",
     "output_type": "stream",
     "text": [
      "Can only enter the child-friendly areas\n"
     ]
    }
   ],
   "source": [
    "age=8\n",
    "if age<=6:\n",
    "    print(\"Cannot enter the stadium\")\n",
    "elif age>=7 and age<=12:\n",
    "    print(\"Can only enter the child-friendly areas\")\n",
    "elif age>=13 and age <=16:\n",
    "    print(\"Can enter the stadium accompanied by an adult\")\n",
    "else:\n",
    "    print(\"Can enter the stadium freely\")"
   ]
  },
  {
   "cell_type": "code",
   "execution_count": 41,
   "id": "2fb51af2-a8bb-4cb9-b028-4f33ce34161e",
   "metadata": {},
   "outputs": [
    {
     "name": "stdout",
     "output_type": "stream",
     "text": [
      "4320\n",
      "2420\n",
      "9280\n",
      "9200\n"
     ]
    }
   ],
   "source": [
    "for i in [432, 242, 928, 920]:\n",
    "    x= i*10\n",
    "    print(x)"
   ]
  },
  {
   "cell_type": "code",
   "execution_count": 45,
   "id": "3725a4c8-cd0e-4bc7-956f-b120849c1cd8",
   "metadata": {},
   "outputs": [
    {
     "name": "stdout",
     "output_type": "stream",
     "text": [
      "2 is a prime number\n",
      "3 is a prime number\n",
      "4 = 2 x 2\n",
      "5 is a prime number\n",
      "6 = 2 x 3\n"
     ]
    }
   ],
   "source": [
    "for n in range (2, 7): \n",
    "    for x in range(2, n):\n",
    "        if n % x == 0: \n",
    "            print(str(n) + ' = ' + str(x) + ' x ' + str(n//x))\n",
    "            break\n",
    "    else:\n",
    "        print(str(n) + ' is a prime number')"
   ]
  },
  {
   "cell_type": "code",
   "execution_count": 61,
   "id": "924cf4a7-100e-4c0f-8db7-4bb7543cd0cb",
   "metadata": {},
   "outputs": [
    {
     "name": "stdin",
     "output_type": "stream",
     "text": [
      "Give a number:  2\n"
     ]
    },
    {
     "name": "stdout",
     "output_type": "stream",
     "text": [
      "2\n"
     ]
    }
   ],
   "source": [
    "n = int(input(\"Give a number: \"))\n",
    "ans=1 \n",
    "for i in range (n,0,-1):\n",
    "    ans*=i\n",
    "print(ans)"
   ]
  },
  {
   "cell_type": "code",
   "execution_count": null,
   "id": "e25f5f56-131a-4cff-85de-f4c755249f51",
   "metadata": {},
   "outputs": [],
   "source": []
  },
  {
   "cell_type": "code",
   "execution_count": null,
   "id": "ae9ef291-3610-403c-86aa-566f6f751f9d",
   "metadata": {},
   "outputs": [],
   "source": []
  }
 ],
 "metadata": {
  "kernelspec": {
   "display_name": "Python 3 (ipykernel)",
   "language": "python",
   "name": "python3"
  },
  "language_info": {
   "codemirror_mode": {
    "name": "ipython",
    "version": 3
   },
   "file_extension": ".py",
   "mimetype": "text/x-python",
   "name": "python",
   "nbconvert_exporter": "python",
   "pygments_lexer": "ipython3",
   "version": "3.9.13"
  }
 },
 "nbformat": 4,
 "nbformat_minor": 5
}
