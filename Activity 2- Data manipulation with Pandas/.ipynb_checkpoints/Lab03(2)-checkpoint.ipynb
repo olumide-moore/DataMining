{
 "cells": [
  {
   "cell_type": "markdown",
   "metadata": {},
   "source": [
    "# CS3DM - Lab 3\n",
    "\n",
    "## Objectives\n",
    "To explore Pandas and the _Series_, _DataFrame_ and _Index_ objects, and to gain some familiarity with the use of Pandas for exploratory analysis.\n",
    "\n",
    "## Suggested Reading\n",
    "Jake VandePlas, *Python Data Science Handbook*, Chapter 3: <https://jakevdp.github.io/PythonDataScienceHandbook/>\\\n",
    "\n",
    "## Acknowledgments\n",
    "Some of the examples in this unit are taken from: [Python Crash Course - A Hands-on, Project-based, introduction to programming](https://nostarch.com/pythoncrashcourse2e)\n",
    "\n",
    "## Instructions\n",
    "This is a follow-on tutorial. There are a few _**TO DO**_ blocks, but most of this tutorial is for you to follow through. Please take your time at each block to understand what is being done, and feel free to tinker, explore and modify any block to check your understanding (if you break anything you can always ctrl-Z, or in the worst case download the original Notebook again).\n",
    "*****"
   ]
  },
  {
   "cell_type": "markdown",
   "metadata": {},
   "source": [
    "# Pandas data structures\n",
    "\n",
    "## What is Pandas\n",
    "Pandas is a package built on top of NumPy, which provides an efficient implementation of a data frame (or, as it is called in Pandas, a `DataFrame`). Pandas' DataFrames are multidimensional arrays with attached row and column labels, can contain heterogeneous data types and missing data. Pandas implements a number of powerful data operations for transforming and merging data and, besides `DataFrame`, it also provides two other useful data objects: `Series` and `Index`.\n",
    "\n",
    "## `Series` objects\n",
    "A Pandas `Series` is a one-dimensional array of indexed data. It can be easily created from a list or array.\n",
    "\n"
   ]
  },
  {
   "cell_type": "code",
   "execution_count": 42,
   "metadata": {},
   "outputs": [
    {
     "name": "stdout",
     "output_type": "stream",
     "text": [
      "0    0.0\n",
      "1    0.5\n",
      "2    1.0\n",
      "dtype: float64\n"
     ]
    }
   ],
   "source": [
    "import numpy as np\n",
    "import pandas as pd\n",
    "mydata = pd.Series([.0, .5, 1.])\n",
    "print(mydata)"
   ]
  },
  {
   "cell_type": "markdown",
   "metadata": {},
   "source": [
    "Notice that the `Series` explicitly stores data as `<index-value>` pairs. Indices can be used later to access the values.\n",
    "\n",
    "Values in a Series object can be accessed the intuitive way:"
   ]
  },
  {
   "cell_type": "code",
   "execution_count": 43,
   "metadata": {},
   "outputs": [
    {
     "name": "stdout",
     "output_type": "stream",
     "text": [
      "[0.  0.5 1. ]\n",
      "RangeIndex(start=0, stop=3, step=1)\n"
     ]
    },
    {
     "data": {
      "text/plain": [
       "0.0"
      ]
     },
     "execution_count": 43,
     "metadata": {},
     "output_type": "execute_result"
    }
   ],
   "source": [
    "print(mydata.values)\n",
    "print(mydata.index)\n",
    "mydata[0]"
   ]
  },
  {
   "cell_type": "markdown",
   "metadata": {},
   "source": [
    "The essential difference between a `Series` and a NumPy 1D array is the index: \n",
    "  - The NumPy Array has an (implicitly defined) integer index used to access the values\n",
    "  - The Pandas Series has an (explicitly defined) index associated with the values.\n",
    "\n",
    "This gives `Series` objects additional capabilities, e.g., generalising the index to any type (useful if we want to index by label). It is also possible to see `Series` as a specialised Python dictionary: a dictionary maps arbitrary keys to a set of arbitrary values, and a `Series` maps typed keys to a set of typed values. \n",
    "\n",
    "The _typing_ of the keys and values is important: the type information of `Series` makes it much more efficient than Python dictionaries for certain operations."
   ]
  },
  {
   "cell_type": "code",
   "execution_count": 44,
   "metadata": {},
   "outputs": [
    {
     "name": "stdout",
     "output_type": "stream",
     "text": [
      "0.5\n",
      "-----\n",
      "{'login': 'fcampelo', 'first': 'felipe', 'last': 'campelo'}\n",
      "-----\n",
      "login    fcampelo\n",
      "first      felipe\n",
      "last      campelo\n",
      "dtype: object\n"
     ]
    }
   ],
   "source": [
    "mydata = pd.Series(data = [0.25, 0.5, 0.75], index=['1Q', '2Q', '3Q']) # build series with nominal indices\n",
    "\n",
    "print(mydata['2Q']) # index by label\n",
    "print(\"-----\")\n",
    "\n",
    "user_dict = {'login': 'fcampelo', 'first': 'felipe', 'last': 'campelo'} # build a dictionary\n",
    "user_series = pd.Series(user_dict)# convert it to a Pandas series\n",
    "print(user_dict)\n",
    "print(\"-----\")\n",
    "print(user_series)"
   ]
  },
  {
   "cell_type": "code",
   "execution_count": 45,
   "metadata": {},
   "outputs": [
    {
     "data": {
      "text/plain": [
       "first     felipe\n",
       "last     campelo\n",
       "dtype: object"
      ]
     },
     "execution_count": 45,
     "metadata": {},
     "output_type": "execute_result"
    }
   ],
   "source": [
    "user_series['first':] # Unlike a dictionary, you can do slicing on `Series`"
   ]
  },
  {
   "cell_type": "markdown",
   "metadata": {},
   "source": [
    "## `DataFrame` objects\n",
    "\n",
    "Another fundamental structure in Pandas is the `DataFrame`, which is possibly one of the most usefult for data science. Like the `Series` objects, the `DataFrame` can also be seen as generalised 2D NumPy array or, alternatively, as a specialised Python dictionary. \n",
    "\n",
    "A `DataFrame` can be seen as an analog of a 2D NumPy array, with flexible row indices and column names. It may be useful to think of a DataFrame as a sequence of Series objects that share the same index - i.e., that are, in a sense, aligned."
   ]
  },
  {
   "cell_type": "code",
   "execution_count": 46,
   "metadata": {},
   "outputs": [
    {
     "data": {
      "text/html": [
       "<div>\n",
       "<style scoped>\n",
       "    .dataframe tbody tr th:only-of-type {\n",
       "        vertical-align: middle;\n",
       "    }\n",
       "\n",
       "    .dataframe tbody tr th {\n",
       "        vertical-align: top;\n",
       "    }\n",
       "\n",
       "    .dataframe thead th {\n",
       "        text-align: right;\n",
       "    }\n",
       "</style>\n",
       "<table border=\"1\" class=\"dataframe\">\n",
       "  <thead>\n",
       "    <tr style=\"text-align: right;\">\n",
       "      <th></th>\n",
       "      <th>population</th>\n",
       "      <th>area</th>\n",
       "    </tr>\n",
       "  </thead>\n",
       "  <tbody>\n",
       "    <tr>\n",
       "      <th>CA</th>\n",
       "      <td>38332521</td>\n",
       "      <td>423967</td>\n",
       "    </tr>\n",
       "    <tr>\n",
       "      <th>TX</th>\n",
       "      <td>26448193</td>\n",
       "      <td>695662</td>\n",
       "    </tr>\n",
       "    <tr>\n",
       "      <th>NY</th>\n",
       "      <td>19651127</td>\n",
       "      <td>141297</td>\n",
       "    </tr>\n",
       "  </tbody>\n",
       "</table>\n",
       "</div>"
      ],
      "text/plain": [
       "    population    area\n",
       "CA    38332521  423967\n",
       "TX    26448193  695662\n",
       "NY    19651127  141297"
      ]
     },
     "execution_count": 46,
     "metadata": {},
     "output_type": "execute_result"
    }
   ],
   "source": [
    "area = pd.Series({'CA': 423967, 'TX': 695662, 'NY': 141297})\n",
    "population = pd.Series({'CA': 38332521, 'TX': 26448193, 'NY': 19651127})\n",
    "\n",
    "mydata = pd.DataFrame({'population': population, 'area': area})\n",
    "mydata"
   ]
  },
  {
   "cell_type": "markdown",
   "metadata": {},
   "source": [
    "Like `Series`, the `DataFrame` has an `index` attribute that gives access to the row (observation) labels. Additionally, it also has a `columns` attribute, which holds the column (variable) labels. This is why it can be seen as a generalised 2D NumPy array, where both rows and columns have a (generalised) index for accessing the data."
   ]
  },
  {
   "cell_type": "code",
   "execution_count": 47,
   "metadata": {},
   "outputs": [
    {
     "name": "stdout",
     "output_type": "stream",
     "text": [
      "Index(['CA', 'TX', 'NY'], dtype='object')\n",
      "Index(['population', 'area'], dtype='object')\n"
     ]
    }
   ],
   "source": [
    "print(mydata.index)\n",
    "print(mydata.columns)\n"
   ]
  },
  {
   "cell_type": "code",
   "execution_count": 48,
   "metadata": {},
   "outputs": [
    {
     "data": {
      "text/html": [
       "<div>\n",
       "<style scoped>\n",
       "    .dataframe tbody tr th:only-of-type {\n",
       "        vertical-align: middle;\n",
       "    }\n",
       "\n",
       "    .dataframe tbody tr th {\n",
       "        vertical-align: top;\n",
       "    }\n",
       "\n",
       "    .dataframe thead th {\n",
       "        text-align: right;\n",
       "    }\n",
       "</style>\n",
       "<table border=\"1\" class=\"dataframe\">\n",
       "  <thead>\n",
       "    <tr style=\"text-align: right;\">\n",
       "      <th></th>\n",
       "      <th>name</th>\n",
       "      <th>age</th>\n",
       "      <th>preTestScore</th>\n",
       "      <th>postTestScore</th>\n",
       "    </tr>\n",
       "  </thead>\n",
       "  <tbody>\n",
       "    <tr>\n",
       "      <th>0</th>\n",
       "      <td>Jason</td>\n",
       "      <td>42</td>\n",
       "      <td>4</td>\n",
       "      <td>25</td>\n",
       "    </tr>\n",
       "    <tr>\n",
       "      <th>1</th>\n",
       "      <td>Molly</td>\n",
       "      <td>52</td>\n",
       "      <td>24</td>\n",
       "      <td>94</td>\n",
       "    </tr>\n",
       "    <tr>\n",
       "      <th>2</th>\n",
       "      <td>Tina</td>\n",
       "      <td>36</td>\n",
       "      <td>31</td>\n",
       "      <td>57</td>\n",
       "    </tr>\n",
       "    <tr>\n",
       "      <th>3</th>\n",
       "      <td>Jake</td>\n",
       "      <td>24</td>\n",
       "      <td>2</td>\n",
       "      <td>62</td>\n",
       "    </tr>\n",
       "    <tr>\n",
       "      <th>4</th>\n",
       "      <td>Amy</td>\n",
       "      <td>73</td>\n",
       "      <td>3</td>\n",
       "      <td>70</td>\n",
       "    </tr>\n",
       "  </tbody>\n",
       "</table>\n",
       "</div>"
      ],
      "text/plain": [
       "    name  age  preTestScore  postTestScore\n",
       "0  Jason   42             4             25\n",
       "1  Molly   52            24             94\n",
       "2   Tina   36            31             57\n",
       "3   Jake   24             2             62\n",
       "4    Amy   73             3             70"
      ]
     },
     "execution_count": 48,
     "metadata": {},
     "output_type": "execute_result"
    }
   ],
   "source": [
    "# We can also build a `DataFrame` from a dictionary (or a list of dictionaries, a dictionary of `Series`, a 2D NumPy array, etc.)\n",
    "data = {'name': ['Jason', 'Molly', 'Tina', 'Jake', 'Amy'], \n",
    "        'age': [42, 52, 36, 24, 73], \n",
    "        'preTestScore': [4, 24, 31, 2, 3],\n",
    "        'postTestScore': [25, 94, 57, 62, 70]}\n",
    "df = pd.DataFrame(data)\n",
    "df"
   ]
  },
  {
   "cell_type": "markdown",
   "metadata": {},
   "source": [
    "## `Index` objects\n",
    "The third type of Pandas object is the `Index`. Both `Series` and `DataFrame` objects contain an explicit index that lets you reference and modify data. This `Index` object can be thought of either as an immutable array or as an ordered (multi-)set, which results in some interesting operations that can be performed on these objects."
   ]
  },
  {
   "cell_type": "code",
   "execution_count": 49,
   "metadata": {},
   "outputs": [
    {
     "name": "stdout",
     "output_type": "stream",
     "text": [
      "Index([1, 1, 2, 3, 5, 8, 13], dtype='int64')\n",
      "3\n",
      "Index([1, 3, 8], dtype='int64')\n"
     ]
    }
   ],
   "source": [
    "ind = pd.Index([1, 1, 2, 3, 5, 8, 13]) # Build `Index` object\n",
    "print(ind)\n",
    "\n",
    "# We can use standard Python indexing notation to retrieve values or slices:\n",
    "print(ind[3])\n",
    "print(ind[1::2])"
   ]
  },
  {
   "cell_type": "markdown",
   "metadata": {},
   "source": [
    "Index objects have many of the attributes familiar from NumPy arrays. One important difference between Index objects and NumPy arrays is that indices are **immutable**, which means that they cannot be modified as an array would. As we're going to see later, Pandas objects are designed to facilitate operations such as joins across datasets, and as such unions, intersections, differences, and other combinations of datasets can be computed relatively easily."
   ]
  },
  {
   "cell_type": "code",
   "execution_count": 50,
   "metadata": {},
   "outputs": [
    {
     "name": "stdout",
     "output_type": "stream",
     "text": [
      "Index([1, 2, 3, 5], dtype='int64')\n",
      "-----\n",
      "Index([0, 1, 1, 2, 3, 4, 5, 6, 8, 13], dtype='int64')\n"
     ]
    }
   ],
   "source": [
    "ind2 = pd.Index(np.arange(0,7))\n",
    "\n",
    "print(ind.intersection(ind2)) # intersection\n",
    "print(\"-----\")\n",
    "print(ind.union(ind2)) # union"
   ]
  },
  {
   "cell_type": "markdown",
   "metadata": {},
   "source": [
    "## Indexing in `Series`\n",
    "The slicing and indexing conventions in `Series` can be a source of confusion. For example, if the `Series` has an explicit integer index, an indexing operation such as `data[1]` will use the explicit indices, while a slicing operation like `data[1:3]` will use the implicit, Python-style index:"
   ]
  },
  {
   "cell_type": "code",
   "execution_count": 51,
   "metadata": {},
   "outputs": [
    {
     "name": "stdout",
     "output_type": "stream",
     "text": [
      "d\n",
      "-----\n",
      "3    a\n",
      "2    b\n",
      "dtype: object\n"
     ]
    }
   ],
   "source": [
    "mydata = pd.Series(data = ['a', 'b', 'c', 'd'], index=[3, 2, 1, 0])\n",
    "\n",
    "print(mydata[0])   # explicit index when indexing\n",
    "print(\"-----\")\n",
    "print(mydata[0:2]) # implicit index when slicing"
   ]
  },
  {
   "cell_type": "markdown",
   "metadata": {},
   "source": [
    "Because of this potential confusion, Pandas provides some special indexer attributes that explicitly expose certain indexing schemes. These are not functional methods, but attributes that expose a particular slicing interface to the data in the Series. \n",
    "\n",
    "The `loc` attribute allows indexing and slicing that **always** reference the explicit index:"
   ]
  },
  {
   "cell_type": "code",
   "execution_count": 52,
   "metadata": {},
   "outputs": [
    {
     "name": "stdout",
     "output_type": "stream",
     "text": [
      "d\n",
      "-----\n",
      "Series([], dtype: object)\n",
      "-----\n",
      "0    d\n",
      "1    c\n",
      "2    b\n",
      "dtype: object\n"
     ]
    }
   ],
   "source": [
    "print(mydata.loc[0])\n",
    "print(\"-----\")\n",
    "print(mydata.loc[0:2])    # This won't work well\n",
    "print(\"-----\")\n",
    "print(mydata.loc[0:2:-1]) # But this will"
   ]
  },
  {
   "cell_type": "markdown",
   "metadata": {},
   "source": [
    "Similarly, The `iloc` attribute allows indexing and slicing that **always** reference the implicit, Python-style index:"
   ]
  },
  {
   "cell_type": "code",
   "execution_count": 53,
   "metadata": {},
   "outputs": [
    {
     "name": "stdout",
     "output_type": "stream",
     "text": [
      "a\n",
      "-----\n",
      "3    a\n",
      "2    b\n",
      "dtype: object\n"
     ]
    }
   ],
   "source": [
    "print(mydata.iloc[0])\n",
    "print(\"-----\")\n",
    "print(mydata.iloc[0:2])"
   ]
  },
  {
   "cell_type": "markdown",
   "metadata": {},
   "source": [
    "## Data Selection in `DataFrames`\n",
    "Recall that a `DataFrame` acts in many ways like a 2D array, and in other ways like a dictionary of `Series` structures sharing a common index.\n",
    "\n",
    "\n",
    "\n"
   ]
  },
  {
   "cell_type": "code",
   "execution_count": 54,
   "metadata": {},
   "outputs": [
    {
     "name": "stdout",
     "output_type": "stream",
     "text": [
      "CA    38332521\n",
      "TX    26448193\n",
      "NY    19651127\n",
      "Name: population, dtype: int64\n",
      "-----\n",
      "CA    38332521\n",
      "TX    26448193\n",
      "NY    19651127\n",
      "Name: population, dtype: int64\n",
      "-----\n",
      "    population    area     density\n",
      "CA    38332521  423967   90.413926\n",
      "TX    26448193  695662   38.018740\n",
      "NY    19651127  141297  139.076746\n"
     ]
    }
   ],
   "source": [
    "# Rebuild the US States population data frame:\n",
    "area = pd.Series({'CA': 423967, 'TX': 695662, 'NY': 141297})\n",
    "population = pd.Series({'CA': 38332521, 'TX': 26448193, 'NY': 19651127})\n",
    "mydata = pd.DataFrame({'population': population, 'area': area})\n",
    "\n",
    "# The individual `Series` that make up the columns of the `DataFrame` can be accessed using:\n",
    "print(mydata['population'])\n",
    "print(\"-----\")\n",
    "print(mydata.population)    # equivalent(-ish; see below)\n",
    "\n",
    "# Create a new attribute in the dataframe:\n",
    "mydata['density'] = mydata['population'] / mydata['area']\n",
    "print(\"-----\")\n",
    "print(mydata)"
   ]
  },
  {
   "cell_type": "markdown",
   "metadata": {},
   "source": [
    "**Note**: although the \".column\" notation is useful, it does not always work! If the column names are not strings, or if they conflict with methods of the `DataFrame`, this attribute-style access is not possible.\n",
    "\n",
    "The raw underlying data array in a `DataFrame` can be examined using the `.values` attribute. This 2D array aspect of the `DataFrame` makes many familiar array-like operations possible on the `DataFrame` itself."
   ]
  },
  {
   "cell_type": "code",
   "execution_count": 55,
   "metadata": {},
   "outputs": [
    {
     "name": "stdout",
     "output_type": "stream",
     "text": [
      "[[3.83325210e+07 4.23967000e+05 9.04139261e+01]\n",
      " [2.64481930e+07 6.95662000e+05 3.80187404e+01]\n",
      " [1.96511270e+07 1.41297000e+05 1.39076746e+02]]\n",
      "-----\n",
      "                      CA            TX            NY\n",
      "population  3.833252e+07  2.644819e+07  1.965113e+07\n",
      "area        4.239670e+05  6.956620e+05  1.412970e+05\n",
      "density     9.041393e+01  3.801874e+01  1.390767e+02\n"
     ]
    }
   ],
   "source": [
    "print(mydata.values)\n",
    "print(\"-----\")\n",
    "print(mydata.T) # transpose, like a matrix"
   ]
  },
  {
   "cell_type": "markdown",
   "metadata": {},
   "source": [
    "## Indexing in `DataFrames`\n",
    "\n",
    "When it comes to indexing of DataFrame objects, the dictionary-style indexing of columns precludes our ability to simply treat it as a NumPy array. In particular, passing a single index to an array accesses a row, but for a DataFrame we get a column instead.\n",
    "\n",
    "For array-style indexing of `DataFrame`s we can use the `loc` and `iloc` indexers.\n",
    "- Using `iloc` we index the underlying array as a simple NumPy array, but the DataFrame index and column labels are maintained.\n",
    "- Using `loc` we index the underlying data in an array-like style, but using the explicit index and column names instead.\n"
   ]
  },
  {
   "cell_type": "code",
   "execution_count": 56,
   "metadata": {},
   "outputs": [
    {
     "name": "stdout",
     "output_type": "stream",
     "text": [
      "CA    423967\n",
      "TX    695662\n",
      "Name: area, dtype: int64\n",
      "-----\n",
      "    population\n",
      "TX    26448193\n",
      "NY    19651127\n"
     ]
    }
   ],
   "source": [
    "print(mydata.iloc[:2, 1]) # by numerical indices\n",
    "print(\"-----\")\n",
    "print(mydata.loc['TX':'NY', :'population']) # by row/column labels"
   ]
  },
  {
   "cell_type": "markdown",
   "metadata": {},
   "source": [
    "Any of the NumPy-style data access patterns can be used within these indexers. For example, in the `loc` indexer we can combine masking and fancy indexing:"
   ]
  },
  {
   "cell_type": "code",
   "execution_count": 57,
   "metadata": {},
   "outputs": [
    {
     "data": {
      "text/html": [
       "<div>\n",
       "<style scoped>\n",
       "    .dataframe tbody tr th:only-of-type {\n",
       "        vertical-align: middle;\n",
       "    }\n",
       "\n",
       "    .dataframe tbody tr th {\n",
       "        vertical-align: top;\n",
       "    }\n",
       "\n",
       "    .dataframe thead th {\n",
       "        text-align: right;\n",
       "    }\n",
       "</style>\n",
       "<table border=\"1\" class=\"dataframe\">\n",
       "  <thead>\n",
       "    <tr style=\"text-align: right;\">\n",
       "      <th></th>\n",
       "      <th>population</th>\n",
       "      <th>density</th>\n",
       "    </tr>\n",
       "  </thead>\n",
       "  <tbody>\n",
       "    <tr>\n",
       "      <th>NY</th>\n",
       "      <td>19651127</td>\n",
       "      <td>139.076746</td>\n",
       "    </tr>\n",
       "  </tbody>\n",
       "</table>\n",
       "</div>"
      ],
      "text/plain": [
       "    population     density\n",
       "NY    19651127  139.076746"
      ]
     },
     "execution_count": 57,
     "metadata": {},
     "output_type": "execute_result"
    }
   ],
   "source": [
    "mydata.loc[mydata.density > 100,      # Get places with density above 100\n",
    "           ['population', 'density']] # Select only these two columns"
   ]
  },
  {
   "cell_type": "markdown",
   "metadata": {},
   "source": [
    "***\n",
    "### **TO DO**\n",
    "(5 minutes)\n",
    "- Create a simple Pandas Series from a list containing your 4 favourite university modules until now. Make sure you know how to access its elements by either position or index.\n",
    "- Create a second Pandas Series containing the names of the module leaders for the modules in your first list.\n",
    "- Build a Pandas DataFrame from the two Series above\n",
    "- Add a new variable to your DataFrame, with your final results in those modules ('pass', 'merit', 'distinction')\n",
    "- Extract and print the full second row of your DataFrame\n",
    "- Extract and print the variable containing your final results."
   ]
  },
  {
   "cell_type": "code",
   "execution_count": 58,
   "metadata": {},
   "outputs": [
    {
     "name": "stdout",
     "output_type": "stream",
     "text": [
      "                 Module  Leader       Result\n",
      "0                   DSA  Sylvia         Pass\n",
      "1           Data Mining  Felipe        Merit\n",
      "2                   ADS     Hai  Distinction\n",
      "3  Multi-Agents Systems   James  Distinction\n",
      "Module    Data Mining\n",
      "Leader         Felipe\n",
      "Result          Merit\n",
      "Name: 1, dtype: object\n"
     ]
    },
    {
     "data": {
      "text/plain": [
       "0           Pass\n",
       "1          Merit\n",
       "2    Distinction\n",
       "3    Distinction\n",
       "Name: Result, dtype: object"
      ]
     },
     "execution_count": 58,
     "metadata": {},
     "output_type": "execute_result"
    }
   ],
   "source": [
    "# Write your solution here\n",
    " \n",
    "modules= pd.Series(['DSA','Data Mining','ADS','Multi-Agents Systems'])\n",
    "leaders=pd.Series(['Sylvia','Felipe','Hai','James'])\n",
    "data=pd.DataFrame({'Module':modules,'Leader':leaders})\n",
    "data['Result']=pd.Series(['Pass','Merit','Distinction','Distinction'])\n",
    "print(data)\n",
    "print(data.iloc[1])\n",
    "data['Result']"
   ]
  },
  {
   "cell_type": "markdown",
   "metadata": {},
   "source": [
    "*****\n",
    "# Working with DataFrames\n",
    "\n",
    "`DataFrame` objects come equipped with a wealth of mathematican and statistical summary functions and methods, as well as other data manipulation tools that can make life easier when doing data mining. We'll use a simple example data set to explore some of these:"
   ]
  },
  {
   "cell_type": "code",
   "execution_count": 74,
   "metadata": {},
   "outputs": [
    {
     "name": "stdout",
     "output_type": "stream",
     "text": [
      "   age  preTestScore  postTestScore\n",
      "0   42             4             25\n",
      "1   52            24             94\n",
      "2   36            31             57\n",
      "3   24             2             62\n",
      "4   73             3             70\n"
     ]
    }
   ],
   "source": [
    "import numpy as np\n",
    "import pandas as pd\n",
    "data = {'name': ['Jason', 'Molly', 'Tina', 'Jake', 'Amy'], \n",
    "        'age': [42, 52, 36, 24, 73], \n",
    "        'preTestScore': [4, 24, 31, 2, 3],\n",
    "        'postTestScore': [25, 94, 57, 62, 70]}\n",
    "        \n",
    "df = pd.DataFrame(data) # A common convention - \"df\" stands for \"DataFrame\"\n",
    "print(df)"
   ]
  },
  {
   "cell_type": "markdown",
   "metadata": {},
   "source": [
    "We can use the `DataFrame` methods to calculate simple summaries and operations on the data. Note that in the block below we are pointing to one column and then applying a function to that column. Other available methods include `.sum()`, `.cumsum()`, `.prod()`, etc. (if it looks like NumPy, then congratulations - you've been paying attention!)"
   ]
  },
  {
   "cell_type": "code",
   "execution_count": 60,
   "metadata": {},
   "outputs": [
    {
     "name": "stdout",
     "output_type": "stream",
     "text": [
      "[24, 73]\n",
      "-----\n",
      "12.8\n",
      "-----\n",
      "count     5.000000\n",
      "mean     12.800000\n",
      "std      13.663821\n",
      "min       2.000000\n",
      "25%       3.000000\n",
      "50%       4.000000\n",
      "75%      24.000000\n",
      "max      31.000000\n",
      "Name: preTestScore, dtype: float64\n"
     ]
    }
   ],
   "source": [
    "print([df['age'].min(), df['age'].max()]) # array containing the range of ages\n",
    "print(\"-----\")\n",
    "\n",
    "print(df['preTestScore'].mean()) # Average PreTest score\n",
    "\n",
    "print(\"-----\")\n",
    "# Summary statistics for a particular column. These can also be obtained isolately using \n",
    "# methods`.count()`, `.min()`, `.max()`, `.median()`, `.mean()`, `quantile()`, etc. \n",
    "# Other summary statistics, such as `.skew()` and `.kurt()` are also available.\n",
    "print(df['preTestScore'].describe()) "
   ]
  },
  {
   "cell_type": "markdown",
   "metadata": {},
   "source": [
    "For a purely numerical `DataFrame` we can treat it as a matrix and calculate, e.g., correlation and covariance matrices for the variables:"
   ]
  },
  {
   "cell_type": "code",
   "execution_count": 75,
   "metadata": {},
   "outputs": [
    {
     "name": "stdout",
     "output_type": "stream",
     "text": [
      "   age  preTestScore  postTestScore\n",
      "0   42             4             25\n",
      "1   52            24             94\n",
      "2   36            31             57\n",
      "3   24             2             62\n",
      "4   73             3             70\n",
      "                    age  preTestScore  postTestScore\n",
      "age            1.000000     -0.105651       0.328852\n",
      "preTestScore  -0.105651      1.000000       0.378039\n",
      "postTestScore  0.328852      0.378039       1.000000\n",
      "-----\n",
      "                  age  preTestScore  postTestScore\n",
      "age            340.80        -26.65         151.20\n",
      "preTestScore   -26.65        186.70         128.65\n",
      "postTestScore  151.20        128.65         620.30\n"
     ]
    }
   ],
   "source": [
    "print(df.corr())\n",
    "print(\"-----\")\n",
    "print(df.cov())"
   ]
  },
  {
   "cell_type": "markdown",
   "metadata": {},
   "source": [
    "We can now start moving to a larger dataset. We'll use the `NYC flights` dataset, which contains data for all flights that departed from NYC airports (JFK, LGA or EWR) in 2013 (CSV file available for download from our Blackboard page). Since it is a pretty large dataset, we'll load it from file rather than typing it by hand:"
   ]
  },
  {
   "cell_type": "code",
   "execution_count": 77,
   "metadata": {},
   "outputs": [
    {
     "data": {
      "text/plain": [
       "(336776, 20)"
      ]
     },
     "execution_count": 77,
     "metadata": {},
     "output_type": "execute_result"
    }
   ],
   "source": [
    "flights = pd.read_csv(\"flights.csv\")\n",
    "\n",
    "flights.shape # dimensions of this dataframe (rows and columns)."
   ]
  },
  {
   "cell_type": "code",
   "execution_count": 78,
   "metadata": {},
   "outputs": [
    {
     "data": {
      "text/html": [
       "<div>\n",
       "<style scoped>\n",
       "    .dataframe tbody tr th:only-of-type {\n",
       "        vertical-align: middle;\n",
       "    }\n",
       "\n",
       "    .dataframe tbody tr th {\n",
       "        vertical-align: top;\n",
       "    }\n",
       "\n",
       "    .dataframe thead th {\n",
       "        text-align: right;\n",
       "    }\n",
       "</style>\n",
       "<table border=\"1\" class=\"dataframe\">\n",
       "  <thead>\n",
       "    <tr style=\"text-align: right;\">\n",
       "      <th></th>\n",
       "      <th>Unnamed: 0</th>\n",
       "      <th>year</th>\n",
       "      <th>month</th>\n",
       "      <th>day</th>\n",
       "      <th>dep_time</th>\n",
       "      <th>sched_dep_time</th>\n",
       "      <th>dep_delay</th>\n",
       "      <th>arr_time</th>\n",
       "      <th>sched_arr_time</th>\n",
       "      <th>arr_delay</th>\n",
       "      <th>carrier</th>\n",
       "      <th>flight</th>\n",
       "      <th>tailnum</th>\n",
       "      <th>origin</th>\n",
       "      <th>dest</th>\n",
       "      <th>air_time</th>\n",
       "      <th>distance</th>\n",
       "      <th>hour</th>\n",
       "      <th>minute</th>\n",
       "      <th>time_hour</th>\n",
       "    </tr>\n",
       "  </thead>\n",
       "  <tbody>\n",
       "    <tr>\n",
       "      <th>0</th>\n",
       "      <td>1</td>\n",
       "      <td>2013</td>\n",
       "      <td>1</td>\n",
       "      <td>1</td>\n",
       "      <td>517.0</td>\n",
       "      <td>515</td>\n",
       "      <td>2.0</td>\n",
       "      <td>830.0</td>\n",
       "      <td>819</td>\n",
       "      <td>11.0</td>\n",
       "      <td>UA</td>\n",
       "      <td>1545</td>\n",
       "      <td>N14228</td>\n",
       "      <td>EWR</td>\n",
       "      <td>IAH</td>\n",
       "      <td>227.0</td>\n",
       "      <td>1400</td>\n",
       "      <td>5</td>\n",
       "      <td>15</td>\n",
       "      <td>2013-01-01 05:00:00</td>\n",
       "    </tr>\n",
       "    <tr>\n",
       "      <th>1</th>\n",
       "      <td>2</td>\n",
       "      <td>2013</td>\n",
       "      <td>1</td>\n",
       "      <td>1</td>\n",
       "      <td>533.0</td>\n",
       "      <td>529</td>\n",
       "      <td>4.0</td>\n",
       "      <td>850.0</td>\n",
       "      <td>830</td>\n",
       "      <td>20.0</td>\n",
       "      <td>UA</td>\n",
       "      <td>1714</td>\n",
       "      <td>N24211</td>\n",
       "      <td>LGA</td>\n",
       "      <td>IAH</td>\n",
       "      <td>227.0</td>\n",
       "      <td>1416</td>\n",
       "      <td>5</td>\n",
       "      <td>29</td>\n",
       "      <td>2013-01-01 05:00:00</td>\n",
       "    </tr>\n",
       "    <tr>\n",
       "      <th>2</th>\n",
       "      <td>3</td>\n",
       "      <td>2013</td>\n",
       "      <td>1</td>\n",
       "      <td>1</td>\n",
       "      <td>542.0</td>\n",
       "      <td>540</td>\n",
       "      <td>2.0</td>\n",
       "      <td>923.0</td>\n",
       "      <td>850</td>\n",
       "      <td>33.0</td>\n",
       "      <td>AA</td>\n",
       "      <td>1141</td>\n",
       "      <td>N619AA</td>\n",
       "      <td>JFK</td>\n",
       "      <td>MIA</td>\n",
       "      <td>160.0</td>\n",
       "      <td>1089</td>\n",
       "      <td>5</td>\n",
       "      <td>40</td>\n",
       "      <td>2013-01-01 05:00:00</td>\n",
       "    </tr>\n",
       "    <tr>\n",
       "      <th>3</th>\n",
       "      <td>4</td>\n",
       "      <td>2013</td>\n",
       "      <td>1</td>\n",
       "      <td>1</td>\n",
       "      <td>544.0</td>\n",
       "      <td>545</td>\n",
       "      <td>-1.0</td>\n",
       "      <td>1004.0</td>\n",
       "      <td>1022</td>\n",
       "      <td>-18.0</td>\n",
       "      <td>B6</td>\n",
       "      <td>725</td>\n",
       "      <td>N804JB</td>\n",
       "      <td>JFK</td>\n",
       "      <td>BQN</td>\n",
       "      <td>183.0</td>\n",
       "      <td>1576</td>\n",
       "      <td>5</td>\n",
       "      <td>45</td>\n",
       "      <td>2013-01-01 05:00:00</td>\n",
       "    </tr>\n",
       "    <tr>\n",
       "      <th>4</th>\n",
       "      <td>5</td>\n",
       "      <td>2013</td>\n",
       "      <td>1</td>\n",
       "      <td>1</td>\n",
       "      <td>554.0</td>\n",
       "      <td>600</td>\n",
       "      <td>-6.0</td>\n",
       "      <td>812.0</td>\n",
       "      <td>837</td>\n",
       "      <td>-25.0</td>\n",
       "      <td>DL</td>\n",
       "      <td>461</td>\n",
       "      <td>N668DN</td>\n",
       "      <td>LGA</td>\n",
       "      <td>ATL</td>\n",
       "      <td>116.0</td>\n",
       "      <td>762</td>\n",
       "      <td>6</td>\n",
       "      <td>0</td>\n",
       "      <td>2013-01-01 06:00:00</td>\n",
       "    </tr>\n",
       "  </tbody>\n",
       "</table>\n",
       "</div>"
      ],
      "text/plain": [
       "   Unnamed: 0  year  month  day  dep_time  sched_dep_time  dep_delay  \\\n",
       "0           1  2013      1    1     517.0             515        2.0   \n",
       "1           2  2013      1    1     533.0             529        4.0   \n",
       "2           3  2013      1    1     542.0             540        2.0   \n",
       "3           4  2013      1    1     544.0             545       -1.0   \n",
       "4           5  2013      1    1     554.0             600       -6.0   \n",
       "\n",
       "   arr_time  sched_arr_time  arr_delay carrier  flight tailnum origin dest  \\\n",
       "0     830.0             819       11.0      UA    1545  N14228    EWR  IAH   \n",
       "1     850.0             830       20.0      UA    1714  N24211    LGA  IAH   \n",
       "2     923.0             850       33.0      AA    1141  N619AA    JFK  MIA   \n",
       "3    1004.0            1022      -18.0      B6     725  N804JB    JFK  BQN   \n",
       "4     812.0             837      -25.0      DL     461  N668DN    LGA  ATL   \n",
       "\n",
       "   air_time  distance  hour  minute            time_hour  \n",
       "0     227.0      1400     5      15  2013-01-01 05:00:00  \n",
       "1     227.0      1416     5      29  2013-01-01 05:00:00  \n",
       "2     160.0      1089     5      40  2013-01-01 05:00:00  \n",
       "3     183.0      1576     5      45  2013-01-01 05:00:00  \n",
       "4     116.0       762     6       0  2013-01-01 06:00:00  "
      ]
     },
     "execution_count": 78,
     "metadata": {},
     "output_type": "execute_result"
    }
   ],
   "source": [
    "# Check first rows of the dataset\n",
    "flights.head()"
   ]
  },
  {
   "cell_type": "markdown",
   "metadata": {},
   "source": [
    "Note that we have a spurious column at the beginning, which we can easily remove:"
   ]
  },
  {
   "cell_type": "code",
   "execution_count": 79,
   "metadata": {},
   "outputs": [
    {
     "name": "stdout",
     "output_type": "stream",
     "text": [
      "Index(['Unnamed: 0', 'year', 'month', 'day', 'dep_time', 'sched_dep_time',\n",
      "       'dep_delay', 'arr_time', 'sched_arr_time', 'arr_delay', 'carrier',\n",
      "       'flight', 'tailnum', 'origin', 'dest', 'air_time', 'distance', 'hour',\n",
      "       'minute', 'time_hour'],\n",
      "      dtype='object')\n"
     ]
    }
   ],
   "source": [
    "print(flights.columns)"
   ]
  },
  {
   "cell_type": "code",
   "execution_count": 80,
   "metadata": {},
   "outputs": [
    {
     "name": "stdout",
     "output_type": "stream",
     "text": [
      "Index(['year', 'month', 'day', 'dep_time', 'sched_dep_time', 'dep_delay',\n",
      "       'arr_time', 'sched_arr_time', 'arr_delay', 'carrier', 'flight',\n",
      "       'tailnum', 'origin', 'dest', 'air_time', 'distance', 'hour', 'minute',\n",
      "       'time_hour'],\n",
      "      dtype='object')\n"
     ]
    }
   ],
   "source": [
    "del flights['Unnamed: 0']\n",
    "print(flights.columns)"
   ]
  },
  {
   "cell_type": "markdown",
   "metadata": {},
   "source": [
    "We can easily extract rows by querying the dataset, using logical operators for more precise queries:"
   ]
  },
  {
   "cell_type": "code",
   "execution_count": 81,
   "metadata": {},
   "outputs": [
    {
     "data": {
      "text/html": [
       "<div>\n",
       "<style scoped>\n",
       "    .dataframe tbody tr th:only-of-type {\n",
       "        vertical-align: middle;\n",
       "    }\n",
       "\n",
       "    .dataframe tbody tr th {\n",
       "        vertical-align: top;\n",
       "    }\n",
       "\n",
       "    .dataframe thead th {\n",
       "        text-align: right;\n",
       "    }\n",
       "</style>\n",
       "<table border=\"1\" class=\"dataframe\">\n",
       "  <thead>\n",
       "    <tr style=\"text-align: right;\">\n",
       "      <th></th>\n",
       "      <th>year</th>\n",
       "      <th>month</th>\n",
       "      <th>day</th>\n",
       "      <th>dep_time</th>\n",
       "      <th>sched_dep_time</th>\n",
       "      <th>dep_delay</th>\n",
       "      <th>arr_time</th>\n",
       "      <th>sched_arr_time</th>\n",
       "      <th>arr_delay</th>\n",
       "      <th>carrier</th>\n",
       "      <th>flight</th>\n",
       "      <th>tailnum</th>\n",
       "      <th>origin</th>\n",
       "      <th>dest</th>\n",
       "      <th>air_time</th>\n",
       "      <th>distance</th>\n",
       "      <th>hour</th>\n",
       "      <th>minute</th>\n",
       "      <th>time_hour</th>\n",
       "    </tr>\n",
       "  </thead>\n",
       "  <tbody>\n",
       "    <tr>\n",
       "      <th>275</th>\n",
       "      <td>2013</td>\n",
       "      <td>1</td>\n",
       "      <td>1</td>\n",
       "      <td>1127.0</td>\n",
       "      <td>1129</td>\n",
       "      <td>-2.0</td>\n",
       "      <td>1303.0</td>\n",
       "      <td>1309</td>\n",
       "      <td>-6.0</td>\n",
       "      <td>EV</td>\n",
       "      <td>4294</td>\n",
       "      <td>N14180</td>\n",
       "      <td>EWR</td>\n",
       "      <td>RDU</td>\n",
       "      <td>73.0</td>\n",
       "      <td>416</td>\n",
       "      <td>11</td>\n",
       "      <td>29</td>\n",
       "      <td>2013-01-01 11:00:00</td>\n",
       "    </tr>\n",
       "    <tr>\n",
       "      <th>277</th>\n",
       "      <td>2013</td>\n",
       "      <td>1</td>\n",
       "      <td>1</td>\n",
       "      <td>1127.0</td>\n",
       "      <td>1129</td>\n",
       "      <td>-2.0</td>\n",
       "      <td>1421.0</td>\n",
       "      <td>1425</td>\n",
       "      <td>-4.0</td>\n",
       "      <td>UA</td>\n",
       "      <td>1143</td>\n",
       "      <td>N14118</td>\n",
       "      <td>EWR</td>\n",
       "      <td>PBI</td>\n",
       "      <td>156.0</td>\n",
       "      <td>1023</td>\n",
       "      <td>11</td>\n",
       "      <td>29</td>\n",
       "      <td>2013-01-01 11:00:00</td>\n",
       "    </tr>\n",
       "    <tr>\n",
       "      <th>278</th>\n",
       "      <td>2013</td>\n",
       "      <td>1</td>\n",
       "      <td>1</td>\n",
       "      <td>1128.0</td>\n",
       "      <td>1129</td>\n",
       "      <td>-1.0</td>\n",
       "      <td>1422.0</td>\n",
       "      <td>1437</td>\n",
       "      <td>-15.0</td>\n",
       "      <td>UA</td>\n",
       "      <td>987</td>\n",
       "      <td>N496UA</td>\n",
       "      <td>EWR</td>\n",
       "      <td>TPA</td>\n",
       "      <td>156.0</td>\n",
       "      <td>997</td>\n",
       "      <td>11</td>\n",
       "      <td>29</td>\n",
       "      <td>2013-01-01 11:00:00</td>\n",
       "    </tr>\n",
       "    <tr>\n",
       "      <th>284</th>\n",
       "      <td>2013</td>\n",
       "      <td>1</td>\n",
       "      <td>1</td>\n",
       "      <td>1135.0</td>\n",
       "      <td>1140</td>\n",
       "      <td>-5.0</td>\n",
       "      <td>1429.0</td>\n",
       "      <td>1445</td>\n",
       "      <td>-16.0</td>\n",
       "      <td>AA</td>\n",
       "      <td>1623</td>\n",
       "      <td>N3EYAA</td>\n",
       "      <td>EWR</td>\n",
       "      <td>MIA</td>\n",
       "      <td>156.0</td>\n",
       "      <td>1085</td>\n",
       "      <td>11</td>\n",
       "      <td>40</td>\n",
       "      <td>2013-01-01 11:00:00</td>\n",
       "    </tr>\n",
       "    <tr>\n",
       "      <th>286</th>\n",
       "      <td>2013</td>\n",
       "      <td>1</td>\n",
       "      <td>1</td>\n",
       "      <td>1143.0</td>\n",
       "      <td>1145</td>\n",
       "      <td>-2.0</td>\n",
       "      <td>1512.0</td>\n",
       "      <td>1507</td>\n",
       "      <td>5.0</td>\n",
       "      <td>UA</td>\n",
       "      <td>1010</td>\n",
       "      <td>N39726</td>\n",
       "      <td>EWR</td>\n",
       "      <td>SNA</td>\n",
       "      <td>371.0</td>\n",
       "      <td>2434</td>\n",
       "      <td>11</td>\n",
       "      <td>45</td>\n",
       "      <td>2013-01-01 11:00:00</td>\n",
       "    </tr>\n",
       "    <tr>\n",
       "      <th>287</th>\n",
       "      <td>2013</td>\n",
       "      <td>1</td>\n",
       "      <td>1</td>\n",
       "      <td>1144.0</td>\n",
       "      <td>1145</td>\n",
       "      <td>-1.0</td>\n",
       "      <td>1422.0</td>\n",
       "      <td>1411</td>\n",
       "      <td>11.0</td>\n",
       "      <td>EV</td>\n",
       "      <td>4876</td>\n",
       "      <td>N695CA</td>\n",
       "      <td>EWR</td>\n",
       "      <td>ATL</td>\n",
       "      <td>126.0</td>\n",
       "      <td>746</td>\n",
       "      <td>11</td>\n",
       "      <td>45</td>\n",
       "      <td>2013-01-01 11:00:00</td>\n",
       "    </tr>\n",
       "    <tr>\n",
       "      <th>289</th>\n",
       "      <td>2013</td>\n",
       "      <td>1</td>\n",
       "      <td>1</td>\n",
       "      <td>1150.0</td>\n",
       "      <td>1156</td>\n",
       "      <td>-6.0</td>\n",
       "      <td>1302.0</td>\n",
       "      <td>1314</td>\n",
       "      <td>-12.0</td>\n",
       "      <td>EV</td>\n",
       "      <td>4693</td>\n",
       "      <td>N21144</td>\n",
       "      <td>EWR</td>\n",
       "      <td>SYR</td>\n",
       "      <td>46.0</td>\n",
       "      <td>195</td>\n",
       "      <td>11</td>\n",
       "      <td>56</td>\n",
       "      <td>2013-01-01 11:00:00</td>\n",
       "    </tr>\n",
       "    <tr>\n",
       "      <th>290</th>\n",
       "      <td>2013</td>\n",
       "      <td>1</td>\n",
       "      <td>1</td>\n",
       "      <td>1153.0</td>\n",
       "      <td>1159</td>\n",
       "      <td>-6.0</td>\n",
       "      <td>1350.0</td>\n",
       "      <td>1341</td>\n",
       "      <td>9.0</td>\n",
       "      <td>EV</td>\n",
       "      <td>4275</td>\n",
       "      <td>N29917</td>\n",
       "      <td>EWR</td>\n",
       "      <td>CMH</td>\n",
       "      <td>95.0</td>\n",
       "      <td>463</td>\n",
       "      <td>11</td>\n",
       "      <td>59</td>\n",
       "      <td>2013-01-01 11:00:00</td>\n",
       "    </tr>\n",
       "    <tr>\n",
       "      <th>299</th>\n",
       "      <td>2013</td>\n",
       "      <td>1</td>\n",
       "      <td>1</td>\n",
       "      <td>1157.0</td>\n",
       "      <td>1158</td>\n",
       "      <td>-1.0</td>\n",
       "      <td>1310.0</td>\n",
       "      <td>1315</td>\n",
       "      <td>-5.0</td>\n",
       "      <td>EV</td>\n",
       "      <td>4511</td>\n",
       "      <td>N16546</td>\n",
       "      <td>EWR</td>\n",
       "      <td>ROC</td>\n",
       "      <td>50.0</td>\n",
       "      <td>246</td>\n",
       "      <td>11</td>\n",
       "      <td>58</td>\n",
       "      <td>2013-01-01 11:00:00</td>\n",
       "    </tr>\n",
       "    <tr>\n",
       "      <th>307</th>\n",
       "      <td>2013</td>\n",
       "      <td>1</td>\n",
       "      <td>1</td>\n",
       "      <td>1202.0</td>\n",
       "      <td>1159</td>\n",
       "      <td>3.0</td>\n",
       "      <td>1645.0</td>\n",
       "      <td>1653</td>\n",
       "      <td>-8.0</td>\n",
       "      <td>UA</td>\n",
       "      <td>1663</td>\n",
       "      <td>N38403</td>\n",
       "      <td>EWR</td>\n",
       "      <td>SJU</td>\n",
       "      <td>187.0</td>\n",
       "      <td>1608</td>\n",
       "      <td>11</td>\n",
       "      <td>59</td>\n",
       "      <td>2013-01-01 11:00:00</td>\n",
       "    </tr>\n",
       "    <tr>\n",
       "      <th>320</th>\n",
       "      <td>2013</td>\n",
       "      <td>1</td>\n",
       "      <td>1</td>\n",
       "      <td>1222.0</td>\n",
       "      <td>1159</td>\n",
       "      <td>23.0</td>\n",
       "      <td>1512.0</td>\n",
       "      <td>1429</td>\n",
       "      <td>43.0</td>\n",
       "      <td>EV</td>\n",
       "      <td>4679</td>\n",
       "      <td>N14916</td>\n",
       "      <td>EWR</td>\n",
       "      <td>JAX</td>\n",
       "      <td>131.0</td>\n",
       "      <td>820</td>\n",
       "      <td>11</td>\n",
       "      <td>59</td>\n",
       "      <td>2013-01-01 11:00:00</td>\n",
       "    </tr>\n",
       "  </tbody>\n",
       "</table>\n",
       "</div>"
      ],
      "text/plain": [
       "     year  month  day  dep_time  sched_dep_time  dep_delay  arr_time  \\\n",
       "275  2013      1    1    1127.0            1129       -2.0    1303.0   \n",
       "277  2013      1    1    1127.0            1129       -2.0    1421.0   \n",
       "278  2013      1    1    1128.0            1129       -1.0    1422.0   \n",
       "284  2013      1    1    1135.0            1140       -5.0    1429.0   \n",
       "286  2013      1    1    1143.0            1145       -2.0    1512.0   \n",
       "287  2013      1    1    1144.0            1145       -1.0    1422.0   \n",
       "289  2013      1    1    1150.0            1156       -6.0    1302.0   \n",
       "290  2013      1    1    1153.0            1159       -6.0    1350.0   \n",
       "299  2013      1    1    1157.0            1158       -1.0    1310.0   \n",
       "307  2013      1    1    1202.0            1159        3.0    1645.0   \n",
       "320  2013      1    1    1222.0            1159       23.0    1512.0   \n",
       "\n",
       "     sched_arr_time  arr_delay carrier  flight tailnum origin dest  air_time  \\\n",
       "275            1309       -6.0      EV    4294  N14180    EWR  RDU      73.0   \n",
       "277            1425       -4.0      UA    1143  N14118    EWR  PBI     156.0   \n",
       "278            1437      -15.0      UA     987  N496UA    EWR  TPA     156.0   \n",
       "284            1445      -16.0      AA    1623  N3EYAA    EWR  MIA     156.0   \n",
       "286            1507        5.0      UA    1010  N39726    EWR  SNA     371.0   \n",
       "287            1411       11.0      EV    4876  N695CA    EWR  ATL     126.0   \n",
       "289            1314      -12.0      EV    4693  N21144    EWR  SYR      46.0   \n",
       "290            1341        9.0      EV    4275  N29917    EWR  CMH      95.0   \n",
       "299            1315       -5.0      EV    4511  N16546    EWR  ROC      50.0   \n",
       "307            1653       -8.0      UA    1663  N38403    EWR  SJU     187.0   \n",
       "320            1429       43.0      EV    4679  N14916    EWR  JAX     131.0   \n",
       "\n",
       "     distance  hour  minute            time_hour  \n",
       "275       416    11      29  2013-01-01 11:00:00  \n",
       "277      1023    11      29  2013-01-01 11:00:00  \n",
       "278       997    11      29  2013-01-01 11:00:00  \n",
       "284      1085    11      40  2013-01-01 11:00:00  \n",
       "286      2434    11      45  2013-01-01 11:00:00  \n",
       "287       746    11      45  2013-01-01 11:00:00  \n",
       "289       195    11      56  2013-01-01 11:00:00  \n",
       "290       463    11      59  2013-01-01 11:00:00  \n",
       "299       246    11      58  2013-01-01 11:00:00  \n",
       "307      1608    11      59  2013-01-01 11:00:00  \n",
       "320       820    11      59  2013-01-01 11:00:00  "
      ]
     },
     "execution_count": 81,
     "metadata": {},
     "output_type": "execute_result"
    }
   ],
   "source": [
    "# All flights departing from EWR on 1 January between 11:00 and 11:59\n",
    "flights.query(\"month == 1 & day == 1 & hour == 11 & origin == 'EWR'\")\n"
   ]
  },
  {
   "cell_type": "code",
   "execution_count": 82,
   "metadata": {},
   "outputs": [
    {
     "data": {
      "text/html": [
       "<div>\n",
       "<style scoped>\n",
       "    .dataframe tbody tr th:only-of-type {\n",
       "        vertical-align: middle;\n",
       "    }\n",
       "\n",
       "    .dataframe tbody tr th {\n",
       "        vertical-align: top;\n",
       "    }\n",
       "\n",
       "    .dataframe thead th {\n",
       "        text-align: right;\n",
       "    }\n",
       "</style>\n",
       "<table border=\"1\" class=\"dataframe\">\n",
       "  <thead>\n",
       "    <tr style=\"text-align: right;\">\n",
       "      <th></th>\n",
       "      <th>year</th>\n",
       "      <th>month</th>\n",
       "      <th>day</th>\n",
       "      <th>dep_time</th>\n",
       "      <th>sched_dep_time</th>\n",
       "      <th>dep_delay</th>\n",
       "      <th>arr_time</th>\n",
       "      <th>sched_arr_time</th>\n",
       "      <th>arr_delay</th>\n",
       "      <th>carrier</th>\n",
       "      <th>flight</th>\n",
       "      <th>tailnum</th>\n",
       "      <th>origin</th>\n",
       "      <th>dest</th>\n",
       "      <th>air_time</th>\n",
       "      <th>distance</th>\n",
       "      <th>hour</th>\n",
       "      <th>minute</th>\n",
       "      <th>time_hour</th>\n",
       "    </tr>\n",
       "  </thead>\n",
       "  <tbody>\n",
       "    <tr>\n",
       "      <th>1009</th>\n",
       "      <td>2013</td>\n",
       "      <td>1</td>\n",
       "      <td>2</td>\n",
       "      <td>817.0</td>\n",
       "      <td>810</td>\n",
       "      <td>7.0</td>\n",
       "      <td>931.0</td>\n",
       "      <td>925</td>\n",
       "      <td>6.0</td>\n",
       "      <td>AA</td>\n",
       "      <td>1838</td>\n",
       "      <td>N3BYAA</td>\n",
       "      <td>JFK</td>\n",
       "      <td>BOS</td>\n",
       "      <td>37.0</td>\n",
       "      <td>187</td>\n",
       "      <td>8</td>\n",
       "      <td>10</td>\n",
       "      <td>2013-01-02 08:00:00</td>\n",
       "    </tr>\n",
       "    <tr>\n",
       "      <th>1010</th>\n",
       "      <td>2013</td>\n",
       "      <td>1</td>\n",
       "      <td>2</td>\n",
       "      <td>818.0</td>\n",
       "      <td>805</td>\n",
       "      <td>13.0</td>\n",
       "      <td>1044.0</td>\n",
       "      <td>1005</td>\n",
       "      <td>39.0</td>\n",
       "      <td>B6</td>\n",
       "      <td>219</td>\n",
       "      <td>N339JB</td>\n",
       "      <td>JFK</td>\n",
       "      <td>CLT</td>\n",
       "      <td>108.0</td>\n",
       "      <td>541</td>\n",
       "      <td>8</td>\n",
       "      <td>5</td>\n",
       "      <td>2013-01-02 08:00:00</td>\n",
       "    </tr>\n",
       "    <tr>\n",
       "      <th>1011</th>\n",
       "      <td>2013</td>\n",
       "      <td>1</td>\n",
       "      <td>2</td>\n",
       "      <td>818.0</td>\n",
       "      <td>820</td>\n",
       "      <td>-2.0</td>\n",
       "      <td>1130.0</td>\n",
       "      <td>1129</td>\n",
       "      <td>1.0</td>\n",
       "      <td>B6</td>\n",
       "      <td>181</td>\n",
       "      <td>N586JB</td>\n",
       "      <td>JFK</td>\n",
       "      <td>SAN</td>\n",
       "      <td>330.0</td>\n",
       "      <td>2446</td>\n",
       "      <td>8</td>\n",
       "      <td>20</td>\n",
       "      <td>2013-01-02 08:00:00</td>\n",
       "    </tr>\n",
       "    <tr>\n",
       "      <th>1012</th>\n",
       "      <td>2013</td>\n",
       "      <td>1</td>\n",
       "      <td>2</td>\n",
       "      <td>819.0</td>\n",
       "      <td>800</td>\n",
       "      <td>19.0</td>\n",
       "      <td>1127.0</td>\n",
       "      <td>1103</td>\n",
       "      <td>24.0</td>\n",
       "      <td>DL</td>\n",
       "      <td>1429</td>\n",
       "      <td>N3743H</td>\n",
       "      <td>JFK</td>\n",
       "      <td>LAS</td>\n",
       "      <td>336.0</td>\n",
       "      <td>2248</td>\n",
       "      <td>8</td>\n",
       "      <td>0</td>\n",
       "      <td>2013-01-02 08:00:00</td>\n",
       "    </tr>\n",
       "  </tbody>\n",
       "</table>\n",
       "</div>"
      ],
      "text/plain": [
       "      year  month  day  dep_time  sched_dep_time  dep_delay  arr_time  \\\n",
       "1009  2013      1    2     817.0             810        7.0     931.0   \n",
       "1010  2013      1    2     818.0             805       13.0    1044.0   \n",
       "1011  2013      1    2     818.0             820       -2.0    1130.0   \n",
       "1012  2013      1    2     819.0             800       19.0    1127.0   \n",
       "\n",
       "      sched_arr_time  arr_delay carrier  flight tailnum origin dest  air_time  \\\n",
       "1009             925        6.0      AA    1838  N3BYAA    JFK  BOS      37.0   \n",
       "1010            1005       39.0      B6     219  N339JB    JFK  CLT     108.0   \n",
       "1011            1129        1.0      B6     181  N586JB    JFK  SAN     330.0   \n",
       "1012            1103       24.0      DL    1429  N3743H    JFK  LAS     336.0   \n",
       "\n",
       "      distance  hour  minute            time_hour  \n",
       "1009       187     8      10  2013-01-02 08:00:00  \n",
       "1010       541     8       5  2013-01-02 08:00:00  \n",
       "1011      2446     8      20  2013-01-02 08:00:00  \n",
       "1012      2248     8       0  2013-01-02 08:00:00  "
      ]
     },
     "execution_count": 82,
     "metadata": {},
     "output_type": "execute_result"
    }
   ],
   "source": [
    "# Another way to select rows is by indexing or slicing\n",
    "flights.iloc[1009:1013] # rows 1009 to 1012"
   ]
  },
  {
   "cell_type": "markdown",
   "metadata": {},
   "source": [
    "To select columns we can use their names. **Notice the use of double brackets**:"
   ]
  },
  {
   "cell_type": "code",
   "execution_count": 83,
   "metadata": {},
   "outputs": [
    {
     "data": {
      "text/html": [
       "<div>\n",
       "<style scoped>\n",
       "    .dataframe tbody tr th:only-of-type {\n",
       "        vertical-align: middle;\n",
       "    }\n",
       "\n",
       "    .dataframe tbody tr th {\n",
       "        vertical-align: top;\n",
       "    }\n",
       "\n",
       "    .dataframe thead th {\n",
       "        text-align: right;\n",
       "    }\n",
       "</style>\n",
       "<table border=\"1\" class=\"dataframe\">\n",
       "  <thead>\n",
       "    <tr style=\"text-align: right;\">\n",
       "      <th></th>\n",
       "      <th>origin</th>\n",
       "      <th>dest</th>\n",
       "      <th>month</th>\n",
       "      <th>day</th>\n",
       "    </tr>\n",
       "  </thead>\n",
       "  <tbody>\n",
       "    <tr>\n",
       "      <th>0</th>\n",
       "      <td>EWR</td>\n",
       "      <td>IAH</td>\n",
       "      <td>1</td>\n",
       "      <td>1</td>\n",
       "    </tr>\n",
       "    <tr>\n",
       "      <th>1</th>\n",
       "      <td>LGA</td>\n",
       "      <td>IAH</td>\n",
       "      <td>1</td>\n",
       "      <td>1</td>\n",
       "    </tr>\n",
       "    <tr>\n",
       "      <th>2</th>\n",
       "      <td>JFK</td>\n",
       "      <td>MIA</td>\n",
       "      <td>1</td>\n",
       "      <td>1</td>\n",
       "    </tr>\n",
       "    <tr>\n",
       "      <th>3</th>\n",
       "      <td>JFK</td>\n",
       "      <td>BQN</td>\n",
       "      <td>1</td>\n",
       "      <td>1</td>\n",
       "    </tr>\n",
       "    <tr>\n",
       "      <th>4</th>\n",
       "      <td>LGA</td>\n",
       "      <td>ATL</td>\n",
       "      <td>1</td>\n",
       "      <td>1</td>\n",
       "    </tr>\n",
       "  </tbody>\n",
       "</table>\n",
       "</div>"
      ],
      "text/plain": [
       "  origin dest  month  day\n",
       "0    EWR  IAH      1    1\n",
       "1    LGA  IAH      1    1\n",
       "2    JFK  MIA      1    1\n",
       "3    JFK  BQN      1    1\n",
       "4    LGA  ATL      1    1"
      ]
     },
     "execution_count": 83,
     "metadata": {},
     "output_type": "execute_result"
    }
   ],
   "source": [
    "flights[['origin', 'dest', 'month', 'day']].head()"
   ]
  },
  {
   "cell_type": "code",
   "execution_count": 84,
   "metadata": {},
   "outputs": [
    {
     "data": {
      "text/html": [
       "<div>\n",
       "<style scoped>\n",
       "    .dataframe tbody tr th:only-of-type {\n",
       "        vertical-align: middle;\n",
       "    }\n",
       "\n",
       "    .dataframe tbody tr th {\n",
       "        vertical-align: top;\n",
       "    }\n",
       "\n",
       "    .dataframe thead th {\n",
       "        text-align: right;\n",
       "    }\n",
       "</style>\n",
       "<table border=\"1\" class=\"dataframe\">\n",
       "  <thead>\n",
       "    <tr style=\"text-align: right;\">\n",
       "      <th></th>\n",
       "      <th>year</th>\n",
       "      <th>month</th>\n",
       "      <th>day</th>\n",
       "      <th>dep_time</th>\n",
       "      <th>sched_dep_time</th>\n",
       "      <th>dep_delay</th>\n",
       "      <th>arr_time</th>\n",
       "      <th>sched_arr_time</th>\n",
       "      <th>arr_delay</th>\n",
       "      <th>carrier</th>\n",
       "      <th>flight</th>\n",
       "      <th>tailnum</th>\n",
       "      <th>origin</th>\n",
       "      <th>dest</th>\n",
       "      <th>air_time</th>\n",
       "      <th>distance</th>\n",
       "      <th>hour</th>\n",
       "      <th>minute</th>\n",
       "      <th>time_hour</th>\n",
       "    </tr>\n",
       "  </thead>\n",
       "  <tbody>\n",
       "    <tr>\n",
       "      <th>275945</th>\n",
       "      <td>2013</td>\n",
       "      <td>7</td>\n",
       "      <td>27</td>\n",
       "      <td>NaN</td>\n",
       "      <td>106</td>\n",
       "      <td>NaN</td>\n",
       "      <td>NaN</td>\n",
       "      <td>245</td>\n",
       "      <td>NaN</td>\n",
       "      <td>US</td>\n",
       "      <td>1632</td>\n",
       "      <td>NaN</td>\n",
       "      <td>EWR</td>\n",
       "      <td>LGA</td>\n",
       "      <td>NaN</td>\n",
       "      <td>17</td>\n",
       "      <td>1</td>\n",
       "      <td>6</td>\n",
       "      <td>2013-07-27 01:00:00</td>\n",
       "    </tr>\n",
       "    <tr>\n",
       "      <th>2658</th>\n",
       "      <td>2013</td>\n",
       "      <td>1</td>\n",
       "      <td>3</td>\n",
       "      <td>2127.0</td>\n",
       "      <td>2129</td>\n",
       "      <td>-2.0</td>\n",
       "      <td>2222.0</td>\n",
       "      <td>2224</td>\n",
       "      <td>-2.0</td>\n",
       "      <td>EV</td>\n",
       "      <td>3833</td>\n",
       "      <td>N13989</td>\n",
       "      <td>EWR</td>\n",
       "      <td>PHL</td>\n",
       "      <td>30.0</td>\n",
       "      <td>80</td>\n",
       "      <td>21</td>\n",
       "      <td>29</td>\n",
       "      <td>2013-01-03 21:00:00</td>\n",
       "    </tr>\n",
       "    <tr>\n",
       "      <th>3083</th>\n",
       "      <td>2013</td>\n",
       "      <td>1</td>\n",
       "      <td>4</td>\n",
       "      <td>1240.0</td>\n",
       "      <td>1200</td>\n",
       "      <td>40.0</td>\n",
       "      <td>1333.0</td>\n",
       "      <td>1306</td>\n",
       "      <td>27.0</td>\n",
       "      <td>EV</td>\n",
       "      <td>4193</td>\n",
       "      <td>N14972</td>\n",
       "      <td>EWR</td>\n",
       "      <td>PHL</td>\n",
       "      <td>30.0</td>\n",
       "      <td>80</td>\n",
       "      <td>12</td>\n",
       "      <td>0</td>\n",
       "      <td>2013-01-04 12:00:00</td>\n",
       "    </tr>\n",
       "    <tr>\n",
       "      <th>3426</th>\n",
       "      <td>2013</td>\n",
       "      <td>1</td>\n",
       "      <td>4</td>\n",
       "      <td>1829.0</td>\n",
       "      <td>1615</td>\n",
       "      <td>134.0</td>\n",
       "      <td>1937.0</td>\n",
       "      <td>1721</td>\n",
       "      <td>136.0</td>\n",
       "      <td>EV</td>\n",
       "      <td>4502</td>\n",
       "      <td>N15983</td>\n",
       "      <td>EWR</td>\n",
       "      <td>PHL</td>\n",
       "      <td>28.0</td>\n",
       "      <td>80</td>\n",
       "      <td>16</td>\n",
       "      <td>15</td>\n",
       "      <td>2013-01-04 16:00:00</td>\n",
       "    </tr>\n",
       "    <tr>\n",
       "      <th>3578</th>\n",
       "      <td>2013</td>\n",
       "      <td>1</td>\n",
       "      <td>4</td>\n",
       "      <td>2128.0</td>\n",
       "      <td>2129</td>\n",
       "      <td>-1.0</td>\n",
       "      <td>2218.0</td>\n",
       "      <td>2224</td>\n",
       "      <td>-6.0</td>\n",
       "      <td>EV</td>\n",
       "      <td>4645</td>\n",
       "      <td>N27962</td>\n",
       "      <td>EWR</td>\n",
       "      <td>PHL</td>\n",
       "      <td>32.0</td>\n",
       "      <td>80</td>\n",
       "      <td>21</td>\n",
       "      <td>29</td>\n",
       "      <td>2013-01-04 21:00:00</td>\n",
       "    </tr>\n",
       "  </tbody>\n",
       "</table>\n",
       "</div>"
      ],
      "text/plain": [
       "        year  month  day  dep_time  sched_dep_time  dep_delay  arr_time  \\\n",
       "275945  2013      7   27       NaN             106        NaN       NaN   \n",
       "2658    2013      1    3    2127.0            2129       -2.0    2222.0   \n",
       "3083    2013      1    4    1240.0            1200       40.0    1333.0   \n",
       "3426    2013      1    4    1829.0            1615      134.0    1937.0   \n",
       "3578    2013      1    4    2128.0            2129       -1.0    2218.0   \n",
       "\n",
       "        sched_arr_time  arr_delay carrier  flight tailnum origin dest  \\\n",
       "275945             245        NaN      US    1632     NaN    EWR  LGA   \n",
       "2658              2224       -2.0      EV    3833  N13989    EWR  PHL   \n",
       "3083              1306       27.0      EV    4193  N14972    EWR  PHL   \n",
       "3426              1721      136.0      EV    4502  N15983    EWR  PHL   \n",
       "3578              2224       -6.0      EV    4645  N27962    EWR  PHL   \n",
       "\n",
       "        air_time  distance  hour  minute            time_hour  \n",
       "275945       NaN        17     1       6  2013-07-27 01:00:00  \n",
       "2658        30.0        80    21      29  2013-01-03 21:00:00  \n",
       "3083        30.0        80    12       0  2013-01-04 12:00:00  \n",
       "3426        28.0        80    16      15  2013-01-04 16:00:00  \n",
       "3578        32.0        80    21      29  2013-01-04 21:00:00  "
      ]
     },
     "execution_count": 84,
     "metadata": {},
     "output_type": "execute_result"
    }
   ],
   "source": [
    "# Sorts the dataset in ascending order by the first variable. (Additional columns can be used to break ties)\n",
    "flights.sort_values(by=['distance', 'dest']).head()\n",
    "# Note: To sort in descending order, just set argument `ascending = False` after the `by` list is finished."
   ]
  },
  {
   "cell_type": "markdown",
   "metadata": {},
   "source": [
    "The `.rename` method is used to rename variables using a dictionary."
   ]
  },
  {
   "cell_type": "code",
   "execution_count": 85,
   "metadata": {},
   "outputs": [
    {
     "data": {
      "text/html": [
       "<div>\n",
       "<style scoped>\n",
       "    .dataframe tbody tr th:only-of-type {\n",
       "        vertical-align: middle;\n",
       "    }\n",
       "\n",
       "    .dataframe tbody tr th {\n",
       "        vertical-align: top;\n",
       "    }\n",
       "\n",
       "    .dataframe thead th {\n",
       "        text-align: right;\n",
       "    }\n",
       "</style>\n",
       "<table border=\"1\" class=\"dataframe\">\n",
       "  <thead>\n",
       "    <tr style=\"text-align: right;\">\n",
       "      <th></th>\n",
       "      <th>year</th>\n",
       "      <th>month</th>\n",
       "      <th>day</th>\n",
       "      <th>dep_time</th>\n",
       "      <th>sched_dep_time</th>\n",
       "      <th>dep_delay</th>\n",
       "      <th>arr_time</th>\n",
       "      <th>sched_arr_time</th>\n",
       "      <th>arr_delay</th>\n",
       "      <th>carrier</th>\n",
       "      <th>flight</th>\n",
       "      <th>tail_num</th>\n",
       "      <th>origin</th>\n",
       "      <th>dest</th>\n",
       "      <th>air_time</th>\n",
       "      <th>distance</th>\n",
       "      <th>hour</th>\n",
       "      <th>minute</th>\n",
       "      <th>time_hour</th>\n",
       "    </tr>\n",
       "  </thead>\n",
       "  <tbody>\n",
       "    <tr>\n",
       "      <th>0</th>\n",
       "      <td>2013</td>\n",
       "      <td>1</td>\n",
       "      <td>1</td>\n",
       "      <td>517.0</td>\n",
       "      <td>515</td>\n",
       "      <td>2.0</td>\n",
       "      <td>830.0</td>\n",
       "      <td>819</td>\n",
       "      <td>11.0</td>\n",
       "      <td>UA</td>\n",
       "      <td>1545</td>\n",
       "      <td>N14228</td>\n",
       "      <td>EWR</td>\n",
       "      <td>IAH</td>\n",
       "      <td>227.0</td>\n",
       "      <td>1400</td>\n",
       "      <td>5</td>\n",
       "      <td>15</td>\n",
       "      <td>2013-01-01 05:00:00</td>\n",
       "    </tr>\n",
       "    <tr>\n",
       "      <th>1</th>\n",
       "      <td>2013</td>\n",
       "      <td>1</td>\n",
       "      <td>1</td>\n",
       "      <td>533.0</td>\n",
       "      <td>529</td>\n",
       "      <td>4.0</td>\n",
       "      <td>850.0</td>\n",
       "      <td>830</td>\n",
       "      <td>20.0</td>\n",
       "      <td>UA</td>\n",
       "      <td>1714</td>\n",
       "      <td>N24211</td>\n",
       "      <td>LGA</td>\n",
       "      <td>IAH</td>\n",
       "      <td>227.0</td>\n",
       "      <td>1416</td>\n",
       "      <td>5</td>\n",
       "      <td>29</td>\n",
       "      <td>2013-01-01 05:00:00</td>\n",
       "    </tr>\n",
       "    <tr>\n",
       "      <th>2</th>\n",
       "      <td>2013</td>\n",
       "      <td>1</td>\n",
       "      <td>1</td>\n",
       "      <td>542.0</td>\n",
       "      <td>540</td>\n",
       "      <td>2.0</td>\n",
       "      <td>923.0</td>\n",
       "      <td>850</td>\n",
       "      <td>33.0</td>\n",
       "      <td>AA</td>\n",
       "      <td>1141</td>\n",
       "      <td>N619AA</td>\n",
       "      <td>JFK</td>\n",
       "      <td>MIA</td>\n",
       "      <td>160.0</td>\n",
       "      <td>1089</td>\n",
       "      <td>5</td>\n",
       "      <td>40</td>\n",
       "      <td>2013-01-01 05:00:00</td>\n",
       "    </tr>\n",
       "    <tr>\n",
       "      <th>3</th>\n",
       "      <td>2013</td>\n",
       "      <td>1</td>\n",
       "      <td>1</td>\n",
       "      <td>544.0</td>\n",
       "      <td>545</td>\n",
       "      <td>-1.0</td>\n",
       "      <td>1004.0</td>\n",
       "      <td>1022</td>\n",
       "      <td>-18.0</td>\n",
       "      <td>B6</td>\n",
       "      <td>725</td>\n",
       "      <td>N804JB</td>\n",
       "      <td>JFK</td>\n",
       "      <td>BQN</td>\n",
       "      <td>183.0</td>\n",
       "      <td>1576</td>\n",
       "      <td>5</td>\n",
       "      <td>45</td>\n",
       "      <td>2013-01-01 05:00:00</td>\n",
       "    </tr>\n",
       "    <tr>\n",
       "      <th>4</th>\n",
       "      <td>2013</td>\n",
       "      <td>1</td>\n",
       "      <td>1</td>\n",
       "      <td>554.0</td>\n",
       "      <td>600</td>\n",
       "      <td>-6.0</td>\n",
       "      <td>812.0</td>\n",
       "      <td>837</td>\n",
       "      <td>-25.0</td>\n",
       "      <td>DL</td>\n",
       "      <td>461</td>\n",
       "      <td>N668DN</td>\n",
       "      <td>LGA</td>\n",
       "      <td>ATL</td>\n",
       "      <td>116.0</td>\n",
       "      <td>762</td>\n",
       "      <td>6</td>\n",
       "      <td>0</td>\n",
       "      <td>2013-01-01 06:00:00</td>\n",
       "    </tr>\n",
       "    <tr>\n",
       "      <th>...</th>\n",
       "      <td>...</td>\n",
       "      <td>...</td>\n",
       "      <td>...</td>\n",
       "      <td>...</td>\n",
       "      <td>...</td>\n",
       "      <td>...</td>\n",
       "      <td>...</td>\n",
       "      <td>...</td>\n",
       "      <td>...</td>\n",
       "      <td>...</td>\n",
       "      <td>...</td>\n",
       "      <td>...</td>\n",
       "      <td>...</td>\n",
       "      <td>...</td>\n",
       "      <td>...</td>\n",
       "      <td>...</td>\n",
       "      <td>...</td>\n",
       "      <td>...</td>\n",
       "      <td>...</td>\n",
       "    </tr>\n",
       "    <tr>\n",
       "      <th>336771</th>\n",
       "      <td>2013</td>\n",
       "      <td>9</td>\n",
       "      <td>30</td>\n",
       "      <td>NaN</td>\n",
       "      <td>1455</td>\n",
       "      <td>NaN</td>\n",
       "      <td>NaN</td>\n",
       "      <td>1634</td>\n",
       "      <td>NaN</td>\n",
       "      <td>9E</td>\n",
       "      <td>3393</td>\n",
       "      <td>NaN</td>\n",
       "      <td>JFK</td>\n",
       "      <td>DCA</td>\n",
       "      <td>NaN</td>\n",
       "      <td>213</td>\n",
       "      <td>14</td>\n",
       "      <td>55</td>\n",
       "      <td>2013-09-30 14:00:00</td>\n",
       "    </tr>\n",
       "    <tr>\n",
       "      <th>336772</th>\n",
       "      <td>2013</td>\n",
       "      <td>9</td>\n",
       "      <td>30</td>\n",
       "      <td>NaN</td>\n",
       "      <td>2200</td>\n",
       "      <td>NaN</td>\n",
       "      <td>NaN</td>\n",
       "      <td>2312</td>\n",
       "      <td>NaN</td>\n",
       "      <td>9E</td>\n",
       "      <td>3525</td>\n",
       "      <td>NaN</td>\n",
       "      <td>LGA</td>\n",
       "      <td>SYR</td>\n",
       "      <td>NaN</td>\n",
       "      <td>198</td>\n",
       "      <td>22</td>\n",
       "      <td>0</td>\n",
       "      <td>2013-09-30 22:00:00</td>\n",
       "    </tr>\n",
       "    <tr>\n",
       "      <th>336773</th>\n",
       "      <td>2013</td>\n",
       "      <td>9</td>\n",
       "      <td>30</td>\n",
       "      <td>NaN</td>\n",
       "      <td>1210</td>\n",
       "      <td>NaN</td>\n",
       "      <td>NaN</td>\n",
       "      <td>1330</td>\n",
       "      <td>NaN</td>\n",
       "      <td>MQ</td>\n",
       "      <td>3461</td>\n",
       "      <td>N535MQ</td>\n",
       "      <td>LGA</td>\n",
       "      <td>BNA</td>\n",
       "      <td>NaN</td>\n",
       "      <td>764</td>\n",
       "      <td>12</td>\n",
       "      <td>10</td>\n",
       "      <td>2013-09-30 12:00:00</td>\n",
       "    </tr>\n",
       "    <tr>\n",
       "      <th>336774</th>\n",
       "      <td>2013</td>\n",
       "      <td>9</td>\n",
       "      <td>30</td>\n",
       "      <td>NaN</td>\n",
       "      <td>1159</td>\n",
       "      <td>NaN</td>\n",
       "      <td>NaN</td>\n",
       "      <td>1344</td>\n",
       "      <td>NaN</td>\n",
       "      <td>MQ</td>\n",
       "      <td>3572</td>\n",
       "      <td>N511MQ</td>\n",
       "      <td>LGA</td>\n",
       "      <td>CLE</td>\n",
       "      <td>NaN</td>\n",
       "      <td>419</td>\n",
       "      <td>11</td>\n",
       "      <td>59</td>\n",
       "      <td>2013-09-30 11:00:00</td>\n",
       "    </tr>\n",
       "    <tr>\n",
       "      <th>336775</th>\n",
       "      <td>2013</td>\n",
       "      <td>9</td>\n",
       "      <td>30</td>\n",
       "      <td>NaN</td>\n",
       "      <td>840</td>\n",
       "      <td>NaN</td>\n",
       "      <td>NaN</td>\n",
       "      <td>1020</td>\n",
       "      <td>NaN</td>\n",
       "      <td>MQ</td>\n",
       "      <td>3531</td>\n",
       "      <td>N839MQ</td>\n",
       "      <td>LGA</td>\n",
       "      <td>RDU</td>\n",
       "      <td>NaN</td>\n",
       "      <td>431</td>\n",
       "      <td>8</td>\n",
       "      <td>40</td>\n",
       "      <td>2013-09-30 08:00:00</td>\n",
       "    </tr>\n",
       "  </tbody>\n",
       "</table>\n",
       "<p>336776 rows × 19 columns</p>\n",
       "</div>"
      ],
      "text/plain": [
       "        year  month  day  dep_time  sched_dep_time  dep_delay  arr_time  \\\n",
       "0       2013      1    1     517.0             515        2.0     830.0   \n",
       "1       2013      1    1     533.0             529        4.0     850.0   \n",
       "2       2013      1    1     542.0             540        2.0     923.0   \n",
       "3       2013      1    1     544.0             545       -1.0    1004.0   \n",
       "4       2013      1    1     554.0             600       -6.0     812.0   \n",
       "...      ...    ...  ...       ...             ...        ...       ...   \n",
       "336771  2013      9   30       NaN            1455        NaN       NaN   \n",
       "336772  2013      9   30       NaN            2200        NaN       NaN   \n",
       "336773  2013      9   30       NaN            1210        NaN       NaN   \n",
       "336774  2013      9   30       NaN            1159        NaN       NaN   \n",
       "336775  2013      9   30       NaN             840        NaN       NaN   \n",
       "\n",
       "        sched_arr_time  arr_delay carrier  flight tail_num origin dest  \\\n",
       "0                  819       11.0      UA    1545   N14228    EWR  IAH   \n",
       "1                  830       20.0      UA    1714   N24211    LGA  IAH   \n",
       "2                  850       33.0      AA    1141   N619AA    JFK  MIA   \n",
       "3                 1022      -18.0      B6     725   N804JB    JFK  BQN   \n",
       "4                  837      -25.0      DL     461   N668DN    LGA  ATL   \n",
       "...                ...        ...     ...     ...      ...    ...  ...   \n",
       "336771            1634        NaN      9E    3393      NaN    JFK  DCA   \n",
       "336772            2312        NaN      9E    3525      NaN    LGA  SYR   \n",
       "336773            1330        NaN      MQ    3461   N535MQ    LGA  BNA   \n",
       "336774            1344        NaN      MQ    3572   N511MQ    LGA  CLE   \n",
       "336775            1020        NaN      MQ    3531   N839MQ    LGA  RDU   \n",
       "\n",
       "        air_time  distance  hour  minute            time_hour  \n",
       "0          227.0      1400     5      15  2013-01-01 05:00:00  \n",
       "1          227.0      1416     5      29  2013-01-01 05:00:00  \n",
       "2          160.0      1089     5      40  2013-01-01 05:00:00  \n",
       "3          183.0      1576     5      45  2013-01-01 05:00:00  \n",
       "4          116.0       762     6       0  2013-01-01 06:00:00  \n",
       "...          ...       ...   ...     ...                  ...  \n",
       "336771       NaN       213    14      55  2013-09-30 14:00:00  \n",
       "336772       NaN       198    22       0  2013-09-30 22:00:00  \n",
       "336773       NaN       764    12      10  2013-09-30 12:00:00  \n",
       "336774       NaN       419    11      59  2013-09-30 11:00:00  \n",
       "336775       NaN       431     8      40  2013-09-30 08:00:00  \n",
       "\n",
       "[336776 rows x 19 columns]"
      ]
     },
     "execution_count": 85,
     "metadata": {},
     "output_type": "execute_result"
    }
   ],
   "source": [
    "flights.rename(columns={'tailnum': 'tail_num'})"
   ]
  },
  {
   "cell_type": "markdown",
   "metadata": {},
   "source": [
    "It is relatively simple to investigate unique values with `unique()` and remove duplicates using `drop_duplicates()`:"
   ]
  },
  {
   "cell_type": "code",
   "execution_count": 86,
   "metadata": {},
   "outputs": [
    {
     "name": "stdout",
     "output_type": "stream",
     "text": [
      "['EWR' 'LGA' 'JFK']\n",
      "-----\n"
     ]
    },
    {
     "data": {
      "text/plain": [
       "(224, 2)"
      ]
     },
     "execution_count": 86,
     "metadata": {},
     "output_type": "execute_result"
    }
   ],
   "source": [
    "print(flights.origin.unique())\n",
    "print(\"-----\")\n",
    "\n",
    "flights[['origin', 'dest']].drop_duplicates().shape\n",
    "# This massive dataset contains information from 224 origin-destination routes.\n"
   ]
  },
  {
   "cell_type": "code",
   "execution_count": 87,
   "metadata": {},
   "outputs": [
    {
     "data": {
      "text/plain": [
       "Index(['year', 'month', 'day', 'dep_time', 'sched_dep_time', 'dep_delay',\n",
       "       'arr_time', 'sched_arr_time', 'arr_delay', 'carrier', 'flight',\n",
       "       'tailnum', 'origin', 'dest', 'air_time', 'distance', 'hour', 'minute',\n",
       "       'time_hour', 'gain', 'gain_per_hour', 'speed'],\n",
       "      dtype='object')"
      ]
     },
     "execution_count": 87,
     "metadata": {},
     "output_type": "execute_result"
    }
   ],
   "source": [
    "# Adding new columns calculated from the existing ones is quite straightforward:\n",
    "\n",
    "flights['gain'] = flights.arr_delay - flights.dep_delay\n",
    "flights['gain_per_hour'] = flights.gain / (flights.air_time / 60)\n",
    "flights['speed'] = flights.distance / flights.air_time * 60\n",
    "flights.columns"
   ]
  },
  {
   "cell_type": "markdown",
   "metadata": {},
   "source": [
    "Pandas also provides the ability to calculate group summaries:"
   ]
  },
  {
   "cell_type": "code",
   "execution_count": 88,
   "metadata": {},
   "outputs": [
    {
     "data": {
      "text/html": [
       "<div>\n",
       "<style scoped>\n",
       "    .dataframe tbody tr th:only-of-type {\n",
       "        vertical-align: middle;\n",
       "    }\n",
       "\n",
       "    .dataframe tbody tr th {\n",
       "        vertical-align: top;\n",
       "    }\n",
       "\n",
       "    .dataframe thead th {\n",
       "        text-align: right;\n",
       "    }\n",
       "</style>\n",
       "<table border=\"1\" class=\"dataframe\">\n",
       "  <thead>\n",
       "    <tr style=\"text-align: right;\">\n",
       "      <th></th>\n",
       "      <th>origin</th>\n",
       "      <th>distance</th>\n",
       "      <th>arr_delay</th>\n",
       "    </tr>\n",
       "    <tr>\n",
       "      <th>tailnum</th>\n",
       "      <th></th>\n",
       "      <th></th>\n",
       "      <th></th>\n",
       "    </tr>\n",
       "  </thead>\n",
       "  <tbody>\n",
       "    <tr>\n",
       "      <th>N327AA</th>\n",
       "      <td>387</td>\n",
       "      <td>2366.059432</td>\n",
       "      <td>1.170604</td>\n",
       "    </tr>\n",
       "    <tr>\n",
       "      <th>N328AA</th>\n",
       "      <td>393</td>\n",
       "      <td>2389.569975</td>\n",
       "      <td>-3.521851</td>\n",
       "    </tr>\n",
       "    <tr>\n",
       "      <th>N335AA</th>\n",
       "      <td>385</td>\n",
       "      <td>2362.846753</td>\n",
       "      <td>-1.759162</td>\n",
       "    </tr>\n",
       "    <tr>\n",
       "      <th>N338AA</th>\n",
       "      <td>388</td>\n",
       "      <td>2399.956186</td>\n",
       "      <td>-2.351562</td>\n",
       "    </tr>\n",
       "  </tbody>\n",
       "</table>\n",
       "</div>"
      ],
      "text/plain": [
       "         origin     distance  arr_delay\n",
       "tailnum                                \n",
       "N327AA      387  2366.059432   1.170604\n",
       "N328AA      393  2389.569975  -3.521851\n",
       "N335AA      385  2362.846753  -1.759162\n",
       "N338AA      388  2399.956186  -2.351562"
      ]
     },
     "execution_count": 88,
     "metadata": {},
     "output_type": "execute_result"
    }
   ],
   "source": [
    "# group the observations by the values of variable 'tailnum'\n",
    "planes_df = flights.groupby('tailnum')     \n",
    "\n",
    "# Calculate grouped summaries:\n",
    "delay = planes_df.agg({\"origin\": \"count\",     # count of observations in each group. Any variable could have been used for this, we used 'origin'.\n",
    "                       \"distance\": \"mean\",    # mean distance \n",
    "                       \"arr_delay\": \"mean\"})  # mean delay on arrival\n",
    "\n",
    "# query resulting dataframe\n",
    "delay.query(\"origin > 365 & distance > 2000\")"
   ]
  },
  {
   "cell_type": "markdown",
   "metadata": {},
   "source": [
    "Python's _lambda functions_ are temporary, anonymous functions that can be used once and then discarded. This is useful e.g., when we need a specific summary combining other operations:"
   ]
  },
  {
   "cell_type": "code",
   "execution_count": 89,
   "metadata": {},
   "outputs": [
    {
     "data": {
      "text/html": [
       "<div>\n",
       "<style scoped>\n",
       "    .dataframe tbody tr th:only-of-type {\n",
       "        vertical-align: middle;\n",
       "    }\n",
       "\n",
       "    .dataframe tbody tr th {\n",
       "        vertical-align: top;\n",
       "    }\n",
       "\n",
       "    .dataframe thead th {\n",
       "        text-align: right;\n",
       "    }\n",
       "</style>\n",
       "<table border=\"1\" class=\"dataframe\">\n",
       "  <thead>\n",
       "    <tr style=\"text-align: right;\">\n",
       "      <th></th>\n",
       "      <th>planes</th>\n",
       "      <th>flights</th>\n",
       "    </tr>\n",
       "    <tr>\n",
       "      <th>origin</th>\n",
       "      <th></th>\n",
       "      <th></th>\n",
       "    </tr>\n",
       "  </thead>\n",
       "  <tbody>\n",
       "    <tr>\n",
       "      <th>EWR</th>\n",
       "      <td>3041</td>\n",
       "      <td>120835</td>\n",
       "    </tr>\n",
       "    <tr>\n",
       "      <th>JFK</th>\n",
       "      <td>1958</td>\n",
       "      <td>111279</td>\n",
       "    </tr>\n",
       "    <tr>\n",
       "      <th>LGA</th>\n",
       "      <td>2945</td>\n",
       "      <td>104662</td>\n",
       "    </tr>\n",
       "  </tbody>\n",
       "</table>\n",
       "</div>"
      ],
      "text/plain": [
       "        planes  flights\n",
       "origin                 \n",
       "EWR       3041   120835\n",
       "JFK       1958   111279\n",
       "LGA       2945   104662"
      ]
     },
     "execution_count": 89,
     "metadata": {},
     "output_type": "execute_result"
    }
   ],
   "source": [
    "# group by origin airport\n",
    "destinations = flights.groupby(\"origin\")\n",
    "\n",
    "X = destinations.agg({\n",
    "    'tailnum': lambda x: len(x.unique()), # how many distinct planes?\n",
    "    'origin': 'count'\n",
    "})\n",
    "\n",
    "X.rename(columns={'tailnum': 'planes', 'origin': 'flights'})"
   ]
  },
  {
   "cell_type": "markdown",
   "metadata": {},
   "source": [
    "## Handling missing data\n",
    "The way in which Pandas handles missing values is constrained by its reliance on the NumPy package, which does not have a built-in notion of NA values for non-floating point data types. Without going into the technical discussions, Pandas essentially employs two already-existing Python null values for representing missing data: the special floating-point `NaN` value, and the Python `None` object. This has some side effects, but in practice it is generally a good way to represent missing data in most cases of interest.\n",
    "\n",
    "The first `NA` value used by Pandas is `None`, a Python singleton object that is often used for missing data in general Python code. Because it is a Python object, `None` cannot be used in any arbitrary NumPy/Pandas array, but only in arrays with `dtype=object` (i.e., arrays of Python objects). This essentially means that operations on the data will be done at the Python level (instead of the optimised NumPy C code), which generally means (much) slower.\n",
    "\n",
    "The use of Python objects in an array also means that if you perform aggregations like `sum()` or `min()` across an array with a `None` value, you will generally get an error."
   ]
  },
  {
   "cell_type": "code",
   "execution_count": 90,
   "metadata": {},
   "outputs": [
    {
     "name": "stdout",
     "output_type": "stream",
     "text": [
      "[1 None 3 4]\n"
     ]
    }
   ],
   "source": [
    "vals1 = np.array([1, None, 3, 4])\n",
    "print(vals1)\n",
    "\n",
    "# vals1.sum() # <---- this would generate an error - try uncommenting it!"
   ]
  },
  {
   "cell_type": "markdown",
   "metadata": {},
   "source": [
    "The other missing data representation, `NaN`, is a special floating-point value recognized by all systems that use the standard IEEE floating-point representation. NumPy detects `NaN` as a native floating-point type in the array: this array therefore supports the fast NumPy operations executed in compiled code. Pandas is built to handle `NaN` and `None` almost interchangeably, converting between them where appropriate.\n",
    "\n",
    "NumPy's `NaN` is like covid: highly contageous, and with the potential of being quite annoying in data analysis."
   ]
  },
  {
   "cell_type": "code",
   "execution_count": 91,
   "metadata": {},
   "outputs": [
    {
     "name": "stdout",
     "output_type": "stream",
     "text": [
      "nan\n"
     ]
    }
   ],
   "source": [
    "vals2 = np.array([1, np.nan, 3, 4]) \n",
    "\n",
    "\n",
    "print(vals2.mean()) # the presence of a missing value makes the results of mathematical operations also a missing value.\n"
   ]
  },
  {
   "cell_type": "code",
   "execution_count": 92,
   "metadata": {},
   "outputs": [
    {
     "data": {
      "text/plain": [
       "nan"
      ]
     },
     "execution_count": 92,
     "metadata": {},
     "output_type": "execute_result"
    }
   ],
   "source": [
    "1 + 2 + np.nan"
   ]
  },
  {
   "cell_type": "code",
   "execution_count": 93,
   "metadata": {},
   "outputs": [
    {
     "name": "stdout",
     "output_type": "stream",
     "text": [
      "1.0\n",
      "2.6666666666666665\n"
     ]
    }
   ],
   "source": [
    "# But there are NaN-resistent methods :)\n",
    "print(np.nanmin(vals2))\n",
    "print(np.nanmean(vals2))"
   ]
  },
  {
   "cell_type": "markdown",
   "metadata": {},
   "source": [
    "There are several useful methods for detecting, removing, and replacing missing values (`None` or `NaN`) in Pandas data structures. These are:\n",
    "  - `isnull()`, generates a boolean mask indicating missing values\n",
    "  - `notnull()`, generates a boolean mask indicating **non-**missing values\n",
    "  - `dropna()`, returns a filtered version of the data\n",
    "  - `fillna()`, returns a copy of the data with missing values filled or imputed"
   ]
  },
  {
   "cell_type": "code",
   "execution_count": 94,
   "metadata": {},
   "outputs": [
    {
     "data": {
      "text/html": [
       "<div>\n",
       "<style scoped>\n",
       "    .dataframe tbody tr th:only-of-type {\n",
       "        vertical-align: middle;\n",
       "    }\n",
       "\n",
       "    .dataframe tbody tr th {\n",
       "        vertical-align: top;\n",
       "    }\n",
       "\n",
       "    .dataframe thead th {\n",
       "        text-align: right;\n",
       "    }\n",
       "</style>\n",
       "<table border=\"1\" class=\"dataframe\">\n",
       "  <thead>\n",
       "    <tr style=\"text-align: right;\">\n",
       "      <th></th>\n",
       "      <th>Vals</th>\n",
       "      <th>Mask</th>\n",
       "      <th>NotMask</th>\n",
       "    </tr>\n",
       "  </thead>\n",
       "  <tbody>\n",
       "    <tr>\n",
       "      <th>336766</th>\n",
       "      <td>-20.0</td>\n",
       "      <td>False</td>\n",
       "      <td>True</td>\n",
       "    </tr>\n",
       "    <tr>\n",
       "      <th>336767</th>\n",
       "      <td>-16.0</td>\n",
       "      <td>False</td>\n",
       "      <td>True</td>\n",
       "    </tr>\n",
       "    <tr>\n",
       "      <th>336768</th>\n",
       "      <td>1.0</td>\n",
       "      <td>False</td>\n",
       "      <td>True</td>\n",
       "    </tr>\n",
       "    <tr>\n",
       "      <th>336769</th>\n",
       "      <td>-25.0</td>\n",
       "      <td>False</td>\n",
       "      <td>True</td>\n",
       "    </tr>\n",
       "    <tr>\n",
       "      <th>336770</th>\n",
       "      <td>NaN</td>\n",
       "      <td>True</td>\n",
       "      <td>False</td>\n",
       "    </tr>\n",
       "    <tr>\n",
       "      <th>336771</th>\n",
       "      <td>NaN</td>\n",
       "      <td>True</td>\n",
       "      <td>False</td>\n",
       "    </tr>\n",
       "    <tr>\n",
       "      <th>336772</th>\n",
       "      <td>NaN</td>\n",
       "      <td>True</td>\n",
       "      <td>False</td>\n",
       "    </tr>\n",
       "    <tr>\n",
       "      <th>336773</th>\n",
       "      <td>NaN</td>\n",
       "      <td>True</td>\n",
       "      <td>False</td>\n",
       "    </tr>\n",
       "    <tr>\n",
       "      <th>336774</th>\n",
       "      <td>NaN</td>\n",
       "      <td>True</td>\n",
       "      <td>False</td>\n",
       "    </tr>\n",
       "    <tr>\n",
       "      <th>336775</th>\n",
       "      <td>NaN</td>\n",
       "      <td>True</td>\n",
       "      <td>False</td>\n",
       "    </tr>\n",
       "  </tbody>\n",
       "</table>\n",
       "</div>"
      ],
      "text/plain": [
       "        Vals   Mask  NotMask\n",
       "336766 -20.0  False     True\n",
       "336767 -16.0  False     True\n",
       "336768   1.0  False     True\n",
       "336769 -25.0  False     True\n",
       "336770   NaN   True    False\n",
       "336771   NaN   True    False\n",
       "336772   NaN   True    False\n",
       "336773   NaN   True    False\n",
       "336774   NaN   True    False\n",
       "336775   NaN   True    False"
      ]
     },
     "execution_count": 94,
     "metadata": {},
     "output_type": "execute_result"
    }
   ],
   "source": [
    "tmp1 = flights.arr_delay.tail(10) # 10 last values of arr_delay\n",
    "tmp2 = flights.dep_time.tail(10).isnull()\n",
    "tmp3 = flights.dep_time.tail(10).notnull()\n",
    "pd.DataFrame({'Vals' : tmp1, 'Mask' : tmp2, 'NotMask' : tmp3})"
   ]
  },
  {
   "cell_type": "code",
   "execution_count": 95,
   "metadata": {},
   "outputs": [
    {
     "name": "stdout",
     "output_type": "stream",
     "text": [
      "336768     1.0\n",
      "336769   -25.0\n",
      "336770     NaN\n",
      "336771     NaN\n",
      "Name: arr_delay, dtype: float64\n"
     ]
    }
   ],
   "source": [
    "print(flights.arr_delay.tail(15)[7:11])"
   ]
  },
  {
   "cell_type": "code",
   "execution_count": 96,
   "metadata": {},
   "outputs": [
    {
     "name": "stdout",
     "output_type": "stream",
     "text": [
      "336768     1.0\n",
      "336769   -25.0\n",
      "Name: arr_delay, dtype: float64\n",
      "        air_time  arr_delay  distance\n",
      "0          227.0       11.0      1400\n",
      "1          227.0       20.0      1416\n",
      "2          160.0       33.0      1089\n",
      "3          183.0      -18.0      1576\n",
      "4          116.0      -25.0       762\n",
      "...          ...        ...       ...\n",
      "336771       NaN        NaN       213\n",
      "336772       NaN        NaN       198\n",
      "336773       NaN        NaN       764\n",
      "336774       NaN        NaN       419\n",
      "336775       NaN        NaN       431\n",
      "\n",
      "[336776 rows x 3 columns]\n",
      "        distance\n",
      "0           1400\n",
      "1           1416\n",
      "2           1089\n",
      "3           1576\n",
      "4            762\n",
      "...          ...\n",
      "336771       213\n",
      "336772       198\n",
      "336773       764\n",
      "336774       419\n",
      "336775       431\n",
      "\n",
      "[336776 rows x 1 columns]\n"
     ]
    }
   ],
   "source": [
    "print(flights.arr_delay.tail(15)[7:11].dropna())\n",
    "print(flights[['air_time','arr_delay','distance']])\n",
    "print(flights[['air_time','arr_delay','distance']].dropna(axis=1))\n",
    "# print(flights[['air_time','arr_delay','distance']].dropna(thresh=2))\n",
    "# print(flights[['air_time','arr_delay','distance']].dropna(how='any'))\n",
    "# print(flights[['air_time','arr_delay','distance']].dropna(how='all'))\n",
    "# print(flights)\n",
    "# Note: Alternatively, you can drop null values along a different axis (e.g., use `axis=1` to drop columns containing a null), \n",
    "# drop only rows/columns with all values missing (using option `how='all'`) or only those with more than a given number of nulls \n",
    "# (using option `thres`, e.g., `thres=5`)."
   ]
  },
  {
   "cell_type": "markdown",
   "metadata": {},
   "source": [
    "Using basic imputation routines:"
   ]
  },
  {
   "cell_type": "code",
   "execution_count": 97,
   "metadata": {},
   "outputs": [
    {
     "name": "stdout",
     "output_type": "stream",
     "text": [
      "0   -1.0\n",
      "1    0.0\n",
      "2    0.0\n",
      "3    2.0\n",
      "dtype: float64\n",
      "-----\n",
      "0   -1.0\n",
      "1   -1.0\n",
      "2   -1.0\n",
      "3    2.0\n",
      "dtype: float64\n",
      "-----\n",
      "0   -1.0\n",
      "1    2.0\n",
      "2    2.0\n",
      "3    2.0\n",
      "dtype: float64\n"
     ]
    },
    {
     "name": "stderr",
     "output_type": "stream",
     "text": [
      "C:\\Users\\olumi\\AppData\\Local\\Temp\\ipykernel_21240\\4026256958.py:4: FutureWarning: Series.fillna with 'method' is deprecated and will raise in a future version. Use obj.ffill() or obj.bfill() instead.\n",
      "  print(tmp1.fillna(method = 'ffill')) # forward-fill (uses last non-missing value)\n",
      "C:\\Users\\olumi\\AppData\\Local\\Temp\\ipykernel_21240\\4026256958.py:6: FutureWarning: Series.fillna with 'method' is deprecated and will raise in a future version. Use obj.ffill() or obj.bfill() instead.\n",
      "  print(tmp1.fillna(method = 'bfill')) # back-fill (uses next non-missing value)\n"
     ]
    }
   ],
   "source": [
    "tmp1 = pd.Series([-1, np.nan, None, 2])\n",
    "print(tmp1.fillna(0)) # fill with fixed value\n",
    "print(\"-----\")\n",
    "print(tmp1.fillna(method = 'ffill')) # forward-fill (uses last non-missing value)\n",
    "print(\"-----\")\n",
    "print(tmp1.fillna(method = 'bfill')) # back-fill (uses next non-missing value)"
   ]
  },
  {
   "cell_type": "markdown",
   "metadata": {},
   "source": [
    "***\n",
    "### **TO DO**\n",
    "(15 minutes)\n",
    "- Reload the flights data set from file \n",
    "- Remove column 'Unnamed: 0'.\n",
    "- Select only observations departing from airport 'JFK'.\n",
    "- Sort these observations by variables 'carrier', 'day' and 'hour'.\n",
    "- Calculate the mean delay on departure (variable 'dep_delay') and mean delay on arrival ('arr_delay') for each month. Make sure to write code that ignores missing data when performing these calculations. Print your results to screen.\n",
    "- Recalculate the mean delay on departure and mean delay on arrival, but this time grouped both by month and by 'carrier'. Print your results to screen."
   ]
  },
  {
   "cell_type": "code",
   "execution_count": 98,
   "metadata": {},
   "outputs": [
    {
     "data": {
      "text/plain": [
       "Index(['year', 'month', 'day', 'dep_time', 'sched_dep_time', 'dep_delay',\n",
       "       'arr_time', 'sched_arr_time', 'arr_delay', 'carrier', 'flight',\n",
       "       'tailnum', 'origin', 'dest', 'air_time', 'distance', 'hour', 'minute',\n",
       "       'time_hour'],\n",
       "      dtype='object')"
      ]
     },
     "execution_count": 98,
     "metadata": {},
     "output_type": "execute_result"
    }
   ],
   "source": [
    "flights=pd.read_csv('flights.csv')\n",
    "del flights['Unnamed: 0']\n",
    "flights.columns"
   ]
  },
  {
   "cell_type": "code",
   "execution_count": 99,
   "metadata": {
    "scrolled": true
   },
   "outputs": [
    {
     "name": "stdout",
     "output_type": "stream",
     "text": [
      "Index(['year', 'month', 'day', 'dep_time', 'sched_dep_time', 'dep_delay',\n",
      "       'arr_time', 'sched_arr_time', 'arr_delay', 'carrier', 'flight',\n",
      "       'tailnum', 'origin', 'dest', 'air_time', 'distance', 'hour', 'minute',\n",
      "       'time_hour'],\n",
      "      dtype='object')\n",
      "               dep_delay  arr_delay\n",
      "month carrier                      \n",
      "11    9E        8.672069   0.053486\n",
      "      AA        4.657547  -0.644886\n",
      "      B6        3.556860  -0.685174\n",
      "      DL        2.989551  -5.410241\n",
      "      EV       14.723214  13.285714\n",
      "      HA       -5.440000   2.320000\n",
      "      MQ        4.344209   2.414754\n",
      "      UA        5.233422  -0.707447\n",
      "      US        3.265517  -5.051724\n",
      "      VX       10.796491   9.753521\n",
      "12    9E       21.949949  14.470588\n",
      "      AA       14.146474   9.650679\n",
      "      B6       17.298529  19.660420\n",
      "      DL        9.703990   2.921744\n",
      "      EV       34.308642  32.530864\n",
      "      HA       -3.142857  -9.357143\n",
      "      MQ       14.689769  12.529118\n",
      "      UA        7.404255   3.584000\n",
      "      US        5.534296   3.794224\n",
      "      VX        6.993266   6.883162\n",
      "               dep_delay  arr_delay\n",
      "month carrier                      \n",
      "11    9E        8.672069   0.053486\n",
      "      AA        4.657547  -0.644886\n",
      "      B6        3.556860  -0.685174\n",
      "      DL        2.989551  -5.410241\n",
      "      EV       14.723214  13.285714\n",
      "      HA       -5.440000   2.320000\n",
      "      MQ        4.344209   2.414754\n",
      "      UA        5.233422  -0.707447\n",
      "      US        3.265517  -5.051724\n",
      "      VX       10.796491   9.753521\n",
      "12    9E       21.949949  14.470588\n",
      "      AA       14.146474   9.650679\n",
      "      B6       17.298529  19.660420\n",
      "      DL        9.703990   2.921744\n",
      "      EV       34.308642  32.530864\n",
      "      HA       -3.142857  -9.357143\n",
      "      MQ       14.689769  12.529118\n",
      "      UA        7.404255   3.584000\n",
      "      US        5.534296   3.794224\n",
      "      VX        6.993266   6.883162\n"
     ]
    }
   ],
   "source": [
    "print(flights.columns)\n",
    "jfk=flights[flights['origin']=='JFK']\n",
    "jfk=jfk.sort_values(by=['carrier','day','hour'])\n",
    "# print(jfk)\n",
    "monthly_jfk=jfk.groupby('month')\n",
    "# print(monthly_jfk.agg({'dep_delay': lambda x: np.nanmean(x), 'arr_delay':lambda x: np.nanmean(x)}))\n",
    "# print(monthly_jfk.agg({'dep_delay': 'mean', 'arr_delay':'mean'}))\n",
    "monthly_carrier_jfk=jfk.groupby(['month','carrier'])\n",
    "print(monthly_carrier_jfk.agg({'dep_delay': lambda x: np.nanmean(x), 'arr_delay':lambda x: np.nanmean(x)}).tail(20))\n",
    "print(monthly_carrier_jfk.agg({'dep_delay': 'mean', 'arr_delay':'mean'}).tail(20))\n",
    "# print(monthly_carrier_jfk.agg({'dep_delay': 'mean', 'arr_delay':'mean'}))"
   ]
  },
  {
   "cell_type": "code",
   "execution_count": 108,
   "metadata": {},
   "outputs": [
    {
     "data": {
      "text/plain": [
       "Index(['year', 'month', 'day', 'dep_time', 'sched_dep_time', 'dep_delay',\n",
       "       'arr_time', 'sched_arr_time', 'arr_delay', 'carrier', 'flight',\n",
       "       'tailnum', 'origin', 'dest', 'air_time', 'distance', 'hour', 'minute',\n",
       "       'time_hour'],\n",
       "      dtype='object')"
      ]
     },
     "execution_count": 108,
     "metadata": {},
     "output_type": "execute_result"
    }
   ],
   "source": [
    "#Quiz\n",
    "flights=pd.read_csv('flights.csv')\n",
    "del flights['Unnamed: 0']\n",
    "flights.columns"
   ]
  },
  {
   "cell_type": "code",
   "execution_count": 107,
   "metadata": {},
   "outputs": [
    {
     "name": "stdout",
     "output_type": "stream",
     "text": [
      "4\n"
     ]
    }
   ],
   "source": [
    "data=flights.query(\"month == 2 & day == 28 & year == 2013 & origin == 'LGA' & carrier == 'UA'\")\n",
    "len(data[data['dep_delay']>30])\n",
    "#or\n",
    "# ua_flights_from_lga = flights[\n",
    "#     (flights['carrier'] == 'UA') &\n",
    "#     (flights['origin'] == 'LGA') &\n",
    "#     (flights['year'] == 2013) &\n",
    "#     (flights['month'] == 2) &\n",
    "#     (flights['day'] == 28) &\n",
    "#     (flights['dep_delay'] > 30)\n",
    "# ]\n",
    "\n",
    "# Count the number of flights\n",
    "# number_of_flights = len(ua_flights_from_lga)\n",
    "# print(number_of_flights)"
   ]
  },
  {
   "cell_type": "code",
   "execution_count": 143,
   "metadata": {},
   "outputs": [
    {
     "data": {
      "text/plain": [
       "arr_delay    LEX\n",
       "dtype: object"
      ]
     },
     "execution_count": 143,
     "metadata": {},
     "output_type": "execute_result"
    }
   ],
   "source": [
    "\n",
    "data=flights.dropna(subset=['arr_delay'])\n",
    "# print(data)\n",
    "# grouped_data=data.groupby('dest').agg({'arr_delay': lambda x: x.mean()})\n",
    "grouped_data=data.groupby('dest').agg({'arr_delay': lambda x: np.nanmean(x)})\n",
    "grouped_data.sort_values(['arr_delay'])\n",
    "grouped_data.idxmin()\n"
   ]
  }
 ],
 "metadata": {
  "colab": {
   "collapsed_sections": [],
   "name": "CS3440 - Lab2.ipynb",
   "provenance": []
  },
  "kernelspec": {
   "display_name": "Python 3 (ipykernel)",
   "language": "python",
   "name": "python3"
  },
  "language_info": {
   "codemirror_mode": {
    "name": "ipython",
    "version": 3
   },
   "file_extension": ".py",
   "mimetype": "text/x-python",
   "name": "python",
   "nbconvert_exporter": "python",
   "pygments_lexer": "ipython3",
   "version": "3.9.18"
  }
 },
 "nbformat": 4,
 "nbformat_minor": 4
}
